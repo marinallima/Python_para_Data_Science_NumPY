{
  "nbformat": 4,
  "nbformat_minor": 0,
  "metadata": {
    "colab": {
      "provenance": []
    },
    "kernelspec": {
      "name": "python3",
      "display_name": "Python 3"
    },
    "language_info": {
      "name": "python"
    }
  },
  "cells": [
    {
      "cell_type": "markdown",
      "source": [
        "### Trabalhando com Arrays NumPy"
      ],
      "metadata": {
        "id": "DPAzg07eABbW"
      }
    },
    {
      "cell_type": "code",
      "source": [
        "import numpy as np"
      ],
      "metadata": {
        "id": "B4FGrBgkD1A5"
      },
      "execution_count": null,
      "outputs": []
    },
    {
      "cell_type": "code",
      "source": [
        "km = np.loadtxt(r'/carros-km.txt')"
      ],
      "metadata": {
        "id": "x58MqHm2EVOx"
      },
      "execution_count": null,
      "outputs": []
    },
    {
      "cell_type": "code",
      "source": [
        "km"
      ],
      "metadata": {
        "colab": {
          "base_uri": "https://localhost:8080/"
        },
        "id": "1QXmlCnBFTCS",
        "outputId": "47dc64ce-2983-49df-a921-4d009921cd17"
      },
      "execution_count": null,
      "outputs": [
        {
          "output_type": "execute_result",
          "data": {
            "text/plain": [
              "array([4.44100e+04, 5.71200e+03, 3.71230e+04, 0.00000e+00, 2.57570e+04,\n",
              "       1.07280e+04, 0.00000e+00, 7.75990e+04, 9.91970e+04, 3.79780e+04,\n",
              "       1.28590e+04, 8.05200e+03, 8.97730e+04, 0.00000e+00, 4.14570e+04,\n",
              "       1.15607e+05, 4.64490e+04, 0.00000e+00, 3.70860e+04, 1.51730e+04,\n",
              "       1.01193e+05, 0.00000e+00, 9.80790e+04, 1.02959e+05, 0.00000e+00,\n",
              "       0.00000e+00, 5.79500e+03, 0.00000e+00, 5.88480e+04, 9.43810e+04,\n",
              "       3.01630e+04, 5.33320e+04, 1.77200e+04, 3.38080e+04, 9.06840e+04,\n",
              "       4.39750e+04, 0.00000e+00, 0.00000e+00, 5.52600e+03, 0.00000e+00,\n",
              "       9.34150e+04, 4.07620e+04, 0.00000e+00, 8.63020e+04, 0.00000e+00,\n",
              "       9.75500e+03, 6.99450e+04, 2.39500e+03, 0.00000e+00, 8.03490e+04,\n",
              "       8.55540e+04, 5.04960e+04, 6.77160e+04, 9.39470e+04, 3.53450e+04,\n",
              "       8.10070e+04, 1.19513e+05, 0.00000e+00, 0.00000e+00, 0.00000e+00,\n",
              "       0.00000e+00, 0.00000e+00, 1.18895e+05, 4.85090e+04, 1.00912e+05,\n",
              "       9.56490e+04, 0.00000e+00, 9.04950e+04, 0.00000e+00, 2.91320e+04,\n",
              "       2.38020e+04, 8.49920e+04, 5.43950e+04, 2.67310e+04, 4.43290e+04,\n",
              "       1.18236e+05, 1.13808e+05, 6.10000e+02, 0.00000e+00, 0.00000e+00,\n",
              "       1.28870e+04, 7.96070e+04, 9.09240e+04, 4.27330e+04, 0.00000e+00,\n",
              "       0.00000e+00, 1.17714e+05, 1.13885e+05, 0.00000e+00, 3.05110e+04,\n",
              "       7.48670e+04, 1.19760e+05, 8.35600e+03, 6.42470e+04, 8.86610e+04,\n",
              "       4.53900e+03, 1.10116e+05, 3.32150e+04, 9.20010e+04, 0.00000e+00,\n",
              "       8.17080e+04, 7.06410e+04, 0.00000e+00, 9.12770e+04, 2.65440e+04,\n",
              "       5.25960e+04, 4.75030e+04, 8.90560e+04, 2.88340e+04, 1.10564e+05,\n",
              "       5.66380e+04, 1.73570e+04, 7.40150e+04, 1.51960e+04, 0.00000e+00,\n",
              "       1.08210e+04, 0.00000e+00, 0.00000e+00, 9.59500e+03, 9.90520e+04,\n",
              "       5.23890e+04, 1.19945e+05, 9.60050e+04, 3.16390e+04, 0.00000e+00,\n",
              "       8.01870e+04, 0.00000e+00, 5.82120e+04, 6.16720e+04, 3.20170e+04,\n",
              "       0.00000e+00, 5.69440e+04, 0.00000e+00, 8.65190e+04, 4.82100e+03,\n",
              "       1.01025e+05, 3.07050e+04, 0.00000e+00, 3.25550e+04, 1.03389e+05,\n",
              "       0.00000e+00, 5.52890e+04, 0.00000e+00, 0.00000e+00, 1.15930e+05,\n",
              "       6.64370e+04, 9.68000e+04, 1.42370e+04, 1.98960e+04, 1.13045e+05,\n",
              "       1.14942e+05, 3.17300e+03, 8.36110e+04, 2.53560e+04, 8.86340e+04,\n",
              "       2.31400e+03, 2.62700e+03, 5.20340e+04, 0.00000e+00, 0.00000e+00,\n",
              "       7.95770e+04, 1.08201e+05, 7.64530e+04, 5.76830e+04, 9.66100e+04,\n",
              "       1.09001e+05, 2.62120e+04, 4.59710e+04, 4.91820e+04, 4.99070e+04,\n",
              "       3.86200e+04, 6.09960e+04, 7.39140e+04, 1.07392e+05, 9.14600e+03,\n",
              "       0.00000e+00, 1.79240e+04, 0.00000e+00, 1.16949e+05, 2.04760e+04,\n",
              "       5.28040e+04, 8.84900e+03, 9.17240e+04, 3.20560e+04, 7.48860e+04,\n",
              "       0.00000e+00, 0.00000e+00, 5.21890e+04, 8.35590e+04, 0.00000e+00,\n",
              "       2.03280e+04, 0.00000e+00, 7.55770e+04, 3.36590e+04, 1.04341e+05,\n",
              "       2.55100e+04, 1.89650e+04, 8.71610e+04, 6.65200e+03, 5.57380e+04,\n",
              "       0.00000e+00, 0.00000e+00, 0.00000e+00, 6.43200e+04, 0.00000e+00,\n",
              "       6.86780e+04, 7.16970e+04, 0.00000e+00, 3.47830e+04, 3.37720e+04,\n",
              "       8.51270e+04, 1.36060e+04, 3.56470e+04, 9.51280e+04, 1.40460e+04,\n",
              "       4.11940e+04, 0.00000e+00, 9.61000e+04, 1.03900e+05, 4.38140e+04,\n",
              "       2.46380e+04, 0.00000e+00, 1.10966e+05, 1.59870e+04, 5.33690e+04,\n",
              "       1.00770e+04, 7.15440e+04, 1.07000e+02, 8.39400e+03, 4.14980e+04,\n",
              "       1.16002e+05, 1.00858e+05, 6.74750e+04, 8.49700e+03, 4.42000e+03,\n",
              "       0.00000e+00, 5.85370e+04, 0.00000e+00, 0.00000e+00, 1.12016e+05,\n",
              "       9.18400e+04, 1.12787e+05, 0.00000e+00, 0.00000e+00, 9.29300e+03,\n",
              "       0.00000e+00, 5.50830e+04, 4.87960e+04, 0.00000e+00, 8.96850e+04,\n",
              "       8.53840e+04, 9.81080e+04, 7.12800e+04, 2.75050e+04, 2.99810e+04,\n",
              "       5.26370e+04, 7.68500e+03, 5.01880e+04])"
            ]
          },
          "metadata": {},
          "execution_count": 11
        }
      ]
    },
    {
      "cell_type": "code",
      "source": [
        "anos = np.loadtxt(r'/carros-anos.txt', dtype = int)"
      ],
      "metadata": {
        "id": "LeGCkBPFFtXR"
      },
      "execution_count": null,
      "outputs": []
    },
    {
      "cell_type": "code",
      "source": [
        "anos"
      ],
      "metadata": {
        "colab": {
          "base_uri": "https://localhost:8080/"
        },
        "id": "gQX50A_tGAIJ",
        "outputId": "51984275-394b-49eb-b956-c6a63c120f52"
      },
      "execution_count": null,
      "outputs": [
        {
          "output_type": "execute_result",
          "data": {
            "text/plain": [
              "array([2003, 1991, 1990, 2019, 2006, 2012, 2019, 2009, 2010, 2011, 2002,\n",
              "       2007, 2001, 2019, 2009, 2016, 2012, 2019, 2016, 2017, 2002, 2019,\n",
              "       1994, 1991, 2019, 2019, 2016, 2019, 2002, 1991, 1997, 1995, 2018,\n",
              "       1991, 2014, 1995, 2019, 2019, 2009, 2019, 2013, 2003, 2019, 2002,\n",
              "       2019, 2002, 2004, 2001, 2019, 2003, 2009, 2006, 2000, 2006, 2010,\n",
              "       1994, 2007, 2019, 2019, 2019, 2019, 2019, 2017, 2011, 2001, 1996,\n",
              "       2019, 1994, 2019, 2007, 1994, 2007, 1997, 2006, 2013, 1994, 2008,\n",
              "       2008, 2019, 2019, 1999, 2007, 1993, 1995, 2019, 2019, 2016, 2011,\n",
              "       2019, 2002, 2013, 2017, 2016, 2008, 2018, 2003, 2003, 2004, 2010,\n",
              "       2019, 2006, 2001, 2019, 2015, 2018, 2017, 1992, 2001, 1993, 1995,\n",
              "       2003, 2014, 2008, 2013, 2019, 2017, 2019, 2019, 2006, 2015, 2007,\n",
              "       2005, 2017, 1998, 2019, 1999, 2019, 2009, 2003, 1994, 2019, 1994,\n",
              "       2019, 2015, 1996, 1997, 1993, 2019, 1992, 1995, 2019, 1990, 2019,\n",
              "       2019, 1991, 1990, 2012, 2007, 2013, 2000, 2002, 1996, 1996, 2015,\n",
              "       1993, 2013, 2013, 2009, 2019, 2019, 2002, 1997, 1998, 2004, 1996,\n",
              "       2015, 2016, 2005, 1999, 1995, 1993, 2004, 2013, 1998, 2018, 2019,\n",
              "       2018, 2019, 1990, 2009, 1990, 2006, 2002, 1991, 1992, 2019, 2019,\n",
              "       2005, 2010, 2019, 2016, 2019, 2010, 1994, 2001, 2014, 1996, 1993,\n",
              "       1993, 2001, 2019, 2019, 2019, 2007, 2019, 2016, 2014, 2019, 2015,\n",
              "       2015, 1996, 2002, 2005, 1995, 1999, 2005, 2019, 1997, 1990, 2001,\n",
              "       2013, 2019, 2017, 2011, 2005, 2007, 1993, 1991, 1991, 1997, 2000,\n",
              "       2007, 2006, 2015, 2008, 2019, 1996, 2019, 2019, 2014, 2004, 2008,\n",
              "       2019, 2019, 2012, 2019, 1996, 2011, 2019, 2010, 2007, 1994, 2007,\n",
              "       2014, 1991, 2002, 1996, 1992])"
            ]
          },
          "metadata": {},
          "execution_count": 15
        }
      ]
    },
    {
      "cell_type": "markdown",
      "source": [
        "## Obtendo a quilometragem média por ano"
      ],
      "metadata": {
        "id": "7w8dV3wxGZNU"
      }
    },
    {
      "cell_type": "code",
      "source": [
        "km_media = km/ (2019 - anos)"
      ],
      "metadata": {
        "colab": {
          "base_uri": "https://localhost:8080/"
        },
        "id": "brKwbH60GeV1",
        "outputId": "e5566c5f-fe1a-4180-ffa0-2fc1f8406041"
      },
      "execution_count": null,
      "outputs": [
        {
          "output_type": "stream",
          "name": "stderr",
          "text": [
            "<ipython-input-16-e17a11704894>:1: RuntimeWarning: invalid value encountered in true_divide\n",
            "  km_media = km/ (2019 - anos)\n"
          ]
        }
      ]
    },
    {
      "cell_type": "code",
      "source": [
        "km_media"
      ],
      "metadata": {
        "colab": {
          "base_uri": "https://localhost:8080/"
        },
        "id": "s2xpfKtKGlj7",
        "outputId": "2cfe8084-7ed9-4505-ae5a-5cf2c9d22a7c"
      },
      "execution_count": null,
      "outputs": [
        {
          "output_type": "execute_result",
          "data": {
            "text/plain": [
              "array([2.77562500e+03, 2.04000000e+02, 1.28010345e+03,            nan,\n",
              "       1.98130769e+03, 1.53257143e+03,            nan, 7.75990000e+03,\n",
              "       1.10218889e+04, 4.74725000e+03, 7.56411765e+02, 6.71000000e+02,\n",
              "       4.98738889e+03,            nan, 4.14570000e+03, 3.85356667e+04,\n",
              "       6.63557143e+03,            nan, 1.23620000e+04, 7.58650000e+03,\n",
              "       5.95252941e+03,            nan, 3.92316000e+03, 3.67710714e+03,\n",
              "                  nan,            nan, 1.93166667e+03,            nan,\n",
              "       3.46164706e+03, 3.37075000e+03, 1.37104545e+03, 2.22216667e+03,\n",
              "       1.77200000e+04, 1.20742857e+03, 1.81368000e+04, 1.83229167e+03,\n",
              "                  nan,            nan, 5.52600000e+02,            nan,\n",
              "       1.55691667e+04, 2.54762500e+03,            nan, 5.07658824e+03,\n",
              "                  nan, 5.73823529e+02, 4.66300000e+03, 1.33055556e+02,\n",
              "                  nan, 5.02181250e+03, 8.55540000e+03, 3.88430769e+03,\n",
              "       3.56400000e+03, 7.22669231e+03, 3.92722222e+03, 3.24028000e+03,\n",
              "       9.95941667e+03,            nan,            nan,            nan,\n",
              "                  nan,            nan, 5.94475000e+04, 6.06362500e+03,\n",
              "       5.60622222e+03, 4.15865217e+03,            nan, 3.61980000e+03,\n",
              "                  nan, 2.42766667e+03, 9.52080000e+02, 7.08266667e+03,\n",
              "       2.47250000e+03, 2.05623077e+03, 7.38816667e+03, 4.72944000e+03,\n",
              "       1.03461818e+04, 5.54545455e+01,            nan,            nan,\n",
              "       6.44350000e+02, 6.63391667e+03, 3.49707692e+03, 1.78054167e+03,\n",
              "                  nan,            nan, 3.92380000e+04, 1.42356250e+04,\n",
              "                  nan, 1.79476471e+03, 1.24778333e+04, 5.98800000e+04,\n",
              "       2.78533333e+03, 5.84063636e+03, 8.86610000e+04, 2.83687500e+02,\n",
              "       6.88225000e+03, 2.21433333e+03, 1.02223333e+04,            nan,\n",
              "       6.28523077e+03, 3.92450000e+03,            nan, 2.28192500e+04,\n",
              "       2.65440000e+04, 2.62980000e+04, 1.75937037e+03, 4.94755556e+03,\n",
              "       1.10900000e+03, 4.60683333e+03, 3.53987500e+03, 3.47140000e+03,\n",
              "       6.72863636e+03, 2.53266667e+03,            nan, 5.41050000e+03,\n",
              "                  nan,            nan, 7.38076923e+02, 2.47630000e+04,\n",
              "       4.36575000e+03, 8.56750000e+03, 4.80025000e+04, 1.50661905e+03,\n",
              "                  nan, 4.00935000e+03,            nan, 5.82120000e+03,\n",
              "       3.85450000e+03, 1.28068000e+03,            nan, 2.27776000e+03,\n",
              "                  nan, 2.16297500e+04, 2.09608696e+02, 4.59204545e+03,\n",
              "       1.18096154e+03,            nan, 1.20574074e+03, 4.30787500e+03,\n",
              "                  nan, 1.90651724e+03,            nan,            nan,\n",
              "       4.14035714e+03, 2.29093103e+03, 1.38285714e+04, 1.18641667e+03,\n",
              "       3.31600000e+03, 5.94973684e+03, 6.76129412e+03, 1.37956522e+02,\n",
              "       3.63526087e+03, 6.33900000e+03, 3.40900000e+03, 3.85666667e+02,\n",
              "       4.37833333e+02, 5.20340000e+03,            nan,            nan,\n",
              "       4.68100000e+03, 4.91822727e+03, 3.64061905e+03, 3.84553333e+03,\n",
              "       4.20043478e+03, 2.72502500e+04, 8.73733333e+03, 3.28364286e+03,\n",
              "       2.45910000e+03, 2.07945833e+03, 1.48538462e+03, 4.06640000e+03,\n",
              "       1.23190000e+04, 5.11390476e+03, 9.14600000e+03,            nan,\n",
              "       1.79240000e+04,            nan, 4.03272414e+03, 2.04760000e+03,\n",
              "       1.82082759e+03, 6.80692308e+02, 5.39552941e+03, 1.14485714e+03,\n",
              "       2.77355556e+03,            nan,            nan, 3.72778571e+03,\n",
              "       9.28433333e+03,            nan, 6.77600000e+03,            nan,\n",
              "       8.39744444e+03, 1.34636000e+03, 5.79672222e+03, 5.10200000e+03,\n",
              "       8.24565217e+02, 3.35234615e+03, 2.55846154e+02, 3.09655556e+03,\n",
              "                  nan,            nan,            nan, 5.36000000e+03,\n",
              "                  nan, 2.28926667e+04, 1.43394000e+04,            nan,\n",
              "       8.69575000e+03, 8.44300000e+03, 3.70117391e+03, 8.00352941e+02,\n",
              "       2.54621429e+03, 3.96366667e+03, 7.02300000e+02, 2.94242857e+03,\n",
              "                  nan, 4.36818182e+03, 3.58275862e+03, 2.43411111e+03,\n",
              "       4.10633333e+03,            nan, 5.54830000e+04, 1.99837500e+03,\n",
              "       3.81207143e+03, 8.39750000e+02, 2.75169231e+03, 3.82142857e+00,\n",
              "       2.99785714e+02, 1.88627273e+03, 6.10536842e+03, 8.40483333e+03,\n",
              "       5.19038462e+03, 2.12425000e+03, 4.01818182e+02,            nan,\n",
              "       2.54508696e+03,            nan,            nan, 2.24032000e+04,\n",
              "       6.12266667e+03, 1.02533636e+04,            nan,            nan,\n",
              "       1.32757143e+03,            nan, 2.39491304e+03, 6.09950000e+03,\n",
              "                  nan, 9.96500000e+03, 7.11533333e+03, 3.92432000e+03,\n",
              "       5.94000000e+03, 5.50100000e+03, 1.07075000e+03, 3.09629412e+03,\n",
              "       3.34130435e+02, 1.85881481e+03])"
            ]
          },
          "metadata": {},
          "execution_count": 17
        }
      ]
    },
    {
      "cell_type": "code",
      "source": [
        "type(km_media)"
      ],
      "metadata": {
        "colab": {
          "base_uri": "https://localhost:8080/"
        },
        "id": "kLzNEiehGzdZ",
        "outputId": "3255917f-9240-4d3e-e75c-4ac80d7a9ac4"
      },
      "execution_count": null,
      "outputs": [
        {
          "output_type": "execute_result",
          "data": {
            "text/plain": [
              "numpy.ndarray"
            ]
          },
          "metadata": {},
          "execution_count": 18
        }
      ]
    },
    {
      "cell_type": "markdown",
      "source": [
        "## Operações Matemáticas"
      ],
      "metadata": {
        "id": "vBkjK1OlHJy2"
      }
    },
    {
      "cell_type": "markdown",
      "source": [
        "Adição"
      ],
      "metadata": {
        "id": "8SLsTxvlHZNB"
      }
    },
    {
      "cell_type": "code",
      "source": [
        "5+5"
      ],
      "metadata": {
        "colab": {
          "base_uri": "https://localhost:8080/"
        },
        "id": "fiqlgv8NHbpT",
        "outputId": "ec39abc3-db86-452e-8603-5d4dc6ef16da"
      },
      "execution_count": null,
      "outputs": [
        {
          "output_type": "execute_result",
          "data": {
            "text/plain": [
              "10"
            ]
          },
          "metadata": {},
          "execution_count": 19
        }
      ]
    },
    {
      "cell_type": "markdown",
      "source": [
        "Subtração (-)"
      ],
      "metadata": {
        "id": "zuztE5VsHlgb"
      }
    },
    {
      "cell_type": "code",
      "source": [
        "20-10"
      ],
      "metadata": {
        "colab": {
          "base_uri": "https://localhost:8080/"
        },
        "id": "DZlejMdWHo6q",
        "outputId": "4def4134-a7d6-491e-e26c-99f17cf0fec6"
      },
      "execution_count": null,
      "outputs": [
        {
          "output_type": "execute_result",
          "data": {
            "text/plain": [
              "10"
            ]
          },
          "metadata": {},
          "execution_count": 20
        }
      ]
    },
    {
      "cell_type": "markdown",
      "source": [
        "Multiplicação (*)"
      ],
      "metadata": {
        "id": "OQBxjVO8Hu71"
      }
    },
    {
      "cell_type": "code",
      "source": [
        "100*50"
      ],
      "metadata": {
        "colab": {
          "base_uri": "https://localhost:8080/"
        },
        "id": "VL_0X3SaHxxe",
        "outputId": "15c3cacf-c20b-4464-a2e4-3200d229df80"
      },
      "execution_count": null,
      "outputs": [
        {
          "output_type": "execute_result",
          "data": {
            "text/plain": [
              "5000"
            ]
          },
          "metadata": {},
          "execution_count": 21
        }
      ]
    },
    {
      "cell_type": "markdown",
      "source": [
        "Divisão (/) e (//)\n",
        "A operação divisão sempre retorna um número de ponto flutuante.\n",
        "(//) Dá somente a parte inteira"
      ],
      "metadata": {
        "id": "263NoPxIH2vZ"
      }
    },
    {
      "cell_type": "code",
      "source": [
        "10/3"
      ],
      "metadata": {
        "colab": {
          "base_uri": "https://localhost:8080/"
        },
        "id": "xbHCH4ZRH6fX",
        "outputId": "35f0b0a9-8a28-4381-a9fc-45d71d5cf2a6"
      },
      "execution_count": null,
      "outputs": [
        {
          "output_type": "execute_result",
          "data": {
            "text/plain": [
              "3.3333333333333335"
            ]
          },
          "metadata": {},
          "execution_count": 22
        }
      ]
    },
    {
      "cell_type": "code",
      "source": [
        "10//3"
      ],
      "metadata": {
        "colab": {
          "base_uri": "https://localhost:8080/"
        },
        "id": "lMANRyW9ILDC",
        "outputId": "d6f887d3-bb54-43c9-98ec-d079d7ab5355"
      },
      "execution_count": null,
      "outputs": [
        {
          "output_type": "execute_result",
          "data": {
            "text/plain": [
              "3"
            ]
          },
          "metadata": {},
          "execution_count": 23
        }
      ]
    },
    {
      "cell_type": "markdown",
      "source": [
        "Exponenciação (**)"
      ],
      "metadata": {
        "id": "WMXt-ERgIM6x"
      }
    },
    {
      "cell_type": "code",
      "source": [
        "2**3"
      ],
      "metadata": {
        "colab": {
          "base_uri": "https://localhost:8080/"
        },
        "id": "YhkXnFDwISHl",
        "outputId": "c3d81434-1eee-4873-ae7a-b31530daa097"
      },
      "execution_count": null,
      "outputs": [
        {
          "output_type": "execute_result",
          "data": {
            "text/plain": [
              "8"
            ]
          },
          "metadata": {},
          "execution_count": 24
        }
      ]
    },
    {
      "cell_type": "markdown",
      "source": [
        "Resto da divisão (%)"
      ],
      "metadata": {
        "id": "bf5dv4S6IWIv"
      }
    },
    {
      "cell_type": "code",
      "source": [
        "10 % 3"
      ],
      "metadata": {
        "colab": {
          "base_uri": "https://localhost:8080/"
        },
        "id": "fF8n8pYyIaO9",
        "outputId": "73b172f3-c4db-4feb-ac86-fbb07a0e39cc"
      },
      "execution_count": null,
      "outputs": [
        {
          "output_type": "execute_result",
          "data": {
            "text/plain": [
              "1"
            ]
          },
          "metadata": {},
          "execution_count": 25
        }
      ]
    },
    {
      "cell_type": "code",
      "source": [
        "10 % 2"
      ],
      "metadata": {
        "colab": {
          "base_uri": "https://localhost:8080/"
        },
        "id": "esqRSez4IgbE",
        "outputId": "1bc9cd72-807f-444f-8535-cce1e2fa4d7b"
      },
      "execution_count": null,
      "outputs": [
        {
          "output_type": "execute_result",
          "data": {
            "text/plain": [
              "0"
            ]
          },
          "metadata": {},
          "execution_count": 26
        }
      ]
    },
    {
      "cell_type": "markdown",
      "source": [
        "Expressões Matemáticas"
      ],
      "metadata": {
        "id": "rnveebxgIjxD"
      }
    },
    {
      "cell_type": "code",
      "source": [
        "5 * 2 + 3 * 2"
      ],
      "metadata": {
        "colab": {
          "base_uri": "https://localhost:8080/"
        },
        "id": "JvSuJy_nIm2Q",
        "outputId": "d2686011-65f9-46af-ac20-438bf5265e09"
      },
      "execution_count": null,
      "outputs": [
        {
          "output_type": "execute_result",
          "data": {
            "text/plain": [
              "16"
            ]
          },
          "metadata": {},
          "execution_count": 27
        }
      ]
    },
    {
      "cell_type": "code",
      "source": [
        "(5 * 2) + (3 * 2)"
      ],
      "metadata": {
        "colab": {
          "base_uri": "https://localhost:8080/"
        },
        "id": "egazyxzVIulI",
        "outputId": "28ea991c-84ae-43fc-ddec-b955ebf167f0"
      },
      "execution_count": null,
      "outputs": [
        {
          "output_type": "execute_result",
          "data": {
            "text/plain": [
              "16"
            ]
          },
          "metadata": {},
          "execution_count": 28
        }
      ]
    },
    {
      "cell_type": "code",
      "source": [
        "5 * (2 + 3) * 2"
      ],
      "metadata": {
        "colab": {
          "base_uri": "https://localhost:8080/"
        },
        "id": "MU1O7Nn-I1_X",
        "outputId": "40dfb13f-6998-4c92-c708-960d75cb2a48"
      },
      "execution_count": null,
      "outputs": [
        {
          "output_type": "execute_result",
          "data": {
            "text/plain": [
              "50"
            ]
          },
          "metadata": {},
          "execution_count": 29
        }
      ]
    },
    {
      "cell_type": "markdown",
      "source": [
        "A variável _ Underscore\n",
        "No modo interativo, o último resultado impresso é atribuído à variável _"
      ],
      "metadata": {
        "id": "rRTowKDBI_Ul"
      }
    },
    {
      "cell_type": "code",
      "source": [
        "_"
      ],
      "metadata": {
        "colab": {
          "base_uri": "https://localhost:8080/"
        },
        "id": "IkW2FZcvJJ92",
        "outputId": "7da65008-fa51-49d2-92d6-bc2a21b6bf22"
      },
      "execution_count": null,
      "outputs": [
        {
          "output_type": "execute_result",
          "data": {
            "text/plain": [
              "50"
            ]
          },
          "metadata": {},
          "execution_count": 30
        }
      ]
    },
    {
      "cell_type": "code",
      "source": [
        "5 * 2"
      ],
      "metadata": {
        "colab": {
          "base_uri": "https://localhost:8080/"
        },
        "id": "gnsnI1CRJNka",
        "outputId": "f8ba66dd-7799-488c-ba28-bba15de10133"
      },
      "execution_count": null,
      "outputs": [
        {
          "output_type": "execute_result",
          "data": {
            "text/plain": [
              "10"
            ]
          },
          "metadata": {},
          "execution_count": 31
        }
      ]
    },
    {
      "cell_type": "code",
      "source": [
        "_ + 3 * 2"
      ],
      "metadata": {
        "colab": {
          "base_uri": "https://localhost:8080/"
        },
        "id": "A08BpN3hJWMH",
        "outputId": "86897478-0445-43ba-8009-76ed8cd2c206"
      },
      "execution_count": null,
      "outputs": [
        {
          "output_type": "execute_result",
          "data": {
            "text/plain": [
              "16"
            ]
          },
          "metadata": {},
          "execution_count": 32
        }
      ]
    },
    {
      "cell_type": "code",
      "source": [
        "_ / 2"
      ],
      "metadata": {
        "colab": {
          "base_uri": "https://localhost:8080/"
        },
        "id": "J_MTbwMIJbFK",
        "outputId": "b4c71eb4-7c1c-4b03-d645-4f0e5e2c64a7"
      },
      "execution_count": null,
      "outputs": [
        {
          "output_type": "execute_result",
          "data": {
            "text/plain": [
              "8.0"
            ]
          },
          "metadata": {},
          "execution_count": 33
        }
      ]
    },
    {
      "cell_type": "markdown",
      "source": [
        "## Variáveis"
      ],
      "metadata": {
        "id": "W1YgLsqoJmuD"
      }
    },
    {
      "cell_type": "markdown",
      "source": [
        "### Nomes de variáveis\n",
        "\n",
        "- Nomes de variáveis pode começar com letras (a - z, A - Z) ou o caractere *underscore* (_):\n",
        "\n",
        "    > Altura\n",
        "    >\n",
        "    > _peso\n",
        "    \n",
        "- O restante do nome pode conter letras, números e o caractere \"_\":\n",
        "\n",
        "    > nome_da_variavel\n",
        "    >\n",
        "    > _valor\n",
        "    >\n",
        "    > dia_28_11_\n",
        "    \n",
        "\n",
        "- O nomes são *case sensitive*:\n",
        "\n",
        "    > Nome_Da_Variável $\\ne$ nome_da_variavel $\\ne$ NOME_DA_VARIAVEL\n",
        "    \n",
        "### <font color=red>Observações:\n",
        "- Existem algumas palavras reservadas da linguagem que não podem ser utilizadas como nomes de variável:\n",
        "\n",
        "| |Lista de palavras <br>reservadas em Python| |\n",
        "|:-------------:|:------------:|:-------------:|\n",
        "| and           | as           | not           | \n",
        "| assert        | finally      | or            | \n",
        "| break         | for          | pass          | \n",
        "| class         | from         | nonlocal      | \n",
        "| continue      | global       | raise         | \n",
        "| def           | if           | return        | \n",
        "| del           | import       | try           | \n",
        "| elif          | in           | while         | \n",
        "| else          | is           | with          | \n",
        "| except        | lambda       | yield         | \n",
        "| False         | True         | None          | "
      ],
      "metadata": {
        "id": "6_sbMQz2KvCg"
      }
    },
    {
      "cell_type": "markdown",
      "source": [
        "### Declaração de variáveis\n",
        "\n",
        "### Operadores de atribuição: $=$, $+=$, $-=$, $*=$, $/=$, $**=$, $\\%=$, $//=$"
      ],
      "metadata": {
        "id": "-JVotCkTK5mI"
      }
    },
    {
      "cell_type": "code",
      "source": [
        "ano_atual = 2019\n",
        "ano_fabricacao = 2003\n",
        "km_total = 44410.0"
      ],
      "metadata": {
        "id": "BfBfXFFAKxE4"
      },
      "execution_count": null,
      "outputs": []
    },
    {
      "cell_type": "code",
      "source": [
        "ano_atual"
      ],
      "metadata": {
        "colab": {
          "base_uri": "https://localhost:8080/"
        },
        "id": "6SGt9GEUTU4x",
        "outputId": "dc457ef2-2e5e-4cf8-9be1-19f833d83b68"
      },
      "execution_count": null,
      "outputs": [
        {
          "output_type": "execute_result",
          "data": {
            "text/plain": [
              "2019"
            ]
          },
          "metadata": {},
          "execution_count": 39
        }
      ]
    },
    {
      "cell_type": "code",
      "source": [
        "ano_fabricacao"
      ],
      "metadata": {
        "colab": {
          "base_uri": "https://localhost:8080/"
        },
        "id": "XrCEs1rjTXVr",
        "outputId": "60e45009-cdcd-4017-afbf-1bb3350f03d4"
      },
      "execution_count": null,
      "outputs": [
        {
          "output_type": "execute_result",
          "data": {
            "text/plain": [
              "2003"
            ]
          },
          "metadata": {},
          "execution_count": 40
        }
      ]
    },
    {
      "cell_type": "code",
      "source": [
        "km_total"
      ],
      "metadata": {
        "colab": {
          "base_uri": "https://localhost:8080/"
        },
        "id": "aQ_yIHYmTmlI",
        "outputId": "6c7f9fc0-6bda-4a3b-c7fe-715831b72dbb"
      },
      "execution_count": null,
      "outputs": [
        {
          "output_type": "execute_result",
          "data": {
            "text/plain": [
              "44410.0"
            ]
          },
          "metadata": {},
          "execution_count": 41
        }
      ]
    },
    {
      "cell_type": "markdown",
      "source": [
        "![imagemmmmmmmmm.PNG](data:image/png;base64,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)"
      ],
      "metadata": {
        "id": "JqrecaowUHtJ"
      }
    },
    {
      "cell_type": "markdown",
      "source": [
        "Operações com variáveis"
      ],
      "metadata": {
        "id": "MCiByTZdVKN1"
      }
    },
    {
      "cell_type": "code",
      "source": [
        "km_media = km_total / (ano_atual - ano_fabricacao)\n",
        "km_media"
      ],
      "metadata": {
        "colab": {
          "base_uri": "https://localhost:8080/"
        },
        "id": "2kWFoH-XVMkI",
        "outputId": "e734ed64-45ce-4cbc-da26-a8a6867295d2"
      },
      "execution_count": null,
      "outputs": [
        {
          "output_type": "execute_result",
          "data": {
            "text/plain": [
              "2949.1015625"
            ]
          },
          "metadata": {},
          "execution_count": 48
        }
      ]
    },
    {
      "cell_type": "code",
      "source": [
        "ano_atual = 2019\n",
        "ano_fabricacao = 2003\n",
        "km_total = 44410.0\n",
        "km_media = km_total / (ano_atual - ano_fabricacao)\n",
        "km_media\n"
      ],
      "metadata": {
        "colab": {
          "base_uri": "https://localhost:8080/"
        },
        "id": "K3Lq_HZCVXnO",
        "outputId": "db8b762a-c190-4c27-bf15-754dfdf08ba1"
      },
      "execution_count": null,
      "outputs": [
        {
          "output_type": "execute_result",
          "data": {
            "text/plain": [
              "2775.625"
            ]
          },
          "metadata": {},
          "execution_count": 49
        }
      ]
    },
    {
      "cell_type": "code",
      "source": [
        "ano_atual = 2019\n",
        "ano_fabricacao = 2003\n",
        "km_total = 44410.0\n",
        "km_media = km_total / (ano_atual - ano_fabricacao)\n",
        "\n",
        "km_total = km_total + km_media\n",
        "km_total"
      ],
      "metadata": {
        "colab": {
          "base_uri": "https://localhost:8080/"
        },
        "id": "gwRCA1PwVsoY",
        "outputId": "6de0120b-2f68-4ae7-f981-e7b37190e5f4"
      },
      "execution_count": null,
      "outputs": [
        {
          "output_type": "execute_result",
          "data": {
            "text/plain": [
              "47185.625"
            ]
          },
          "metadata": {},
          "execution_count": 50
        }
      ]
    },
    {
      "cell_type": "code",
      "source": [
        "ano_atual = 2019\n",
        "ano_fabricacao = 2003\n",
        "km_total = 44410.0\n",
        "km_media = km_total / (ano_atual - ano_fabricacao)\n",
        "\n",
        "km_total += km_media\n",
        "km_total"
      ],
      "metadata": {
        "colab": {
          "base_uri": "https://localhost:8080/"
        },
        "id": "LxvdIlMXWLm9",
        "outputId": "64007cd1-e463-4969-ebab-d5f0f165f87a"
      },
      "execution_count": null,
      "outputs": [
        {
          "output_type": "execute_result",
          "data": {
            "text/plain": [
              "47185.625"
            ]
          },
          "metadata": {},
          "execution_count": 51
        }
      ]
    },
    {
      "cell_type": "markdown",
      "source": [
        "Conclusão:\n",
        "\n",
        "\"valor = valor + 1\" é equivalente a \"valor += 1\""
      ],
      "metadata": {
        "id": "SyWGAdcJWsiR"
      }
    },
    {
      "cell_type": "markdown",
      "source": [
        "Declaração Múltipla:"
      ],
      "metadata": {
        "id": "b5UjVvIuXAt7"
      }
    },
    {
      "cell_type": "code",
      "source": [
        "ano_atual, ano_fabricacao, km_total = 2019, 2003, 44410.0"
      ],
      "metadata": {
        "id": "Uz9f54BAXDZs"
      },
      "execution_count": null,
      "outputs": []
    },
    {
      "cell_type": "code",
      "source": [
        "ano_atual"
      ],
      "metadata": {
        "colab": {
          "base_uri": "https://localhost:8080/"
        },
        "id": "AWpzFBeRXQA4",
        "outputId": "91acc47c-0548-4a77-e4ad-b7261a9420c1"
      },
      "execution_count": null,
      "outputs": [
        {
          "output_type": "execute_result",
          "data": {
            "text/plain": [
              "2019"
            ]
          },
          "metadata": {},
          "execution_count": 53
        }
      ]
    },
    {
      "cell_type": "code",
      "source": [
        "ano_fabricacao"
      ],
      "metadata": {
        "colab": {
          "base_uri": "https://localhost:8080/"
        },
        "id": "f7UHmtUfXYqF",
        "outputId": "a7862f62-1aee-4620-9459-ab2602723b23"
      },
      "execution_count": null,
      "outputs": [
        {
          "output_type": "execute_result",
          "data": {
            "text/plain": [
              "2003"
            ]
          },
          "metadata": {},
          "execution_count": 54
        }
      ]
    },
    {
      "cell_type": "code",
      "source": [
        "km_total"
      ],
      "metadata": {
        "colab": {
          "base_uri": "https://localhost:8080/"
        },
        "id": "hzy8XkgcXalX",
        "outputId": "cec4f296-b43b-4246-d35d-6ff6746ba765"
      },
      "execution_count": null,
      "outputs": [
        {
          "output_type": "execute_result",
          "data": {
            "text/plain": [
              "44410.0"
            ]
          },
          "metadata": {},
          "execution_count": 55
        }
      ]
    },
    {
      "cell_type": "code",
      "source": [
        "ano_atual, ano_fabricacao, km_total = 2019, 2003, 44410.0\n",
        "km_media = km_total / (ano_atual - ano_fabricacao)\n",
        "km_media\n"
      ],
      "metadata": {
        "colab": {
          "base_uri": "https://localhost:8080/"
        },
        "id": "UpneVnxEX0hW",
        "outputId": "753af3db-650e-4212-8f39-bc142b75ac3d"
      },
      "execution_count": null,
      "outputs": [
        {
          "output_type": "execute_result",
          "data": {
            "text/plain": [
              "2775.625"
            ]
          },
          "metadata": {},
          "execution_count": 56
        }
      ]
    },
    {
      "cell_type": "markdown",
      "source": [
        "#Tipos de Dados"
      ],
      "metadata": {
        "id": "odk9OjJfaasT"
      }
    },
    {
      "cell_type": "markdown",
      "source": [
        "Os tipos de dados especificam como números e caracteres serão armazenados e manipulados dentro de um programa. Os tipos de dados básicos do Python são:\n",
        "\n",
        "1. **Números**\n",
        "    1. ***int*** - Inteiros\n",
        "    - ***float*** - Ponto flutuante\n",
        "- **Booleanos** - Assume os valores True ou False. Essencial quando começarmos a trabalhar com declarações condicionais\n",
        "- ***Strings*** - Sequência de um ou mais caracteres que pode incluir letras, números e outros tipos de caracteres. Representa um texto.\n",
        "- **None** - Representa a ausência de valor"
      ],
      "metadata": {
        "id": "Q2Zg4NQxag4W"
      }
    },
    {
      "cell_type": "markdown",
      "source": [
        "Números"
      ],
      "metadata": {
        "id": "ukDoCYIca3V5"
      }
    },
    {
      "cell_type": "code",
      "source": [
        "ano_atual = 2019"
      ],
      "metadata": {
        "id": "gXVRQ0X8a4oy"
      },
      "execution_count": null,
      "outputs": []
    },
    {
      "cell_type": "code",
      "source": [
        "type(ano_atual)"
      ],
      "metadata": {
        "colab": {
          "base_uri": "https://localhost:8080/"
        },
        "id": "9yTOEPNJa6is",
        "outputId": "56dc8e7d-6793-4f62-ddce-a3b73c858ed1"
      },
      "execution_count": null,
      "outputs": [
        {
          "output_type": "execute_result",
          "data": {
            "text/plain": [
              "int"
            ]
          },
          "metadata": {},
          "execution_count": 59
        }
      ]
    },
    {
      "cell_type": "code",
      "source": [
        "km_total = 44410.0"
      ],
      "metadata": {
        "id": "yI-cZcFLa83v"
      },
      "execution_count": null,
      "outputs": []
    },
    {
      "cell_type": "code",
      "source": [
        "type(km_total)"
      ],
      "metadata": {
        "colab": {
          "base_uri": "https://localhost:8080/"
        },
        "id": "BqiJbUWkbGVO",
        "outputId": "e32728e4-cc02-4683-84ae-ebd4d6beec39"
      },
      "execution_count": null,
      "outputs": [
        {
          "output_type": "execute_result",
          "data": {
            "text/plain": [
              "float"
            ]
          },
          "metadata": {},
          "execution_count": 61
        }
      ]
    },
    {
      "cell_type": "markdown",
      "source": [
        "Booleanos"
      ],
      "metadata": {
        "id": "2kXFR9_0bQcw"
      }
    },
    {
      "cell_type": "code",
      "source": [
        "zero_km = True"
      ],
      "metadata": {
        "id": "zt_KYW1XbRzk"
      },
      "execution_count": null,
      "outputs": []
    },
    {
      "cell_type": "code",
      "source": [
        "type(zero_km)"
      ],
      "metadata": {
        "colab": {
          "base_uri": "https://localhost:8080/"
        },
        "id": "w2XkDvHLbVls",
        "outputId": "98d9c05e-806b-4b50-bf2f-f976a45f43d1"
      },
      "execution_count": null,
      "outputs": [
        {
          "output_type": "execute_result",
          "data": {
            "text/plain": [
              "bool"
            ]
          },
          "metadata": {},
          "execution_count": 63
        }
      ]
    },
    {
      "cell_type": "code",
      "source": [
        "zero_km = False"
      ],
      "metadata": {
        "id": "DQ11LXA0bajZ"
      },
      "execution_count": null,
      "outputs": []
    },
    {
      "cell_type": "code",
      "source": [
        "type(zero_km)"
      ],
      "metadata": {
        "colab": {
          "base_uri": "https://localhost:8080/"
        },
        "id": "hhj_JPwibdfF",
        "outputId": "6b9fd669-0fbf-45ed-856d-61fb4393ddb1"
      },
      "execution_count": null,
      "outputs": [
        {
          "output_type": "execute_result",
          "data": {
            "text/plain": [
              "bool"
            ]
          },
          "metadata": {},
          "execution_count": 65
        }
      ]
    },
    {
      "cell_type": "markdown",
      "source": [
        "Strings"
      ],
      "metadata": {
        "id": "3HJjHRULboJ6"
      }
    },
    {
      "cell_type": "code",
      "source": [
        "nome = 'Jetta Variant'\n",
        "nome"
      ],
      "metadata": {
        "colab": {
          "base_uri": "https://localhost:8080/",
          "height": 35
        },
        "id": "y_GH034FbpJh",
        "outputId": "1d06970e-0de1-4c30-ff57-53e583489beb"
      },
      "execution_count": null,
      "outputs": [
        {
          "output_type": "execute_result",
          "data": {
            "text/plain": [
              "'Jetta Variant'"
            ],
            "application/vnd.google.colaboratory.intrinsic+json": {
              "type": "string"
            }
          },
          "metadata": {},
          "execution_count": 68
        }
      ]
    },
    {
      "cell_type": "code",
      "source": [
        "nome = 'Jetta \"Variant\"'\n",
        "nome"
      ],
      "metadata": {
        "colab": {
          "base_uri": "https://localhost:8080/",
          "height": 35
        },
        "id": "8x_w4jd8bxfc",
        "outputId": "b6364404-a5c8-453e-faa3-373dc4a0d710"
      },
      "execution_count": null,
      "outputs": [
        {
          "output_type": "execute_result",
          "data": {
            "text/plain": [
              "'Jetta \"Variant\"'"
            ],
            "application/vnd.google.colaboratory.intrinsic+json": {
              "type": "string"
            }
          },
          "metadata": {},
          "execution_count": 69
        }
      ]
    },
    {
      "cell_type": "code",
      "source": [
        "carro = '''\n",
        "  Nome\n",
        "  Idade\n",
        "  Nota\n",
        "'''\n"
      ],
      "metadata": {
        "id": "020Ei6GtcBWF"
      },
      "execution_count": null,
      "outputs": []
    },
    {
      "cell_type": "code",
      "source": [
        "type(carro)"
      ],
      "metadata": {
        "colab": {
          "base_uri": "https://localhost:8080/"
        },
        "id": "CY5hxO5Sp1AM",
        "outputId": "d57e3b66-4c53-4960-ced0-1d231b8cecff"
      },
      "execution_count": null,
      "outputs": [
        {
          "output_type": "execute_result",
          "data": {
            "text/plain": [
              "str"
            ]
          },
          "metadata": {},
          "execution_count": 4
        }
      ]
    },
    {
      "cell_type": "markdown",
      "source": [
        "None"
      ],
      "metadata": {
        "id": "dLqnEKFup-CU"
      }
    },
    {
      "cell_type": "code",
      "source": [
        "quilometragem = None\n",
        "quilometragem"
      ],
      "metadata": {
        "id": "3FTMI31Wp-9k"
      },
      "execution_count": null,
      "outputs": []
    },
    {
      "cell_type": "code",
      "source": [
        "type(quilometragem)"
      ],
      "metadata": {
        "colab": {
          "base_uri": "https://localhost:8080/"
        },
        "id": "njfSzsA8qCh2",
        "outputId": "13475a52-6762-4464-d62d-2e83450b96e5"
      },
      "execution_count": null,
      "outputs": [
        {
          "output_type": "execute_result",
          "data": {
            "text/plain": [
              "NoneType"
            ]
          },
          "metadata": {},
          "execution_count": 6
        }
      ]
    },
    {
      "cell_type": "markdown",
      "source": [
        "Conversão de Tipos"
      ],
      "metadata": {
        "id": "GhBAnUgDqH9a"
      }
    },
    {
      "cell_type": "code",
      "source": [
        "a = 10\n",
        "b = 20\n",
        "c = 'Python é '\n",
        "d = 'legal'"
      ],
      "metadata": {
        "id": "hMIzGZ63qJy6"
      },
      "execution_count": null,
      "outputs": []
    },
    {
      "cell_type": "code",
      "source": [
        "type(a)"
      ],
      "metadata": {
        "colab": {
          "base_uri": "https://localhost:8080/"
        },
        "id": "EmX1LVQOqYSD",
        "outputId": "88311810-e9ab-4dcf-96bd-519dc9eb8306"
      },
      "execution_count": null,
      "outputs": [
        {
          "output_type": "execute_result",
          "data": {
            "text/plain": [
              "int"
            ]
          },
          "metadata": {},
          "execution_count": 8
        }
      ]
    },
    {
      "cell_type": "code",
      "source": [
        "type(b)"
      ],
      "metadata": {
        "colab": {
          "base_uri": "https://localhost:8080/"
        },
        "id": "6vYDqeTYqcdS",
        "outputId": "aa600977-1196-42a4-f9ef-06e5f5ff0faa"
      },
      "execution_count": null,
      "outputs": [
        {
          "output_type": "execute_result",
          "data": {
            "text/plain": [
              "int"
            ]
          },
          "metadata": {},
          "execution_count": 9
        }
      ]
    },
    {
      "cell_type": "code",
      "source": [
        "type(c)"
      ],
      "metadata": {
        "colab": {
          "base_uri": "https://localhost:8080/"
        },
        "id": "ou2M8As0qd1q",
        "outputId": "b4bdb7e8-8c52-46da-af6d-0314120b1047"
      },
      "execution_count": null,
      "outputs": [
        {
          "output_type": "execute_result",
          "data": {
            "text/plain": [
              "str"
            ]
          },
          "metadata": {},
          "execution_count": 10
        }
      ]
    },
    {
      "cell_type": "code",
      "source": [
        "type(d)"
      ],
      "metadata": {
        "colab": {
          "base_uri": "https://localhost:8080/"
        },
        "id": "ToUdG1XrqfKi",
        "outputId": "0c322780-d162-4e4f-fa84-3fbe8e61ab6d"
      },
      "execution_count": null,
      "outputs": [
        {
          "output_type": "execute_result",
          "data": {
            "text/plain": [
              "str"
            ]
          },
          "metadata": {},
          "execution_count": 11
        }
      ]
    },
    {
      "cell_type": "code",
      "source": [
        "a + b"
      ],
      "metadata": {
        "colab": {
          "base_uri": "https://localhost:8080/"
        },
        "id": "xYvjv08nqgOx",
        "outputId": "3a9b8166-7ff9-4760-f98f-757481c12ecc"
      },
      "execution_count": null,
      "outputs": [
        {
          "output_type": "execute_result",
          "data": {
            "text/plain": [
              "30"
            ]
          },
          "metadata": {},
          "execution_count": 12
        }
      ]
    },
    {
      "cell_type": "code",
      "source": [
        "c + d"
      ],
      "metadata": {
        "colab": {
          "base_uri": "https://localhost:8080/",
          "height": 35
        },
        "id": "AlBnrgR2qlnO",
        "outputId": "26d78439-112d-48dd-9fbb-4654e10ca0b3"
      },
      "execution_count": null,
      "outputs": [
        {
          "output_type": "execute_result",
          "data": {
            "text/plain": [
              "'Python é legal'"
            ],
            "application/vnd.google.colaboratory.intrinsic+json": {
              "type": "string"
            }
          },
          "metadata": {},
          "execution_count": 16
        }
      ]
    },
    {
      "cell_type": "markdown",
      "source": [
        "Conversões de Tipo\n",
        "Funções int(), str(), float()"
      ],
      "metadata": {
        "id": "hx7Y2dlRq2yC"
      }
    },
    {
      "cell_type": "code",
      "source": [
        "str (a)"
      ],
      "metadata": {
        "colab": {
          "base_uri": "https://localhost:8080/",
          "height": 35
        },
        "id": "vq7nYmmoq49Y",
        "outputId": "d8be582e-9b6b-4b1e-fe87-fa251f07b300"
      },
      "execution_count": null,
      "outputs": [
        {
          "output_type": "execute_result",
          "data": {
            "text/plain": [
              "'10'"
            ],
            "application/vnd.google.colaboratory.intrinsic+json": {
              "type": "string"
            }
          },
          "metadata": {},
          "execution_count": 17
        }
      ]
    },
    {
      "cell_type": "code",
      "source": [
        "type(str(a))"
      ],
      "metadata": {
        "colab": {
          "base_uri": "https://localhost:8080/"
        },
        "id": "15tDNiMFrF5f",
        "outputId": "1dc314c6-37f6-45f8-f26e-0eb0122e1f6f"
      },
      "execution_count": null,
      "outputs": [
        {
          "output_type": "execute_result",
          "data": {
            "text/plain": [
              "str"
            ]
          },
          "metadata": {},
          "execution_count": 18
        }
      ]
    },
    {
      "cell_type": "code",
      "source": [
        "c + str(a)"
      ],
      "metadata": {
        "colab": {
          "base_uri": "https://localhost:8080/",
          "height": 35
        },
        "id": "d6UPTDTprJbc",
        "outputId": "d0428981-ca3f-4ffd-a88b-7d2d0987f329"
      },
      "execution_count": null,
      "outputs": [
        {
          "output_type": "execute_result",
          "data": {
            "text/plain": [
              "'Python é 10'"
            ],
            "application/vnd.google.colaboratory.intrinsic+json": {
              "type": "string"
            }
          },
          "metadata": {},
          "execution_count": 19
        }
      ]
    },
    {
      "cell_type": "code",
      "source": [
        "float(a)"
      ],
      "metadata": {
        "colab": {
          "base_uri": "https://localhost:8080/"
        },
        "id": "QwpCB1NNrQpB",
        "outputId": "1574830a-e485-456c-a516-79e1975277ea"
      },
      "execution_count": null,
      "outputs": [
        {
          "output_type": "execute_result",
          "data": {
            "text/plain": [
              "10.0"
            ]
          },
          "metadata": {},
          "execution_count": 20
        }
      ]
    },
    {
      "cell_type": "code",
      "source": [
        "var = 3.141592"
      ],
      "metadata": {
        "id": "OYbbLJIXrXiD"
      },
      "execution_count": null,
      "outputs": []
    },
    {
      "cell_type": "code",
      "source": [
        "type(var)"
      ],
      "metadata": {
        "colab": {
          "base_uri": "https://localhost:8080/"
        },
        "id": "HIL6yWjarekY",
        "outputId": "dd9d956e-ff84-4d5a-d04e-095a41cfe816"
      },
      "execution_count": null,
      "outputs": [
        {
          "output_type": "execute_result",
          "data": {
            "text/plain": [
              "float"
            ]
          },
          "metadata": {},
          "execution_count": 23
        }
      ]
    },
    {
      "cell_type": "code",
      "source": [
        "int (var)"
      ],
      "metadata": {
        "colab": {
          "base_uri": "https://localhost:8080/"
        },
        "id": "oSKtTjzCrh-B",
        "outputId": "cf7a33c6-1fcf-491f-c3e8-3308e38629dd"
      },
      "execution_count": null,
      "outputs": [
        {
          "output_type": "execute_result",
          "data": {
            "text/plain": [
              "3"
            ]
          },
          "metadata": {},
          "execution_count": 24
        }
      ]
    },
    {
      "cell_type": "code",
      "source": [
        "var = 3.99"
      ],
      "metadata": {
        "id": "3QRSXUvXrsWM"
      },
      "execution_count": null,
      "outputs": []
    },
    {
      "cell_type": "code",
      "source": [
        "int(var)"
      ],
      "metadata": {
        "colab": {
          "base_uri": "https://localhost:8080/"
        },
        "id": "gms1uYu8rvG2",
        "outputId": "897d9c39-d88e-4ba6-cc86-5bdc2b373888"
      },
      "execution_count": null,
      "outputs": [
        {
          "output_type": "execute_result",
          "data": {
            "text/plain": [
              "3"
            ]
          },
          "metadata": {},
          "execution_count": 26
        }
      ]
    },
    {
      "cell_type": "markdown",
      "source": [
        "##Indentação, cometários e formatação de strings"
      ],
      "metadata": {
        "id": "TlUCmR6Gr43r"
      }
    },
    {
      "cell_type": "markdown",
      "source": [
        "Indentação\n",
        "\n",
        "Na linguagem Python os programas são estruturados por meio de indentação. Em qualquer linguagem de programação a prática da indentação é bastante útil, facilitando a leitura e também a manutenção do código. Em Python a indentação não é somente uma questão de organização e estilo, mas sim um requisito da linguagem."
      ],
      "metadata": {
        "id": "WxA_cBIps9l6"
      }
    },
    {
      "cell_type": "code",
      "source": [
        "ano_atual = 2019\n",
        "ano_fabricacao = 2019\n",
        "\n",
        "if (ano_atual == ano_fabricacao):\n",
        "    print('Verdadeiro')\n",
        "else:\n",
        "    print('Falso')"
      ],
      "metadata": {
        "colab": {
          "base_uri": "https://localhost:8080/"
        },
        "id": "w4tm1n2rs_-5",
        "outputId": "88874b11-41b7-4c32-c10a-4986ec422da8"
      },
      "execution_count": null,
      "outputs": [
        {
          "output_type": "stream",
          "name": "stdout",
          "text": [
            "Verdadeiro\n"
          ]
        }
      ]
    },
    {
      "cell_type": "markdown",
      "source": [
        "Comentários\n",
        "\n",
        "Comentários são extremamente importantes em um programa. Consiste em um texto que descreve o que o programa ou uma parte específica do programa está fazendo. Os comentários são ignorados pelo interpretador Python. \n",
        "\n",
        "Podemos ter comentários de uma única linha ou de múltiplas linhas."
      ],
      "metadata": {
        "id": "er5l3T2ItTYB"
      }
    },
    {
      "cell_type": "code",
      "source": [
        "# Isto é um comentário\n",
        "ano_atual = 2019\n",
        "ano_atual"
      ],
      "metadata": {
        "colab": {
          "base_uri": "https://localhost:8080/"
        },
        "id": "JjprrfrLtXHL",
        "outputId": "b50c32a9-5765-43cf-fa90-f73ba43f4b37"
      },
      "execution_count": null,
      "outputs": [
        {
          "output_type": "execute_result",
          "data": {
            "text/plain": [
              "2019"
            ]
          },
          "metadata": {},
          "execution_count": 28
        }
      ]
    },
    {
      "cell_type": "code",
      "source": [
        "# Isto\n",
        "# é um \n",
        "# comentário\n",
        "ano_atual = 2019\n",
        "ano_atual"
      ],
      "metadata": {
        "colab": {
          "base_uri": "https://localhost:8080/"
        },
        "id": "UKlH2st6thsh",
        "outputId": "6baa0f5e-1844-44ce-8607-a6e4569eddbb"
      },
      "execution_count": null,
      "outputs": [
        {
          "output_type": "execute_result",
          "data": {
            "text/plain": [
              "2019"
            ]
          },
          "metadata": {},
          "execution_count": 29
        }
      ]
    },
    {
      "cell_type": "code",
      "source": [
        "'''Isto é um\n",
        "comentário'''\n",
        "ano_atual = 2019\n",
        "ano_atual"
      ],
      "metadata": {
        "colab": {
          "base_uri": "https://localhost:8080/"
        },
        "id": "sULU-LTgtmhN",
        "outputId": "b53b6171-35de-486d-de22-3454fff27c8f"
      },
      "execution_count": null,
      "outputs": [
        {
          "output_type": "execute_result",
          "data": {
            "text/plain": [
              "2019"
            ]
          },
          "metadata": {},
          "execution_count": 30
        }
      ]
    },
    {
      "cell_type": "code",
      "source": [
        "# Definindo variáveis\n",
        "ano_atual = 2019\n",
        "ano_fabricacao = 2019\n",
        "\n",
        "'''\n",
        "Estrutura condicional que vamos \n",
        "aprender na próxima aula\n",
        "'''\n",
        "if (ano_atual == ano_fabricacao):   # Testando se condição é verdadeira\n",
        "    print('Verdadeiro')\n",
        "else:                               # Testando se condição é falsa\n",
        "    print('Falso')"
      ],
      "metadata": {
        "colab": {
          "base_uri": "https://localhost:8080/"
        },
        "id": "HcQKpXxetx3a",
        "outputId": "2d3f4d7f-5adf-4b84-b1ea-ff1dd5212d45"
      },
      "execution_count": null,
      "outputs": [
        {
          "output_type": "stream",
          "name": "stdout",
          "text": [
            "Verdadeiro\n"
          ]
        }
      ]
    },
    {
      "cell_type": "markdown",
      "source": [
        "### Formatação de *strings*"
      ],
      "metadata": {
        "id": "U32mtg2gt0wg"
      }
    },
    {
      "cell_type": "markdown",
      "source": [
        "str % valor"
      ],
      "metadata": {
        "id": "KUVBO1WOuOBF"
      }
    },
    {
      "cell_type": "markdown",
      "source": [
        "str.format()"
      ],
      "metadata": {
        "id": "0rjfsfDBudyF"
      }
    },
    {
      "cell_type": "markdown",
      "source": [
        "https://docs.python.org/3.6/library/stdtypes.html#old-string-formatting"
      ],
      "metadata": {
        "id": "fH0psTXGuY2W"
      }
    },
    {
      "cell_type": "code",
      "source": [
        "print('Olá, {}\"!'.format('Marina'))"
      ],
      "metadata": {
        "colab": {
          "base_uri": "https://localhost:8080/"
        },
        "id": "4S7HllHZuaG8",
        "outputId": "5a732505-b67a-4160-a7e9-eff11490f627"
      },
      "execution_count": null,
      "outputs": [
        {
          "output_type": "stream",
          "name": "stdout",
          "text": [
            "Olá, Marina\"!\n"
          ]
        }
      ]
    },
    {
      "cell_type": "code",
      "source": [
        "print('Olá, {}\"! Este é seu acesso de número {}'.format('Marina',32))"
      ],
      "metadata": {
        "colab": {
          "base_uri": "https://localhost:8080/"
        },
        "id": "9UW38KILuvom",
        "outputId": "7dbe1142-a014-4e7a-c573-b04b3cd1a7c2"
      },
      "execution_count": null,
      "outputs": [
        {
          "output_type": "stream",
          "name": "stdout",
          "text": [
            "Olá, Marina\"! Este é seu acesso de número 32\n"
          ]
        }
      ]
    },
    {
      "cell_type": "code",
      "source": [
        "print('Olá, {}\"! Este é seu acesso de número {acessos}'.format('Marina', acessos = 32))"
      ],
      "metadata": {
        "colab": {
          "base_uri": "https://localhost:8080/"
        },
        "id": "UMZojEfkvAM_",
        "outputId": "ece9706d-0098-4be9-b0c6-16188cd97165"
      },
      "execution_count": null,
      "outputs": [
        {
          "output_type": "stream",
          "name": "stdout",
          "text": [
            "Olá, Marina\"! Este é seu acesso de número 32\n"
          ]
        }
      ]
    },
    {
      "cell_type": "markdown",
      "source": [
        "f-strings"
      ],
      "metadata": {
        "id": "Cc8kW6H3vOzm"
      }
    },
    {
      "cell_type": "markdown",
      "source": [
        "https://docs.python.org/3.6/reference/lexical_analysis.html#f-strings"
      ],
      "metadata": {
        "id": "IogAy6NNvVsR"
      }
    },
    {
      "cell_type": "code",
      "source": [
        "nome = 'Marina'\n",
        "acessos = 32"
      ],
      "metadata": {
        "id": "CZ87XbFRva3P"
      },
      "execution_count": null,
      "outputs": []
    },
    {
      "cell_type": "code",
      "source": [
        "print(f'Olá, {nome}! Este é seu acesso de número {acessos}')"
      ],
      "metadata": {
        "colab": {
          "base_uri": "https://localhost:8080/"
        },
        "id": "4f0QSUP-vg4S",
        "outputId": "ef1d1d91-d05b-45f9-b68f-feb7d8b2ef90"
      },
      "execution_count": null,
      "outputs": [
        {
          "output_type": "stream",
          "name": "stdout",
          "text": [
            "Olá, Marina! Este é seu acesso de número 32\n"
          ]
        }
      ]
    },
    {
      "cell_type": "markdown",
      "source": [
        "##TRABALHANDO COM LISTAS"
      ],
      "metadata": {
        "id": "JVhVWhIxv5Iq"
      }
    },
    {
      "cell_type": "markdown",
      "source": [
        "Criando listas\n",
        "\n",
        "Listas são sequências **mutáveis** que são utilizadas para armazenar coleções de itens, geralmente homogêneos. Podem ser construídas de várias formas:\n",
        "```\n",
        "- Utilizando um par de colchetes: [ ], [ 1 ]\n",
        "- Utilizando um par de colchetes com itens separados por vírgulas: [ 1, 2, 3 ]\n",
        "```"
      ],
      "metadata": {
        "id": "MedqPB4vwOcF"
      }
    },
    {
      "cell_type": "code",
      "source": [
        "Acessorios = ['Rodas de liga', 'Travas elétricas', 'Piloto automático', 'Bancos de couro', 'Ar condicionado', 'Sensor de estacionamento', 'Sensor crepuscular', 'Sensor de chuva']\n",
        "Acessorios"
      ],
      "metadata": {
        "colab": {
          "base_uri": "https://localhost:8080/"
        },
        "id": "Djus8EvvwPQR",
        "outputId": "0ed4df30-bc9f-47fa-e1f1-83b9b3c8c086"
      },
      "execution_count": null,
      "outputs": [
        {
          "output_type": "execute_result",
          "data": {
            "text/plain": [
              "['Rodas de liga',\n",
              " 'Travas elétricas',\n",
              " 'Piloto automático',\n",
              " 'Bancos de couro',\n",
              " 'Ar condicionado',\n",
              " 'Sensor de estacionamento',\n",
              " 'Sensor crepuscular',\n",
              " 'Sensor de chuva']"
            ]
          },
          "metadata": {},
          "execution_count": 44
        }
      ]
    },
    {
      "cell_type": "code",
      "source": [
        "type(Acessorios)"
      ],
      "metadata": {
        "colab": {
          "base_uri": "https://localhost:8080/"
        },
        "id": "-Ufkgbs9wnNH",
        "outputId": "bdc675e1-2faf-47a5-99d6-553a119df883"
      },
      "execution_count": null,
      "outputs": [
        {
          "output_type": "execute_result",
          "data": {
            "text/plain": [
              "list"
            ]
          },
          "metadata": {},
          "execution_count": 45
        }
      ]
    },
    {
      "cell_type": "markdown",
      "source": [
        "Lista com tipos de Dados Variados"
      ],
      "metadata": {
        "id": "5DHidF0gwsp7"
      }
    },
    {
      "cell_type": "code",
      "source": [
        "Carro_1 = ['Jetta Variant', 'Motor 4.0 Turbo', 2003, 44410.0, False, ['Rodas de liga', 'Travas elétricas', 'Piloto automático'], 88078.64]\n",
        "Carro_2 = ['Passat', 'Motor Diesel', 1991, 5712.0, False, ['Central multimídia', 'Teto panorâmico', 'Freios ABS'], 106161.94]"
      ],
      "metadata": {
        "id": "cbA80uTAwvW5"
      },
      "execution_count": null,
      "outputs": []
    },
    {
      "cell_type": "code",
      "source": [
        "Carro_1"
      ],
      "metadata": {
        "colab": {
          "base_uri": "https://localhost:8080/"
        },
        "id": "nEmHLmi-w8Jq",
        "outputId": "92285971-5f46-4a8a-9e1e-88b31abd31df"
      },
      "execution_count": null,
      "outputs": [
        {
          "output_type": "execute_result",
          "data": {
            "text/plain": [
              "['Jetta Variant',\n",
              " 'Motor 4.0 Turbo',\n",
              " 2003,\n",
              " 44410.0,\n",
              " False,\n",
              " ['Rodas de liga', 'Travas elétricas', 'Piloto automático'],\n",
              " 88078.64]"
            ]
          },
          "metadata": {},
          "execution_count": 48
        }
      ]
    },
    {
      "cell_type": "code",
      "source": [
        "Carro_2"
      ],
      "metadata": {
        "colab": {
          "base_uri": "https://localhost:8080/"
        },
        "id": "4Rb9RoFow9nI",
        "outputId": "a162a334-e3e8-4a32-d353-de6c16c39ed7"
      },
      "execution_count": null,
      "outputs": [
        {
          "output_type": "execute_result",
          "data": {
            "text/plain": [
              "['Passat',\n",
              " 'Motor Diesel',\n",
              " 1991,\n",
              " 5712.0,\n",
              " False,\n",
              " ['Central multimídia', 'Teto panorâmico', 'Freios ABS'],\n",
              " 106161.94]"
            ]
          },
          "metadata": {},
          "execution_count": 49
        }
      ]
    },
    {
      "cell_type": "code",
      "source": [
        "Carros = [Carro_1, Carro_2]\n",
        "Carros"
      ],
      "metadata": {
        "colab": {
          "base_uri": "https://localhost:8080/"
        },
        "id": "yw3A9oicw_lb",
        "outputId": "d4453a0c-19d7-4144-8a0a-bcfa39e7d8f9"
      },
      "execution_count": null,
      "outputs": [
        {
          "output_type": "execute_result",
          "data": {
            "text/plain": [
              "[['Jetta Variant',\n",
              "  'Motor 4.0 Turbo',\n",
              "  2003,\n",
              "  44410.0,\n",
              "  False,\n",
              "  ['Rodas de liga', 'Travas elétricas', 'Piloto automático'],\n",
              "  88078.64],\n",
              " ['Passat',\n",
              "  'Motor Diesel',\n",
              "  1991,\n",
              "  5712.0,\n",
              "  False,\n",
              "  ['Central multimídia', 'Teto panorâmico', 'Freios ABS'],\n",
              "  106161.94]]"
            ]
          },
          "metadata": {},
          "execution_count": 51
        }
      ]
    },
    {
      "cell_type": "markdown",
      "source": [
        "##Operações com listas"
      ],
      "metadata": {
        "id": "CFEKyoVkxKVd"
      }
    },
    {
      "cell_type": "markdown",
      "source": [
        "https://docs.python.org/3.6/library/stdtypes.html#common-sequence-operations"
      ],
      "metadata": {
        "id": "vlTJuWUhxOxN"
      }
    },
    {
      "cell_type": "markdown",
      "source": [
        "x in A"
      ],
      "metadata": {
        "id": "BIdo_8jnx0zx"
      }
    },
    {
      "cell_type": "code",
      "source": [
        "Acessorios"
      ],
      "metadata": {
        "colab": {
          "base_uri": "https://localhost:8080/"
        },
        "id": "6yliVjXIx4mQ",
        "outputId": "f89259c1-cc6b-4722-a6c9-756273a11a57"
      },
      "execution_count": null,
      "outputs": [
        {
          "output_type": "execute_result",
          "data": {
            "text/plain": [
              "['Rodas de liga',\n",
              " 'Travas elétricas',\n",
              " 'Piloto automático',\n",
              " 'Bancos de couro',\n",
              " 'Ar condicionado',\n",
              " 'Sensor de estacionamento',\n",
              " 'Sensor crepuscular',\n",
              " 'Sensor de chuva']"
            ]
          },
          "metadata": {},
          "execution_count": 52
        }
      ]
    },
    {
      "cell_type": "code",
      "source": [
        "'Rodas de liga' in Acessorios"
      ],
      "metadata": {
        "colab": {
          "base_uri": "https://localhost:8080/"
        },
        "id": "291PZqw8yDgC",
        "outputId": "709e736a-cab0-4999-a4d8-5f00f7c0b424"
      },
      "execution_count": null,
      "outputs": [
        {
          "output_type": "execute_result",
          "data": {
            "text/plain": [
              "True"
            ]
          },
          "metadata": {},
          "execution_count": 53
        }
      ]
    },
    {
      "cell_type": "code",
      "source": [
        "'4 X 4' in Acessorios"
      ],
      "metadata": {
        "colab": {
          "base_uri": "https://localhost:8080/"
        },
        "id": "8EfbkML2yKjl",
        "outputId": "1e7a6262-297a-40b3-ef6c-eb1351259c43"
      },
      "execution_count": null,
      "outputs": [
        {
          "output_type": "execute_result",
          "data": {
            "text/plain": [
              "False"
            ]
          },
          "metadata": {},
          "execution_count": 54
        }
      ]
    },
    {
      "cell_type": "code",
      "source": [
        "'Rodas de liga' not in Acessorios"
      ],
      "metadata": {
        "colab": {
          "base_uri": "https://localhost:8080/"
        },
        "id": "2xAs9Z7lyPUH",
        "outputId": "edeb9445-7eab-415c-b4a8-67ff4711ac4d"
      },
      "execution_count": null,
      "outputs": [
        {
          "output_type": "execute_result",
          "data": {
            "text/plain": [
              "False"
            ]
          },
          "metadata": {},
          "execution_count": 55
        }
      ]
    },
    {
      "cell_type": "markdown",
      "source": [
        "A + B\n",
        "\n",
        "Concatena as listas A e B"
      ],
      "metadata": {
        "id": "j3v3x5y2yVE6"
      }
    },
    {
      "cell_type": "code",
      "source": [
        "A = ['Rodas de liga', 'Travas elétricas', 'Piloto automático', 'Bancos de couro']\n",
        "B = ['Ar condicionado', 'Sensor de estacionamento', 'Sensor crepuscular', 'Sensor de chuva']"
      ],
      "metadata": {
        "id": "ltE1vE4xybn1"
      },
      "execution_count": null,
      "outputs": []
    },
    {
      "cell_type": "code",
      "source": [
        "A"
      ],
      "metadata": {
        "colab": {
          "base_uri": "https://localhost:8080/"
        },
        "id": "1mTYa3sIykCm",
        "outputId": "64c2cdfa-003a-4599-d715-88acb507593d"
      },
      "execution_count": null,
      "outputs": [
        {
          "output_type": "execute_result",
          "data": {
            "text/plain": [
              "['Rodas de liga', 'Travas elétricas', 'Piloto automático', 'Bancos de couro']"
            ]
          },
          "metadata": {},
          "execution_count": 58
        }
      ]
    },
    {
      "cell_type": "code",
      "source": [
        "B"
      ],
      "metadata": {
        "colab": {
          "base_uri": "https://localhost:8080/"
        },
        "id": "0NyaS2fmyms3",
        "outputId": "46d0b2e9-c251-45a5-bace-fc54aaabbd04"
      },
      "execution_count": null,
      "outputs": [
        {
          "output_type": "execute_result",
          "data": {
            "text/plain": [
              "['Ar condicionado',\n",
              " 'Sensor de estacionamento',\n",
              " 'Sensor crepuscular',\n",
              " 'Sensor de chuva']"
            ]
          },
          "metadata": {},
          "execution_count": 59
        }
      ]
    },
    {
      "cell_type": "code",
      "source": [
        "A + B"
      ],
      "metadata": {
        "colab": {
          "base_uri": "https://localhost:8080/"
        },
        "id": "DpEBJpI5ynt-",
        "outputId": "b0272237-d540-4b14-8b36-1f9f15290bd1"
      },
      "execution_count": null,
      "outputs": [
        {
          "output_type": "execute_result",
          "data": {
            "text/plain": [
              "['Rodas de liga',\n",
              " 'Travas elétricas',\n",
              " 'Piloto automático',\n",
              " 'Bancos de couro',\n",
              " 'Ar condicionado',\n",
              " 'Sensor de estacionamento',\n",
              " 'Sensor crepuscular',\n",
              " 'Sensor de chuva']"
            ]
          },
          "metadata": {},
          "execution_count": 60
        }
      ]
    },
    {
      "cell_type": "markdown",
      "source": [
        "len(A)\n",
        "\n",
        "Tamanho da Lista A."
      ],
      "metadata": {
        "id": "XCT0HkzUysW2"
      }
    },
    {
      "cell_type": "code",
      "source": [
        "len(Acessorios)"
      ],
      "metadata": {
        "colab": {
          "base_uri": "https://localhost:8080/"
        },
        "id": "UVZCW6ybyxYQ",
        "outputId": "1f1445ff-70fd-421f-bfaa-467145fb5d9b"
      },
      "execution_count": null,
      "outputs": [
        {
          "output_type": "execute_result",
          "data": {
            "text/plain": [
              "8"
            ]
          },
          "metadata": {},
          "execution_count": 61
        }
      ]
    },
    {
      "cell_type": "markdown",
      "source": [
        "#Seleções em listas"
      ],
      "metadata": {
        "id": "AlHerKcZzAEt"
      }
    },
    {
      "cell_type": "markdown",
      "source": [
        "## *A[ i ]*\n",
        "\n",
        "Retorna o i-ésimo item da lista A.\n",
        "\n",
        "Observação: Listas têm indexação com origem no zero."
      ],
      "metadata": {
        "id": "6l6JoQxmzTzg"
      }
    },
    {
      "cell_type": "code",
      "source": [
        "Acessorios"
      ],
      "metadata": {
        "colab": {
          "base_uri": "https://localhost:8080/"
        },
        "id": "nUS9LGKxzVNx",
        "outputId": "1ea2ac9d-fc15-4e7e-82c9-14e173dcce9a"
      },
      "execution_count": null,
      "outputs": [
        {
          "output_type": "execute_result",
          "data": {
            "text/plain": [
              "['Rodas de liga',\n",
              " 'Travas elétricas',\n",
              " 'Piloto automático',\n",
              " 'Bancos de couro',\n",
              " 'Ar condicionado',\n",
              " 'Sensor de estacionamento',\n",
              " 'Sensor crepuscular',\n",
              " 'Sensor de chuva']"
            ]
          },
          "metadata": {},
          "execution_count": 64
        }
      ]
    },
    {
      "cell_type": "code",
      "source": [
        "Acessorios[0]"
      ],
      "metadata": {
        "colab": {
          "base_uri": "https://localhost:8080/",
          "height": 35
        },
        "id": "v0Mt6ORDz1za",
        "outputId": "ec0b9ad1-375e-49aa-84c0-b4b4e53fc31d"
      },
      "execution_count": null,
      "outputs": [
        {
          "output_type": "execute_result",
          "data": {
            "text/plain": [
              "'Rodas de liga'"
            ],
            "application/vnd.google.colaboratory.intrinsic+json": {
              "type": "string"
            }
          },
          "metadata": {},
          "execution_count": 65
        }
      ]
    },
    {
      "cell_type": "code",
      "source": [
        "Acessorios[1]"
      ],
      "metadata": {
        "colab": {
          "base_uri": "https://localhost:8080/",
          "height": 35
        },
        "id": "kfukvFn2z9uS",
        "outputId": "39df92e4-4eed-4c93-80e8-c470e934ed7e"
      },
      "execution_count": null,
      "outputs": [
        {
          "output_type": "execute_result",
          "data": {
            "text/plain": [
              "'Travas elétricas'"
            ],
            "application/vnd.google.colaboratory.intrinsic+json": {
              "type": "string"
            }
          },
          "metadata": {},
          "execution_count": 66
        }
      ]
    },
    {
      "cell_type": "code",
      "source": [
        "Acessorios[-1] #O -1 acessa o último item da lista"
      ],
      "metadata": {
        "colab": {
          "base_uri": "https://localhost:8080/",
          "height": 35
        },
        "id": "2gfE9PwK0AWy",
        "outputId": "11a0dad5-e06e-4bf0-8a0c-f4971efb8de0"
      },
      "execution_count": null,
      "outputs": [
        {
          "output_type": "execute_result",
          "data": {
            "text/plain": [
              "'Sensor de chuva'"
            ],
            "application/vnd.google.colaboratory.intrinsic+json": {
              "type": "string"
            }
          },
          "metadata": {},
          "execution_count": 68
        }
      ]
    },
    {
      "cell_type": "code",
      "source": [
        "Carros"
      ],
      "metadata": {
        "colab": {
          "base_uri": "https://localhost:8080/"
        },
        "id": "MuDPy8dT0Fqx",
        "outputId": "ea0efede-943d-4d2e-a107-678b0d7ff6eb"
      },
      "execution_count": null,
      "outputs": [
        {
          "output_type": "execute_result",
          "data": {
            "text/plain": [
              "[['Jetta Variant',\n",
              "  'Motor 4.0 Turbo',\n",
              "  2003,\n",
              "  44410.0,\n",
              "  False,\n",
              "  ['Rodas de liga', 'Travas elétricas', 'Piloto automático'],\n",
              "  88078.64],\n",
              " ['Passat',\n",
              "  'Motor Diesel',\n",
              "  1991,\n",
              "  5712.0,\n",
              "  False,\n",
              "  ['Central multimídia', 'Teto panorâmico', 'Freios ABS'],\n",
              "  106161.94]]"
            ]
          },
          "metadata": {},
          "execution_count": 69
        }
      ]
    },
    {
      "cell_type": "code",
      "source": [
        "Carros[0]"
      ],
      "metadata": {
        "colab": {
          "base_uri": "https://localhost:8080/"
        },
        "id": "jddolVYl0OJh",
        "outputId": "74b61ed6-d5ec-4809-cd1b-cbabb34e0f6c"
      },
      "execution_count": null,
      "outputs": [
        {
          "output_type": "execute_result",
          "data": {
            "text/plain": [
              "['Jetta Variant',\n",
              " 'Motor 4.0 Turbo',\n",
              " 2003,\n",
              " 44410.0,\n",
              " False,\n",
              " ['Rodas de liga', 'Travas elétricas', 'Piloto automático'],\n",
              " 88078.64]"
            ]
          },
          "metadata": {},
          "execution_count": 70
        }
      ]
    },
    {
      "cell_type": "code",
      "source": [
        "Carros[0][0] #Primeiro item da lista"
      ],
      "metadata": {
        "colab": {
          "base_uri": "https://localhost:8080/",
          "height": 35
        },
        "id": "pInhhNux0THA",
        "outputId": "6929f93a-9eb6-4b16-b854-36613c0954bc"
      },
      "execution_count": null,
      "outputs": [
        {
          "output_type": "execute_result",
          "data": {
            "text/plain": [
              "'Jetta Variant'"
            ],
            "application/vnd.google.colaboratory.intrinsic+json": {
              "type": "string"
            }
          },
          "metadata": {},
          "execution_count": 71
        }
      ]
    },
    {
      "cell_type": "code",
      "source": [
        "Carros[0][-2] #Penúltimo item da lista"
      ],
      "metadata": {
        "colab": {
          "base_uri": "https://localhost:8080/"
        },
        "id": "-P6HKajf0fNh",
        "outputId": "2d906619-ac65-4c89-a452-07e4e174c638"
      },
      "execution_count": null,
      "outputs": [
        {
          "output_type": "execute_result",
          "data": {
            "text/plain": [
              "['Rodas de liga', 'Travas elétricas', 'Piloto automático']"
            ]
          },
          "metadata": {},
          "execution_count": 72
        }
      ]
    },
    {
      "cell_type": "markdown",
      "source": [
        "## *A[ i : j ]*\n",
        "\n",
        "Recorta a lista *A* do índice i até o j. Neste fatiamento o elemento com índice i é **incluído** e o elemento com índice j **não é incluído** no resultado."
      ],
      "metadata": {
        "id": "ULJNhxjg0wDa"
      }
    },
    {
      "cell_type": "code",
      "source": [
        "Acessorios"
      ],
      "metadata": {
        "colab": {
          "base_uri": "https://localhost:8080/"
        },
        "id": "NT4cDy1i00eM",
        "outputId": "b0e56885-8066-4383-e828-fb90d1f1665b"
      },
      "execution_count": null,
      "outputs": [
        {
          "output_type": "execute_result",
          "data": {
            "text/plain": [
              "['Rodas de liga',\n",
              " 'Travas elétricas',\n",
              " 'Piloto automático',\n",
              " 'Bancos de couro',\n",
              " 'Ar condicionado',\n",
              " 'Sensor de estacionamento',\n",
              " 'Sensor crepuscular',\n",
              " 'Sensor de chuva']"
            ]
          },
          "metadata": {},
          "execution_count": 73
        }
      ]
    },
    {
      "cell_type": "code",
      "source": [
        "Acessorios[2:5]"
      ],
      "metadata": {
        "colab": {
          "base_uri": "https://localhost:8080/"
        },
        "id": "pnoNvhiD0_3y",
        "outputId": "e1a5eac9-dbc6-4b89-8ede-f4fe5079ca15"
      },
      "execution_count": null,
      "outputs": [
        {
          "output_type": "execute_result",
          "data": {
            "text/plain": [
              "['Piloto automático', 'Bancos de couro', 'Ar condicionado']"
            ]
          },
          "metadata": {},
          "execution_count": 74
        }
      ]
    },
    {
      "cell_type": "code",
      "source": [
        "Acessorios[2:] #Ele vai entender que quero o resto da lista inteira"
      ],
      "metadata": {
        "colab": {
          "base_uri": "https://localhost:8080/"
        },
        "id": "isAgSm6N1QKA",
        "outputId": "0c08c016-c30e-4ec7-b60c-45eaebf358ec"
      },
      "execution_count": null,
      "outputs": [
        {
          "output_type": "execute_result",
          "data": {
            "text/plain": [
              "['Piloto automático',\n",
              " 'Bancos de couro',\n",
              " 'Ar condicionado',\n",
              " 'Sensor de estacionamento',\n",
              " 'Sensor crepuscular',\n",
              " 'Sensor de chuva']"
            ]
          },
          "metadata": {},
          "execution_count": 75
        }
      ]
    },
    {
      "cell_type": "code",
      "source": [
        "Acessorios[:5] #Ele vai entender que quero todos da lista até o item escolhido"
      ],
      "metadata": {
        "colab": {
          "base_uri": "https://localhost:8080/"
        },
        "id": "UwehXspE36rc",
        "outputId": "0fd6afec-a6bb-470d-f110-f6d0e225d3a3"
      },
      "execution_count": null,
      "outputs": [
        {
          "output_type": "execute_result",
          "data": {
            "text/plain": [
              "['Rodas de liga',\n",
              " 'Travas elétricas',\n",
              " 'Piloto automático',\n",
              " 'Bancos de couro',\n",
              " 'Ar condicionado']"
            ]
          },
          "metadata": {},
          "execution_count": 76
        }
      ]
    },
    {
      "cell_type": "markdown",
      "source": [
        "#Métodos de listas\n",
        "\n",
        "https://docs.python.org/3.6/library/stdtypes.html#mutable-sequence-types"
      ],
      "metadata": {
        "id": "kLF101XM4OKu"
      }
    },
    {
      "cell_type": "markdown",
      "source": [
        "## *A.sort()*\n",
        "\n",
        "Ordena a lista *A*. Ordem Alfabética"
      ],
      "metadata": {
        "id": "rlz4IWI34aCv"
      }
    },
    {
      "cell_type": "code",
      "source": [
        "Acessorios"
      ],
      "metadata": {
        "colab": {
          "base_uri": "https://localhost:8080/"
        },
        "id": "XZOnZkqj4bdd",
        "outputId": "542f6242-61c7-46df-869e-769ab38d31e0"
      },
      "execution_count": null,
      "outputs": [
        {
          "output_type": "execute_result",
          "data": {
            "text/plain": [
              "['Ar condicionado',\n",
              " 'Bancos de couro',\n",
              " 'Piloto automático',\n",
              " 'Rodas de liga',\n",
              " 'Sensor crepuscular',\n",
              " 'Sensor de chuva',\n",
              " 'Sensor de estacionamento',\n",
              " 'Travas elétricas']"
            ]
          },
          "metadata": {},
          "execution_count": 79
        }
      ]
    },
    {
      "cell_type": "code",
      "source": [
        "Acessorios.sort()\n",
        "Acessorios"
      ],
      "metadata": {
        "colab": {
          "base_uri": "https://localhost:8080/"
        },
        "id": "96Gz6VoO5GTh",
        "outputId": "4a929c0c-5fdc-4206-d694-28e016fe219c"
      },
      "execution_count": null,
      "outputs": [
        {
          "output_type": "execute_result",
          "data": {
            "text/plain": [
              "['Ar condicionado',\n",
              " 'Bancos de couro',\n",
              " 'Piloto automático',\n",
              " 'Rodas de liga',\n",
              " 'Sensor crepuscular',\n",
              " 'Sensor de chuva',\n",
              " 'Sensor de estacionamento',\n",
              " 'Travas elétricas']"
            ]
          },
          "metadata": {},
          "execution_count": 78
        }
      ]
    },
    {
      "cell_type": "markdown",
      "source": [
        "## *A.append(x)*\n",
        "\n",
        "Adiciona o elemento *x* no final da lista *A*."
      ],
      "metadata": {
        "id": "E711O6BM5cwI"
      }
    },
    {
      "cell_type": "code",
      "source": [
        "Acessorios.append('4 X 4')\n",
        "Acessorios"
      ],
      "metadata": {
        "colab": {
          "base_uri": "https://localhost:8080/"
        },
        "id": "c-_-fxCc5jGg",
        "outputId": "717b75cc-d61d-4839-9c3d-90b13032ac0d"
      },
      "execution_count": null,
      "outputs": [
        {
          "output_type": "execute_result",
          "data": {
            "text/plain": [
              "['Ar condicionado',\n",
              " 'Bancos de couro',\n",
              " 'Piloto automático',\n",
              " 'Rodas de liga',\n",
              " 'Sensor crepuscular',\n",
              " 'Sensor de chuva',\n",
              " 'Sensor de estacionamento',\n",
              " 'Travas elétricas',\n",
              " '4 X 4',\n",
              " '4 X 4']"
            ]
          },
          "metadata": {},
          "execution_count": 81
        }
      ]
    },
    {
      "cell_type": "markdown",
      "source": [
        "## *A.pop(i)*\n",
        "\n",
        "Remove e retorna o elemento de índice i da lista *A*.\n",
        "\n",
        "<font color=red>**Observação:**</font> Por *default* o método *pop()* remove e retorna o último elemento de uma lista.\n",
        "\n",
        "Se eu não passar nenhum argumento pro elemento pop ele vai remover sempre o último item da lista."
      ],
      "metadata": {
        "id": "34tJlxGF6Hnp"
      }
    },
    {
      "cell_type": "code",
      "source": [
        "Acessorios.pop()"
      ],
      "metadata": {
        "colab": {
          "base_uri": "https://localhost:8080/",
          "height": 35
        },
        "id": "1kay0ZXy6IgM",
        "outputId": "822bc84f-e23b-4d8c-ae80-b340205eb0af"
      },
      "execution_count": null,
      "outputs": [
        {
          "output_type": "execute_result",
          "data": {
            "text/plain": [
              "'4 X 4'"
            ],
            "application/vnd.google.colaboratory.intrinsic+json": {
              "type": "string"
            }
          },
          "metadata": {},
          "execution_count": 82
        }
      ]
    },
    {
      "cell_type": "code",
      "source": [
        "Acessorios"
      ],
      "metadata": {
        "colab": {
          "base_uri": "https://localhost:8080/"
        },
        "id": "rvrDsJ556WzW",
        "outputId": "9089211e-b87f-4cbb-8338-a86ac21a5eaf"
      },
      "execution_count": null,
      "outputs": [
        {
          "output_type": "execute_result",
          "data": {
            "text/plain": [
              "['Ar condicionado',\n",
              " 'Bancos de couro',\n",
              " 'Piloto automático',\n",
              " 'Rodas de liga',\n",
              " 'Sensor crepuscular',\n",
              " 'Sensor de chuva',\n",
              " 'Sensor de estacionamento',\n",
              " 'Travas elétricas',\n",
              " '4 X 4']"
            ]
          },
          "metadata": {},
          "execution_count": 83
        }
      ]
    },
    {
      "cell_type": "code",
      "source": [
        "Acessorios.pop(3)"
      ],
      "metadata": {
        "colab": {
          "base_uri": "https://localhost:8080/",
          "height": 35
        },
        "id": "Ir579-U56YkS",
        "outputId": "e9c3053e-adf5-4a46-9a81-0886951794c4"
      },
      "execution_count": null,
      "outputs": [
        {
          "output_type": "execute_result",
          "data": {
            "text/plain": [
              "'Rodas de liga'"
            ],
            "application/vnd.google.colaboratory.intrinsic+json": {
              "type": "string"
            }
          },
          "metadata": {},
          "execution_count": 84
        }
      ]
    },
    {
      "cell_type": "code",
      "source": [
        "Acessorios"
      ],
      "metadata": {
        "colab": {
          "base_uri": "https://localhost:8080/"
        },
        "id": "hdgwyoVQ6gtD",
        "outputId": "88371f5f-4702-434b-d2bb-52e9d859135d"
      },
      "execution_count": null,
      "outputs": [
        {
          "output_type": "execute_result",
          "data": {
            "text/plain": [
              "['Ar condicionado',\n",
              " 'Bancos de couro',\n",
              " 'Piloto automático',\n",
              " 'Sensor crepuscular',\n",
              " 'Sensor de chuva',\n",
              " 'Sensor de estacionamento',\n",
              " 'Travas elétricas',\n",
              " '4 X 4']"
            ]
          },
          "metadata": {},
          "execution_count": 85
        }
      ]
    },
    {
      "cell_type": "markdown",
      "source": [
        "## *A.copy()*\n",
        "\n",
        "Cria uma cópia da lista *A*.\n",
        "\n",
        "<font color=red>**Observação:**</font> O mesmo resultado pode ser obtido com o seguinte código: \n",
        "```\n",
        "A[:]\n",
        "```"
      ],
      "metadata": {
        "id": "J0qgD2Q86pOP"
      }
    },
    {
      "cell_type": "code",
      "source": [
        "Acessorios_2 = Acessorios\n",
        "Acessorios_2"
      ],
      "metadata": {
        "colab": {
          "base_uri": "https://localhost:8080/"
        },
        "id": "n5utKR-56p_d",
        "outputId": "5b8402f7-5a49-4ff5-a99f-71a02df74e49"
      },
      "execution_count": null,
      "outputs": [
        {
          "output_type": "execute_result",
          "data": {
            "text/plain": [
              "['Ar condicionado',\n",
              " 'Bancos de couro',\n",
              " 'Piloto automático',\n",
              " 'Sensor crepuscular',\n",
              " 'Sensor de chuva',\n",
              " 'Sensor de estacionamento',\n",
              " 'Travas elétricas',\n",
              " '4 X 4']"
            ]
          },
          "metadata": {},
          "execution_count": 86
        }
      ]
    },
    {
      "cell_type": "code",
      "source": [
        "Acessorios.append('4 X 4')\n",
        "Acessorios"
      ],
      "metadata": {
        "colab": {
          "base_uri": "https://localhost:8080/"
        },
        "id": "tAAQXizL60t7",
        "outputId": "f253b292-f058-4ba1-8cc6-54a3497db65c"
      },
      "execution_count": null,
      "outputs": [
        {
          "output_type": "execute_result",
          "data": {
            "text/plain": [
              "['Ar condicionado',\n",
              " 'Bancos de couro',\n",
              " 'Piloto automático',\n",
              " 'Sensor crepuscular',\n",
              " 'Sensor de chuva',\n",
              " 'Sensor de estacionamento',\n",
              " 'Travas elétricas',\n",
              " '4 X 4',\n",
              " '4 X 4',\n",
              " '4 X 4']"
            ]
          },
          "metadata": {},
          "execution_count": 88
        }
      ]
    },
    {
      "cell_type": "code",
      "source": [
        "Acessorios_2"
      ],
      "metadata": {
        "colab": {
          "base_uri": "https://localhost:8080/"
        },
        "id": "g1-Ar1Ut66EW",
        "outputId": "c54fdb6b-3162-4823-dccf-8a295fe77d73"
      },
      "execution_count": null,
      "outputs": [
        {
          "output_type": "execute_result",
          "data": {
            "text/plain": [
              "['Ar condicionado',\n",
              " 'Bancos de couro',\n",
              " 'Piloto automático',\n",
              " 'Sensor crepuscular',\n",
              " 'Sensor de chuva',\n",
              " 'Sensor de estacionamento',\n",
              " 'Travas elétricas',\n",
              " '4 X 4',\n",
              " '4 X 4',\n",
              " '4 X 4']"
            ]
          },
          "metadata": {},
          "execution_count": 89
        }
      ]
    },
    {
      "cell_type": "code",
      "source": [
        "Acessorios.pop()\n",
        "Acessorios"
      ],
      "metadata": {
        "colab": {
          "base_uri": "https://localhost:8080/"
        },
        "id": "5ZbUzCPk7EC3",
        "outputId": "d9505ff5-fd8e-4e22-c00b-67d6896dabe8"
      },
      "execution_count": null,
      "outputs": [
        {
          "output_type": "execute_result",
          "data": {
            "text/plain": [
              "['Ar condicionado',\n",
              " 'Bancos de couro',\n",
              " 'Piloto automático',\n",
              " 'Sensor crepuscular',\n",
              " 'Sensor de chuva',\n",
              " 'Sensor de estacionamento',\n",
              " 'Travas elétricas',\n",
              " '4 X 4']"
            ]
          },
          "metadata": {},
          "execution_count": 91
        }
      ]
    },
    {
      "cell_type": "code",
      "source": [
        "Acessorios_2"
      ],
      "metadata": {
        "colab": {
          "base_uri": "https://localhost:8080/"
        },
        "id": "0zpg9G237Mff",
        "outputId": "6c250715-2cdf-4c83-a5ee-a43dc31417b7"
      },
      "execution_count": null,
      "outputs": [
        {
          "output_type": "execute_result",
          "data": {
            "text/plain": [
              "['Ar condicionado',\n",
              " 'Bancos de couro',\n",
              " 'Piloto automático',\n",
              " 'Sensor crepuscular',\n",
              " 'Sensor de chuva',\n",
              " 'Sensor de estacionamento',\n",
              " 'Travas elétricas',\n",
              " '4 X 4']"
            ]
          },
          "metadata": {},
          "execution_count": 92
        }
      ]
    },
    {
      "cell_type": "code",
      "source": [
        "Acessorios_2 = Acessorios.copy()\n",
        "Acessorios_2"
      ],
      "metadata": {
        "colab": {
          "base_uri": "https://localhost:8080/"
        },
        "id": "fv6L8fxQ7Rim",
        "outputId": "4e4e4712-a960-4baf-ce5d-e9ea5b1c0aac"
      },
      "execution_count": null,
      "outputs": [
        {
          "output_type": "execute_result",
          "data": {
            "text/plain": [
              "['Ar condicionado',\n",
              " 'Bancos de couro',\n",
              " 'Piloto automático',\n",
              " 'Sensor crepuscular',\n",
              " 'Sensor de chuva',\n",
              " 'Sensor de estacionamento',\n",
              " 'Travas elétricas',\n",
              " '4 X 4']"
            ]
          },
          "metadata": {},
          "execution_count": 93
        }
      ]
    },
    {
      "cell_type": "code",
      "source": [
        "Acessorios.pop()"
      ],
      "metadata": {
        "colab": {
          "base_uri": "https://localhost:8080/",
          "height": 35
        },
        "id": "K_aV8AJE7Ypv",
        "outputId": "39138c1e-3c5d-42da-b967-869d8e4e5837"
      },
      "execution_count": null,
      "outputs": [
        {
          "output_type": "execute_result",
          "data": {
            "text/plain": [
              "'4 X 4'"
            ],
            "application/vnd.google.colaboratory.intrinsic+json": {
              "type": "string"
            }
          },
          "metadata": {},
          "execution_count": 94
        }
      ]
    },
    {
      "cell_type": "code",
      "source": [
        "Acessorios.append('4 X 4')\n",
        "Acessorios"
      ],
      "metadata": {
        "colab": {
          "base_uri": "https://localhost:8080/"
        },
        "id": "P4CE19pI7eM0",
        "outputId": "4afd5948-d62c-42c9-a108-dc71c47bffad"
      },
      "execution_count": null,
      "outputs": [
        {
          "output_type": "execute_result",
          "data": {
            "text/plain": [
              "['Ar condicionado',\n",
              " 'Bancos de couro',\n",
              " 'Piloto automático',\n",
              " 'Sensor crepuscular',\n",
              " 'Sensor de chuva',\n",
              " 'Sensor de estacionamento',\n",
              " 'Travas elétricas',\n",
              " '4 X 4']"
            ]
          },
          "metadata": {},
          "execution_count": 95
        }
      ]
    },
    {
      "cell_type": "code",
      "source": [
        "Acessorios_2"
      ],
      "metadata": {
        "colab": {
          "base_uri": "https://localhost:8080/"
        },
        "id": "I05Z80ZR7pIN",
        "outputId": "2bacc007-14ac-4586-c167-c06109379895"
      },
      "execution_count": null,
      "outputs": [
        {
          "output_type": "execute_result",
          "data": {
            "text/plain": [
              "['Ar condicionado',\n",
              " 'Bancos de couro',\n",
              " 'Piloto automático',\n",
              " 'Sensor crepuscular',\n",
              " 'Sensor de chuva',\n",
              " 'Sensor de estacionamento',\n",
              " 'Travas elétricas',\n",
              " '4 X 4']"
            ]
          },
          "metadata": {},
          "execution_count": 96
        }
      ]
    },
    {
      "cell_type": "code",
      "source": [
        "Acessorios_2 = Acessorios [:]\n",
        "Acessorios_2"
      ],
      "metadata": {
        "colab": {
          "base_uri": "https://localhost:8080/"
        },
        "id": "orI5MiNM7rHq",
        "outputId": "d094c0a0-5170-4730-c737-e8bf3610e7a9"
      },
      "execution_count": null,
      "outputs": [
        {
          "output_type": "execute_result",
          "data": {
            "text/plain": [
              "['Ar condicionado',\n",
              " 'Bancos de couro',\n",
              " 'Piloto automático',\n",
              " 'Sensor crepuscular',\n",
              " 'Sensor de chuva',\n",
              " 'Sensor de estacionamento',\n",
              " 'Travas elétricas',\n",
              " '4 X 4']"
            ]
          },
          "metadata": {},
          "execution_count": 98
        }
      ]
    },
    {
      "cell_type": "markdown",
      "source": [
        "#  ESTRUTURAS DE REPETIÇÃO E CONDICIONAIS"
      ],
      "metadata": {
        "id": "IIFI-isE79PB"
      }
    },
    {
      "cell_type": "markdown",
      "source": [
        "# Instrução *for*\n",
        "\n",
        "#### Formato padrão\n",
        "\n",
        "```\n",
        "for <variável> in <coleção>:\n",
        "    <instruções>\n",
        "```"
      ],
      "metadata": {
        "id": "wJf9H4D78Ckn"
      }
    },
    {
      "cell_type": "markdown",
      "source": [
        "### Loops com listas"
      ],
      "metadata": {
        "id": "h71pcHUH8CnU"
      }
    },
    {
      "cell_type": "code",
      "source": [
        "Acessorios = ['Rodas de liga', 'Travas elétricas', 'Piloto automático', 'Bancos de couro', 'Ar condicionado', 'Sensor de estacionamento', 'Sensor crepuscular', 'Sensor de chuva']\n",
        "Acessorios"
      ],
      "metadata": {
        "colab": {
          "base_uri": "https://localhost:8080/"
        },
        "id": "zryP0xsh8JS3",
        "outputId": "0aa769ce-16d9-458b-c1fa-5482597658ed"
      },
      "execution_count": null,
      "outputs": [
        {
          "output_type": "execute_result",
          "data": {
            "text/plain": [
              "['Rodas de liga',\n",
              " 'Travas elétricas',\n",
              " 'Piloto automático',\n",
              " 'Bancos de couro',\n",
              " 'Ar condicionado',\n",
              " 'Sensor de estacionamento',\n",
              " 'Sensor crepuscular',\n",
              " 'Sensor de chuva']"
            ]
          },
          "metadata": {},
          "execution_count": 100
        }
      ]
    },
    {
      "cell_type": "code",
      "source": [
        "for item in Acessorios:\n",
        "  print(item)"
      ],
      "metadata": {
        "colab": {
          "base_uri": "https://localhost:8080/"
        },
        "id": "qTsQnQ7B9F_c",
        "outputId": "104b7249-7274-4bef-f12f-0f46438c2af8"
      },
      "execution_count": null,
      "outputs": [
        {
          "output_type": "stream",
          "name": "stdout",
          "text": [
            "Rodas de liga\n",
            "Travas elétricas\n",
            "Piloto automático\n",
            "Bancos de couro\n",
            "Ar condicionado\n",
            "Sensor de estacionamento\n",
            "Sensor crepuscular\n",
            "Sensor de chuva\n"
          ]
        }
      ]
    },
    {
      "cell_type": "markdown",
      "source": [
        "###  List comprehensions\n",
        "\n",
        "https://docs.python.org/3.6/tutorial/datastructures.html#list-comprehensions"
      ],
      "metadata": {
        "id": "croykk0c9zw1"
      }
    },
    {
      "cell_type": "markdown",
      "source": [
        "*range()* -> https://docs.python.org/3.6/library/functions.html#func-range\n",
        "\n",
        "O range gera um interador"
      ],
      "metadata": {
        "id": "hag_fZzp99FU"
      }
    },
    {
      "cell_type": "code",
      "source": [
        "range(10)"
      ],
      "metadata": {
        "colab": {
          "base_uri": "https://localhost:8080/"
        },
        "id": "Eue5Ybzt-Aga",
        "outputId": "471a6093-b683-4365-9277-3c11b12a7faa"
      },
      "execution_count": null,
      "outputs": [
        {
          "output_type": "execute_result",
          "data": {
            "text/plain": [
              "range(0, 10)"
            ]
          },
          "metadata": {},
          "execution_count": 102
        }
      ]
    },
    {
      "cell_type": "code",
      "source": [
        "list(range(10))"
      ],
      "metadata": {
        "colab": {
          "base_uri": "https://localhost:8080/"
        },
        "id": "YdfzFheB-RnA",
        "outputId": "17ad366b-c170-4079-e297-1a155fbed0a9"
      },
      "execution_count": null,
      "outputs": [
        {
          "output_type": "execute_result",
          "data": {
            "text/plain": [
              "[0, 1, 2, 3, 4, 5, 6, 7, 8, 9]"
            ]
          },
          "metadata": {},
          "execution_count": 103
        }
      ]
    },
    {
      "cell_type": "code",
      "source": [
        "for i in range(10):\n",
        "  print(i ** 2)"
      ],
      "metadata": {
        "colab": {
          "base_uri": "https://localhost:8080/"
        },
        "id": "svvuQkqs-X2t",
        "outputId": "906d6ba2-aeb4-4d3e-80bd-b53564ea498f"
      },
      "execution_count": null,
      "outputs": [
        {
          "output_type": "stream",
          "name": "stdout",
          "text": [
            "0\n",
            "1\n",
            "4\n",
            "9\n",
            "16\n",
            "25\n",
            "36\n",
            "49\n",
            "64\n",
            "81\n"
          ]
        }
      ]
    },
    {
      "cell_type": "code",
      "source": [
        "quadrado = []\n",
        "for i in range(10):\n",
        "  quadrado.append(i ** 2)\n",
        "\n",
        "quadrado"
      ],
      "metadata": {
        "colab": {
          "base_uri": "https://localhost:8080/"
        },
        "id": "-qwPEmVM-yi1",
        "outputId": "836597de-6cb0-4350-cfa7-fbcc56b68c5a"
      },
      "execution_count": null,
      "outputs": [
        {
          "output_type": "execute_result",
          "data": {
            "text/plain": [
              "[0, 1, 4, 9, 16, 25, 36, 49, 64, 81]"
            ]
          },
          "metadata": {},
          "execution_count": 105
        }
      ]
    },
    {
      "cell_type": "code",
      "source": [
        "[i ** 2 for i in range(10)]"
      ],
      "metadata": {
        "colab": {
          "base_uri": "https://localhost:8080/"
        },
        "id": "hyjYkRF1_LMp",
        "outputId": "58319b33-744e-4909-e1ac-4a2b91d2c819"
      },
      "execution_count": null,
      "outputs": [
        {
          "output_type": "execute_result",
          "data": {
            "text/plain": [
              "[0, 1, 4, 9, 16, 25, 36, 49, 64, 81]"
            ]
          },
          "metadata": {},
          "execution_count": 106
        }
      ]
    },
    {
      "cell_type": "markdown",
      "source": [
        "# Loops aninhados"
      ],
      "metadata": {
        "id": "a2HnvoL7AbiQ"
      }
    },
    {
      "cell_type": "code",
      "source": [
        "dados = [ \n",
        "    ['Rodas de liga', 'Travas elétricas', 'Piloto automático', 'Bancos de couro', 'Ar condicionado', 'Sensor de estacionamento', 'Sensor crepuscular', 'Sensor de chuva'],\n",
        "    ['Central multimídia', 'Teto panorâmico', 'Freios ABS', '4 X 4', 'Painel digital', 'Piloto automático', 'Bancos de couro', 'Câmera de estacionamento'],\n",
        "    ['Piloto automático', 'Controle de estabilidade', 'Sensor crepuscular', 'Freios ABS', 'Câmbio automático', 'Bancos de couro', 'Central multimídia', 'Vidros elétricos']\n",
        "]\n",
        "dados"
      ],
      "metadata": {
        "colab": {
          "base_uri": "https://localhost:8080/"
        },
        "id": "scRdHdCbAgcE",
        "outputId": "40722e6d-2bc8-4411-b677-6119559cc7da"
      },
      "execution_count": null,
      "outputs": [
        {
          "output_type": "execute_result",
          "data": {
            "text/plain": [
              "[['Rodas de liga',\n",
              "  'Travas elétricas',\n",
              "  'Piloto automático',\n",
              "  'Bancos de couro',\n",
              "  'Ar condicionado',\n",
              "  'Sensor de estacionamento',\n",
              "  'Sensor crepuscular',\n",
              "  'Sensor de chuva'],\n",
              " ['Central multimídia',\n",
              "  'Teto panorâmico',\n",
              "  'Freios ABS',\n",
              "  '4 X 4',\n",
              "  'Painel digital',\n",
              "  'Piloto automático',\n",
              "  'Bancos de couro',\n",
              "  'Câmera de estacionamento'],\n",
              " ['Piloto automático',\n",
              "  'Controle de estabilidade',\n",
              "  'Sensor crepuscular',\n",
              "  'Freios ABS',\n",
              "  'Câmbio automático',\n",
              "  'Bancos de couro',\n",
              "  'Central multimídia',\n",
              "  'Vidros elétricos']]"
            ]
          },
          "metadata": {},
          "execution_count": 31
        }
      ]
    },
    {
      "cell_type": "code",
      "source": [
        "for lista in dados:\n",
        "  print(lista)"
      ],
      "metadata": {
        "colab": {
          "base_uri": "https://localhost:8080/"
        },
        "id": "CRNSWg88A2B5",
        "outputId": "f1da8e73-5cd2-4f5e-da45-5aa287acfb18"
      },
      "execution_count": null,
      "outputs": [
        {
          "output_type": "stream",
          "name": "stdout",
          "text": [
            "['Rodas de liga', 'Travas elétricas', 'Piloto automático', 'Bancos de couro', 'Ar condicionado', 'Sensor de estacionamento', 'Sensor crepuscular', 'Sensor de chuva']\n",
            "['Central multimídia', 'Teto panorâmico', 'Freios ABS', '4 X 4', 'Painel digital', 'Piloto automático', 'Bancos de couro', 'Câmera de estacionamento']\n",
            "['Piloto automático', 'Controle de estabilidade', 'Sensor crepuscular', 'Freios ABS', 'Câmbio automático', 'Bancos de couro', 'Central multimídia', 'Vidros elétricos']\n"
          ]
        }
      ]
    },
    {
      "cell_type": "code",
      "source": [
        "for lista in dados:\n",
        "  for item in lista:\n",
        "    print(item)"
      ],
      "metadata": {
        "colab": {
          "base_uri": "https://localhost:8080/"
        },
        "id": "ndsdGNEvA9W4",
        "outputId": "018f1a54-bbb7-483b-9216-5cf47869f92e"
      },
      "execution_count": null,
      "outputs": [
        {
          "output_type": "stream",
          "name": "stdout",
          "text": [
            "Rodas de liga\n",
            "Travas elétricas\n",
            "Piloto automático\n",
            "Bancos de couro\n",
            "Ar condicionado\n",
            "Sensor de estacionamento\n",
            "Sensor crepuscular\n",
            "Sensor de chuva\n",
            "Central multimídia\n",
            "Teto panorâmico\n",
            "Freios ABS\n",
            "4 X 4\n",
            "Painel digital\n",
            "Piloto automático\n",
            "Bancos de couro\n",
            "Câmera de estacionamento\n",
            "Piloto automático\n",
            "Controle de estabilidade\n",
            "Sensor crepuscular\n",
            "Freios ABS\n",
            "Câmbio automático\n",
            "Bancos de couro\n",
            "Central multimídia\n",
            "Vidros elétricos\n"
          ]
        }
      ]
    },
    {
      "cell_type": "code",
      "source": [
        "Acessorios = []\n",
        "for lista in dados:\n",
        "  for item in lista:\n",
        "    Acessorios.append(item)\n",
        "\n",
        "\n",
        "Acessorios"
      ],
      "metadata": {
        "colab": {
          "base_uri": "https://localhost:8080/"
        },
        "id": "F3JmM1waBRCS",
        "outputId": "570c5e94-335f-4a40-b20e-c15ce707fa6c"
      },
      "execution_count": null,
      "outputs": [
        {
          "output_type": "execute_result",
          "data": {
            "text/plain": [
              "['Rodas de liga',\n",
              " 'Travas elétricas',\n",
              " 'Piloto automático',\n",
              " 'Bancos de couro',\n",
              " 'Ar condicionado',\n",
              " 'Sensor de estacionamento',\n",
              " 'Sensor crepuscular',\n",
              " 'Sensor de chuva',\n",
              " 'Central multimídia',\n",
              " 'Teto panorâmico',\n",
              " 'Freios ABS',\n",
              " '4 X 4',\n",
              " 'Painel digital',\n",
              " 'Piloto automático',\n",
              " 'Bancos de couro',\n",
              " 'Câmera de estacionamento',\n",
              " 'Piloto automático',\n",
              " 'Controle de estabilidade',\n",
              " 'Sensor crepuscular',\n",
              " 'Freios ABS',\n",
              " 'Câmbio automático',\n",
              " 'Bancos de couro',\n",
              " 'Central multimídia',\n",
              " 'Vidros elétricos']"
            ]
          },
          "metadata": {},
          "execution_count": 34
        }
      ]
    },
    {
      "cell_type": "markdown",
      "source": [
        "## *set()* ajuda a remover itens duplicados\n",
        "\n",
        "https://docs.python.org/3.6/library/stdtypes.html#types-set\n",
        "\n",
        "https://docs.python.org/3.6/library/functions.html#func-set"
      ],
      "metadata": {
        "id": "65VyCZ2KByd6"
      }
    },
    {
      "cell_type": "code",
      "source": [
        "list(set(Acessorios))"
      ],
      "metadata": {
        "colab": {
          "base_uri": "https://localhost:8080/"
        },
        "id": "7rYvhPqQB1wt",
        "outputId": "65acf9e6-0871-46f1-fed2-9fa54d5b0c4a"
      },
      "execution_count": null,
      "outputs": [
        {
          "output_type": "execute_result",
          "data": {
            "text/plain": [
              "['Vidros elétricos',\n",
              " 'Controle de estabilidade',\n",
              " 'Ar condicionado',\n",
              " 'Bancos de couro',\n",
              " 'Teto panorâmico',\n",
              " '4 X 4',\n",
              " 'Central multimídia',\n",
              " 'Sensor de estacionamento',\n",
              " 'Câmera de estacionamento',\n",
              " 'Sensor de chuva',\n",
              " 'Câmbio automático',\n",
              " 'Travas elétricas',\n",
              " 'Sensor crepuscular',\n",
              " 'Painel digital',\n",
              " 'Piloto automático',\n",
              " 'Rodas de liga',\n",
              " 'Freios ABS']"
            ]
          },
          "metadata": {},
          "execution_count": 35
        }
      ]
    },
    {
      "cell_type": "markdown",
      "source": [
        "List comprehensions"
      ],
      "metadata": {
        "id": "m6-r2D79CXqO"
      }
    },
    {
      "cell_type": "code",
      "source": [
        "[item for lista in dados for item in lista]"
      ],
      "metadata": {
        "colab": {
          "base_uri": "https://localhost:8080/"
        },
        "id": "lQWDJwYMCZ5R",
        "outputId": "152837ce-2f71-41ca-8123-d0c7b2284ba3"
      },
      "execution_count": null,
      "outputs": [
        {
          "output_type": "execute_result",
          "data": {
            "text/plain": [
              "['Rodas de liga',\n",
              " 'Travas elétricas',\n",
              " 'Piloto automático',\n",
              " 'Bancos de couro',\n",
              " 'Ar condicionado',\n",
              " 'Sensor de estacionamento',\n",
              " 'Sensor crepuscular',\n",
              " 'Sensor de chuva',\n",
              " 'Central multimídia',\n",
              " 'Teto panorâmico',\n",
              " 'Freios ABS',\n",
              " '4 X 4',\n",
              " 'Painel digital',\n",
              " 'Piloto automático',\n",
              " 'Bancos de couro',\n",
              " 'Câmera de estacionamento',\n",
              " 'Piloto automático',\n",
              " 'Controle de estabilidade',\n",
              " 'Sensor crepuscular',\n",
              " 'Freios ABS',\n",
              " 'Câmbio automático',\n",
              " 'Bancos de couro',\n",
              " 'Central multimídia',\n",
              " 'Vidros elétricos']"
            ]
          },
          "metadata": {},
          "execution_count": 112
        }
      ]
    },
    {
      "cell_type": "code",
      "source": [
        "list(set([item for lista in dados for item in lista])) \n",
        "\n",
        "#Lista com loop aninhado sem duplicados\n",
        "#Aqui eu fiz o processo todo que fiz anteriormente em uma linha só"
      ],
      "metadata": {
        "colab": {
          "base_uri": "https://localhost:8080/"
        },
        "id": "wh2ImFg8CqLy",
        "outputId": "0c7ee7dd-8dd9-476f-8cad-903742187969"
      },
      "execution_count": null,
      "outputs": [
        {
          "output_type": "execute_result",
          "data": {
            "text/plain": [
              "['Vidros elétricos',\n",
              " 'Controle de estabilidade',\n",
              " 'Ar condicionado',\n",
              " 'Bancos de couro',\n",
              " 'Teto panorâmico',\n",
              " '4 X 4',\n",
              " 'Central multimídia',\n",
              " 'Sensor de estacionamento',\n",
              " 'Câmera de estacionamento',\n",
              " 'Sensor de chuva',\n",
              " 'Câmbio automático',\n",
              " 'Travas elétricas',\n",
              " 'Sensor crepuscular',\n",
              " 'Painel digital',\n",
              " 'Piloto automático',\n",
              " 'Rodas de liga',\n",
              " 'Freios ABS']"
            ]
          },
          "metadata": {},
          "execution_count": 36
        }
      ]
    },
    {
      "cell_type": "markdown",
      "source": [
        "#  Instrução *if*\n",
        "\n",
        "#### Formato padrão\n",
        "\n",
        "```\n",
        "if <condição>:\n",
        "     <instruções caso a condição seja verdadeira>\n",
        "```"
      ],
      "metadata": {
        "id": "ubZtRjH6DImq"
      }
    },
    {
      "cell_type": "markdown",
      "source": [
        "### Operadores de comparação: $==$, $!=$, $>$, $<$, $>=$, $<=$\n",
        "\n",
        "== comparação, se x é igual a 2, != testa se o valor é diferente\n",
        "\n",
        "     == igual a\n",
        "\n",
        "     != diferente de\n",
        "\n",
        "     > maior que\n",
        "\n",
        "     < menor que\n",
        "\n",
        "     >= maior ou igual a \n",
        "\n",
        "     <= menor ou igual a \n",
        "\n",
        "### e\n",
        "### Operadores lógicos: $and$, $or$, $not$"
      ],
      "metadata": {
        "id": "1ffn1K2KDIp7"
      }
    },
    {
      "cell_type": "code",
      "source": [
        "# 1º item da lista - Nome do veículo\n",
        "# 2º item da lista - Ano de fabricação\n",
        "# 3º item da lista - Veículo é zero km?\n",
        "\n",
        "dados = [\n",
        "    ['Jetta Variant', 2003, False],\n",
        "    ['Passat', 1991, False],\n",
        "    ['Crossfox', 1990, False],\n",
        "    ['DS5', 2019, True],\n",
        "    ['Aston Martin DB4', 2006, False],\n",
        "    ['Palio Weekend', 2012, False],\n",
        "    ['A5', 2019, True],\n",
        "    ['Série 3 Cabrio', 2009, False],\n",
        "    ['Dodge Jorney', 2019, False],\n",
        "    ['Carens', 2011, False]\n",
        "]\n",
        "dados"
      ],
      "metadata": {
        "id": "JugE7AIJDOhT",
        "colab": {
          "base_uri": "https://localhost:8080/"
        },
        "outputId": "3c14ebe8-1f39-4dff-a573-5419e5ef159f"
      },
      "execution_count": null,
      "outputs": [
        {
          "output_type": "execute_result",
          "data": {
            "text/plain": [
              "[['Jetta Variant', 2003, False],\n",
              " ['Passat', 1991, False],\n",
              " ['Crossfox', 1990, False],\n",
              " ['DS5', 2019, True],\n",
              " ['Aston Martin DB4', 2006, False],\n",
              " ['Palio Weekend', 2012, False],\n",
              " ['A5', 2019, True],\n",
              " ['Série 3 Cabrio', 2009, False],\n",
              " ['Dodge Jorney', 2019, False],\n",
              " ['Carens', 2011, False]]"
            ]
          },
          "metadata": {},
          "execution_count": 37
        }
      ]
    },
    {
      "cell_type": "code",
      "source": [
        "for lista in dados:\n",
        "  print(lista)"
      ],
      "metadata": {
        "colab": {
          "base_uri": "https://localhost:8080/"
        },
        "id": "uwUAyiIKjcYd",
        "outputId": "41b02a8a-b344-4cc0-c830-3f3ce55dbc85"
      },
      "execution_count": null,
      "outputs": [
        {
          "output_type": "stream",
          "name": "stdout",
          "text": [
            "['Jetta Variant', 2003, False]\n",
            "['Passat', 1991, False]\n",
            "['Crossfox', 1990, False]\n",
            "['DS5', 2019, True]\n",
            "['Aston Martin DB4', 2006, False]\n",
            "['Palio Weekend', 2012, False]\n",
            "['A5', 2019, True]\n",
            "['Série 3 Cabrio', 2009, False]\n",
            "['Dodge Jorney', 2019, False]\n",
            "['Carens', 2011, False]\n"
          ]
        }
      ]
    },
    {
      "cell_type": "code",
      "source": [
        "for lista in dados:\n",
        "  print(lista[2])"
      ],
      "metadata": {
        "colab": {
          "base_uri": "https://localhost:8080/"
        },
        "id": "vBGVWlCljy-F",
        "outputId": "e7ce5993-3166-4cd2-b02e-022e777632eb"
      },
      "execution_count": null,
      "outputs": [
        {
          "output_type": "stream",
          "name": "stdout",
          "text": [
            "False\n",
            "False\n",
            "False\n",
            "True\n",
            "False\n",
            "False\n",
            "True\n",
            "False\n",
            "False\n",
            "False\n"
          ]
        }
      ]
    },
    {
      "cell_type": "code",
      "source": [
        "for lista in dados:\n",
        "  if(lista[2] == True):\n",
        "   print(lista)"
      ],
      "metadata": {
        "colab": {
          "base_uri": "https://localhost:8080/"
        },
        "id": "4ukkDlKFj80v",
        "outputId": "cd2e7bae-294e-4c18-b2c3-b1d319b21092"
      },
      "execution_count": null,
      "outputs": [
        {
          "output_type": "stream",
          "name": "stdout",
          "text": [
            "['DS5', 2019, True]\n",
            "['A5', 2019, True]\n"
          ]
        }
      ]
    },
    {
      "cell_type": "code",
      "source": [
        "zero_km_Y = []\n",
        "\n",
        "for lista in dados:\n",
        "  if(lista[2] == True):\n",
        "    zero_km_Y.append(lista)\n",
        "\n",
        "zero_km_Y"
      ],
      "metadata": {
        "colab": {
          "base_uri": "https://localhost:8080/"
        },
        "id": "eq326yMnkHFK",
        "outputId": "75e71901-e324-4e51-ec49-d300544b50e3"
      },
      "execution_count": null,
      "outputs": [
        {
          "output_type": "execute_result",
          "data": {
            "text/plain": [
              "[['DS5', 2019, True], ['A5', 2019, True]]"
            ]
          },
          "metadata": {},
          "execution_count": 7
        }
      ]
    },
    {
      "cell_type": "code",
      "source": [
        "zero_km_N = []\n",
        "\n",
        "for lista in dados:\n",
        "  if(lista[2] == False):\n",
        "    zero_km_N.append(lista)\n",
        "\n",
        "zero_km_N"
      ],
      "metadata": {
        "colab": {
          "base_uri": "https://localhost:8080/"
        },
        "id": "NXbddqYkkmQx",
        "outputId": "dc710214-e2b1-42fb-cd86-ee9aca5a9f49"
      },
      "execution_count": null,
      "outputs": [
        {
          "output_type": "execute_result",
          "data": {
            "text/plain": [
              "[['Jetta Variant', 2003, False],\n",
              " ['Passat', 1991, False],\n",
              " ['Crossfox', 1990, False],\n",
              " ['Aston Martin DB4', 2006, False],\n",
              " ['Palio Weekend', 2012, False],\n",
              " ['Série 3 Cabrio', 2009, False],\n",
              " ['Dodge Jorney', 2019, False],\n",
              " ['Carens', 2011, False]]"
            ]
          },
          "metadata": {},
          "execution_count": 8
        }
      ]
    },
    {
      "cell_type": "markdown",
      "source": [
        "List Comprehensions\n"
      ],
      "metadata": {
        "id": "qQ2YdHUjlGT_"
      }
    },
    {
      "cell_type": "code",
      "source": [
        "[lista for lista in dados if lista[2] == True] #Retorna a mesma coisa que fiz na Linha 7 de forma resumida"
      ],
      "metadata": {
        "colab": {
          "base_uri": "https://localhost:8080/"
        },
        "id": "YA2IuOrAlIli",
        "outputId": "5bf3bf8d-2e3b-439b-c64a-2dc60f71214a"
      },
      "execution_count": null,
      "outputs": [
        {
          "output_type": "execute_result",
          "data": {
            "text/plain": [
              "[['DS5', 2019, True], ['A5', 2019, True]]"
            ]
          },
          "metadata": {},
          "execution_count": 9
        }
      ]
    },
    {
      "cell_type": "code",
      "source": [
        "[lista for lista in dados if lista[2] == False]"
      ],
      "metadata": {
        "colab": {
          "base_uri": "https://localhost:8080/"
        },
        "id": "-2W7RZxKloH5",
        "outputId": "bddd9378-d3f0-445c-969f-6eba2a4f0cfb"
      },
      "execution_count": null,
      "outputs": [
        {
          "output_type": "execute_result",
          "data": {
            "text/plain": [
              "[['Jetta Variant', 2003, False],\n",
              " ['Passat', 1991, False],\n",
              " ['Crossfox', 1990, False],\n",
              " ['Aston Martin DB4', 2006, False],\n",
              " ['Palio Weekend', 2012, False],\n",
              " ['Série 3 Cabrio', 2009, False],\n",
              " ['Dodge Jorney', 2019, False],\n",
              " ['Carens', 2011, False]]"
            ]
          },
          "metadata": {},
          "execution_count": 10
        }
      ]
    },
    {
      "cell_type": "markdown",
      "source": [
        "# Instruções *if-else* e *if-elif-else*\n",
        "\n",
        "#### Formato padrão\n",
        "\n",
        "```\n",
        "if <condição>:\n",
        "    <instruções caso a condição seja verdadeira>\n",
        "else:\n",
        "    <instruções caso a condição não seja verdadeira>\n",
        "```"
      ],
      "metadata": {
        "id": "bhWqSZwZmOLW"
      }
    },
    {
      "cell_type": "code",
      "source": [
        "zero_km_Y, zero_km_N = [], [] #Preencher as duas listas ao mesmo tempo\n",
        "\n",
        "for lista in dados:\n",
        "  if(lista[2] == True):\n",
        "    zero_km_Y.append(lista)\n",
        "  else:\n",
        "    zero_km_N.append(lista)"
      ],
      "metadata": {
        "id": "DLT8kWeUmQEy"
      },
      "execution_count": null,
      "outputs": []
    },
    {
      "cell_type": "code",
      "source": [
        "zero_km_Y"
      ],
      "metadata": {
        "colab": {
          "base_uri": "https://localhost:8080/"
        },
        "id": "NQwmBSIsmShr",
        "outputId": "188bc279-7b58-4d95-9a28-a8f5468698a0"
      },
      "execution_count": null,
      "outputs": [
        {
          "output_type": "execute_result",
          "data": {
            "text/plain": [
              "[['DS5', 2019, True], ['A5', 2019, True]]"
            ]
          },
          "metadata": {},
          "execution_count": 13
        }
      ]
    },
    {
      "cell_type": "code",
      "source": [
        "zero_km_N"
      ],
      "metadata": {
        "colab": {
          "base_uri": "https://localhost:8080/"
        },
        "id": "W8tAxleemSkn",
        "outputId": "f5f96bc5-f023-44f9-db28-9a5b2f796483"
      },
      "execution_count": null,
      "outputs": [
        {
          "output_type": "execute_result",
          "data": {
            "text/plain": [
              "[['Jetta Variant', 2003, False],\n",
              " ['Passat', 1991, False],\n",
              " ['Crossfox', 1990, False],\n",
              " ['Aston Martin DB4', 2006, False],\n",
              " ['Palio Weekend', 2012, False],\n",
              " ['Série 3 Cabrio', 2009, False],\n",
              " ['Dodge Jorney', 2019, False],\n",
              " ['Carens', 2011, False]]"
            ]
          },
          "metadata": {},
          "execution_count": 14
        }
      ]
    },
    {
      "cell_type": "markdown",
      "source": [
        "#### Formato padrão\n",
        "\n",
        "```\n",
        "if <condição 1>:\n",
        "    <instruções caso a condição 1 seja verdadeira>\n",
        "elif <condição 2>:\n",
        "    <instruções caso a condição 2 seja verdadeira>\n",
        "elif <condição 3>:\n",
        "    <instruções caso a condição 3 seja verdadeira>\n",
        "                        .\n",
        "                        .\n",
        "                        .\n",
        "else:\n",
        "    <instruções caso as condições anteriores não sejam verdadeiras>\n",
        "    \n",
        "     O else não é necessário, pode terminar com elif.\n",
        "```"
      ],
      "metadata": {
        "id": "apbn3u9AmTPd"
      }
    },
    {
      "cell_type": "code",
      "source": [
        "dados"
      ],
      "metadata": {
        "colab": {
          "base_uri": "https://localhost:8080/"
        },
        "id": "cATiMxJemX6K",
        "outputId": "b400ba3a-866b-4820-c69d-418a7805bda8"
      },
      "execution_count": null,
      "outputs": [
        {
          "output_type": "execute_result",
          "data": {
            "text/plain": [
              "[['Jetta Variant', 2003, False],\n",
              " ['Passat', 1991, False],\n",
              " ['Crossfox', 1990, False],\n",
              " ['DS5', 2019, True],\n",
              " ['Aston Martin DB4', 2006, False],\n",
              " ['Palio Weekend', 2012, False],\n",
              " ['A5', 2019, True],\n",
              " ['Série 3 Cabrio', 2009, False],\n",
              " ['Dodge Jorney', 2019, False],\n",
              " ['Carens', 2011, False]]"
            ]
          },
          "metadata": {},
          "execution_count": 15
        }
      ]
    },
    {
      "cell_type": "code",
      "source": [
        "print('AND') #No caso do and a única situação onde vai ser true é se as duas forem verdadeiras.\n",
        "print(f'(True and True) o resultado é: {True and True}')\n",
        "print(f'(True and False) o resultado é: {True and False}')\n",
        "print(f'(False and True) o resultado é: {False and True}')\n",
        "print(f'(False and False) o resultado é: {False and False}')"
      ],
      "metadata": {
        "colab": {
          "base_uri": "https://localhost:8080/"
        },
        "id": "E8GuG8pE23ww",
        "outputId": "15a8b28f-ff7e-48d8-ca81-901c76a2bbbd"
      },
      "execution_count": null,
      "outputs": [
        {
          "output_type": "stream",
          "name": "stdout",
          "text": [
            "AND\n",
            "(True and True) o resultado é: True\n",
            "(True and False) o resultado é: False\n",
            "(False and True) o resultado é: False\n",
            "(False and False) o resultado é: False\n"
          ]
        }
      ]
    },
    {
      "cell_type": "code",
      "source": [
        "#No caso do or se a condição primeira for verdadeira OU a segunda for verdadeira então vai ser verdadeiro. \n",
        "#A única condição com o or que vai dar false é quando as duas forem falsas.\n",
        "\n",
        "print('OR')\n",
        "print(f'(True or True) o resultado é: {True or True}')\n",
        "print(f'(True or False) o resultado é: {True or False}')\n",
        "print(f'(False or True) o resultado é: {False or True}')\n",
        "print(f'(False or False) o resultado é: {False or False}')"
      ],
      "metadata": {
        "colab": {
          "base_uri": "https://localhost:8080/"
        },
        "id": "RmuP1v9o57_h",
        "outputId": "8e4b6676-6193-40a8-85f2-c1ef946a5eb5"
      },
      "execution_count": null,
      "outputs": [
        {
          "output_type": "stream",
          "name": "stdout",
          "text": [
            "OR\n",
            "(True or True) o resultado é: True\n",
            "(True or False) o resultado é: True\n",
            "(False or True) o resultado é: True\n",
            "(False or False) o resultado é: False\n"
          ]
        }
      ]
    },
    {
      "cell_type": "code",
      "source": [
        "A, B, C = [], [], []\n",
        "\n",
        "for lista in dados:\n",
        "  if (lista[1] <= 2000):\n",
        "    A.append(lista)\n",
        "  elif(lista[1] > 2000 and lista[1] <= 2010):\n",
        "    B.append(lista)\n",
        "  else:\n",
        "    C.append(lista)"
      ],
      "metadata": {
        "id": "7_uh3sTN6qgZ"
      },
      "execution_count": null,
      "outputs": []
    },
    {
      "cell_type": "code",
      "source": [
        "A"
      ],
      "metadata": {
        "colab": {
          "base_uri": "https://localhost:8080/"
        },
        "id": "3QDOpKA87ixP",
        "outputId": "db75c10c-b735-4044-bbb4-b2d0cc1ebdd4"
      },
      "execution_count": null,
      "outputs": [
        {
          "output_type": "execute_result",
          "data": {
            "text/plain": [
              "[['Passat', 1991, False], ['Crossfox', 1990, False]]"
            ]
          },
          "metadata": {},
          "execution_count": 20
        }
      ]
    },
    {
      "cell_type": "code",
      "source": [
        "B"
      ],
      "metadata": {
        "colab": {
          "base_uri": "https://localhost:8080/"
        },
        "id": "EToWeAny7ldQ",
        "outputId": "7aa9ae9f-4d9b-4cf7-a687-5cbacd545617"
      },
      "execution_count": null,
      "outputs": [
        {
          "output_type": "execute_result",
          "data": {
            "text/plain": [
              "[['Jetta Variant', 2003, False],\n",
              " ['Aston Martin DB4', 2006, False],\n",
              " ['Série 3 Cabrio', 2009, False]]"
            ]
          },
          "metadata": {},
          "execution_count": 21
        }
      ]
    },
    {
      "cell_type": "code",
      "source": [
        "C"
      ],
      "metadata": {
        "colab": {
          "base_uri": "https://localhost:8080/"
        },
        "id": "kjP7hLn17nG0",
        "outputId": "0530ffe4-c131-4ac5-9879-d62f0b491def"
      },
      "execution_count": null,
      "outputs": [
        {
          "output_type": "execute_result",
          "data": {
            "text/plain": [
              "[['DS5', 2019, True],\n",
              " ['Palio Weekend', 2012, False],\n",
              " ['A5', 2019, True],\n",
              " ['Dodge Jorney', 2019, False],\n",
              " ['Carens', 2011, False]]"
            ]
          },
          "metadata": {},
          "execution_count": 22
        }
      ]
    },
    {
      "cell_type": "code",
      "source": [
        "A, B, C = [], [], []\n",
        "\n",
        "for lista in dados:\n",
        "  if (lista[1] <= 2000):\n",
        "    A.append(lista)\n",
        "  elif(2000 < lista[1] <= 2010):  #Aqui a gente fez a mesma coisa só que colocou lista só uma vez entre os sinais\n",
        "    B.append(lista)\n",
        "  else:\n",
        "    C.append(lista)"
      ],
      "metadata": {
        "id": "Kpt71QN-7x-u"
      },
      "execution_count": null,
      "outputs": []
    },
    {
      "cell_type": "code",
      "source": [
        "A"
      ],
      "metadata": {
        "colab": {
          "base_uri": "https://localhost:8080/"
        },
        "id": "Nd_w4Ynd8Hmc",
        "outputId": "2ff0f950-6a86-4337-9df6-052a2cbcc6e1"
      },
      "execution_count": null,
      "outputs": [
        {
          "output_type": "execute_result",
          "data": {
            "text/plain": [
              "[['Passat', 1991, False], ['Crossfox', 1990, False]]"
            ]
          },
          "metadata": {},
          "execution_count": 24
        }
      ]
    },
    {
      "cell_type": "code",
      "source": [
        "B"
      ],
      "metadata": {
        "colab": {
          "base_uri": "https://localhost:8080/"
        },
        "id": "DUySh3Yz8I0p",
        "outputId": "e7786bdf-a33a-468a-decc-f2069e108c15"
      },
      "execution_count": null,
      "outputs": [
        {
          "output_type": "execute_result",
          "data": {
            "text/plain": [
              "[['Jetta Variant', 2003, False],\n",
              " ['Aston Martin DB4', 2006, False],\n",
              " ['Série 3 Cabrio', 2009, False]]"
            ]
          },
          "metadata": {},
          "execution_count": 25
        }
      ]
    },
    {
      "cell_type": "code",
      "source": [
        "C"
      ],
      "metadata": {
        "colab": {
          "base_uri": "https://localhost:8080/"
        },
        "id": "PiQ0aO6P8J_h",
        "outputId": "c2632dc7-2700-4ab3-f8dd-f227a22612f2"
      },
      "execution_count": null,
      "outputs": [
        {
          "output_type": "execute_result",
          "data": {
            "text/plain": [
              "[['DS5', 2019, True],\n",
              " ['Palio Weekend', 2012, False],\n",
              " ['A5', 2019, True],\n",
              " ['Dodge Jorney', 2019, False],\n",
              " ['Carens', 2011, False]]"
            ]
          },
          "metadata": {},
          "execution_count": 26
        }
      ]
    },
    {
      "cell_type": "markdown",
      "source": [
        "# NUMPY BÁSICO\n",
        "---\n",
        "\n",
        "Numpy é a abreviação de Numerical Python e é um dos pacotes mais importantes para processamento numérico em Python. Numpy oferece a base para a maioria dos pacotes de aplicações científicas que utilizem dados numéricos em Python (estruturas de dados e algoritmos). Pode-se destacar os seguintes recursos que o pacote Numpy contém:\n",
        "\n",
        "- Um poderoso objeto array multidimensional;\n",
        "- Funções matemáticas sofisticadas para operações com arrays sem a necessidade de utilização de laços *for*;\n",
        "- Recursos de algebra linear e geração de números aleatórios\n",
        "\n",
        "Além de seus óbvios usos científicos, o pacote NumPy também é muito utilizado em análise de dados como um eficiente contêiner multidimensional de dados genéricos para transporte entre diversos algoritmos e bibliotecas em Python.\n",
        "\n",
        "**Versão:** 1.16.5\n",
        "\n",
        "**Instalação:** https://scipy.org/install.html\n",
        "\n",
        "**Documentação:** https://numpy.org/doc/1.16/"
      ],
      "metadata": {
        "id": "CLTc4Hv1Dbc7"
      }
    },
    {
      "cell_type": "markdown",
      "source": [
        "### Pacotes\n",
        "\n",
        "Existem diversos pacotes Python disponíveis para download na internet. Cada pacote tem como objetivo a solução de determinado tipo de problema e para isso são desenvolvidos novos tipos, funções e métodos.\n",
        "\n",
        "Alguns pacotes são bastante utilizados em um contexto de ciência de dados como por exemplo:\n",
        "\n",
        "- Numpy\n",
        "- Pandas\n",
        "- Scikit-learn\n",
        "- Matplotlib\n",
        "\n",
        "Alguns pacotes não são distribuídos com a instalação default do Python. Neste caso devemos instalar os pacotes que necessitamos em nosso sistema para podermos utilizar suas funcionalidades."
      ],
      "metadata": {
        "id": "ONPVjWnEDozc"
      }
    },
    {
      "cell_type": "markdown",
      "source": [
        "### Importando todo o pacote"
      ],
      "metadata": {
        "id": "K5E9FkrCc6Aw"
      }
    },
    {
      "cell_type": "code",
      "source": [
        "import numpy"
      ],
      "metadata": {
        "id": "REDeWyzhUAIH"
      },
      "execution_count": null,
      "outputs": []
    },
    {
      "cell_type": "markdown",
      "source": [
        "Função arange: https://numpy.org/doc/1.16/reference/generated/numpy.arange.html"
      ],
      "metadata": {
        "id": "fnvFv16LdI-9"
      }
    },
    {
      "cell_type": "code",
      "source": [
        "numpy.arange(10)"
      ],
      "metadata": {
        "colab": {
          "base_uri": "https://localhost:8080/"
        },
        "id": "y_TdY3r-dLmS",
        "outputId": "be6b9b1b-2560-4553-9eb3-314aaa65605c"
      },
      "execution_count": null,
      "outputs": [
        {
          "output_type": "execute_result",
          "data": {
            "text/plain": [
              "array([0, 1, 2, 3, 4, 5, 6, 7, 8, 9])"
            ]
          },
          "metadata": {},
          "execution_count": 42
        }
      ]
    },
    {
      "cell_type": "markdown",
      "source": [
        "### Importando todo o pacote e atribuindo um novo nome "
      ],
      "metadata": {
        "id": "QBbyeh5-dqTO"
      }
    },
    {
      "cell_type": "code",
      "source": [
        "import numpy as np"
      ],
      "metadata": {
        "id": "NpOStxfEdrti"
      },
      "execution_count": null,
      "outputs": []
    },
    {
      "cell_type": "code",
      "source": [
        "np.arange(10)"
      ],
      "metadata": {
        "colab": {
          "base_uri": "https://localhost:8080/"
        },
        "id": "2ENHklMmdu3b",
        "outputId": "07bdf1eb-9223-4477-98b8-76ca514b9c04"
      },
      "execution_count": null,
      "outputs": [
        {
          "output_type": "execute_result",
          "data": {
            "text/plain": [
              "array([0, 1, 2, 3, 4, 5, 6, 7, 8, 9])"
            ]
          },
          "metadata": {},
          "execution_count": 45
        }
      ]
    },
    {
      "cell_type": "markdown",
      "source": [
        "### Importando parte do pacote"
      ],
      "metadata": {
        "id": "UGcPirqWd6Ir"
      }
    },
    {
      "cell_type": "code",
      "source": [
        "from numpy import arange"
      ],
      "metadata": {
        "id": "0AZuiUCfd7Fm"
      },
      "execution_count": null,
      "outputs": []
    },
    {
      "cell_type": "code",
      "source": [
        "arange(10)"
      ],
      "metadata": {
        "colab": {
          "base_uri": "https://localhost:8080/"
        },
        "id": "7R8CNJcNd7sG",
        "outputId": "ff7e7adb-39b6-466c-b1ab-d57a39257919"
      },
      "execution_count": null,
      "outputs": [
        {
          "output_type": "execute_result",
          "data": {
            "text/plain": [
              "array([0, 1, 2, 3, 4, 5, 6, 7, 8, 9])"
            ]
          },
          "metadata": {},
          "execution_count": 47
        }
      ]
    },
    {
      "cell_type": "markdown",
      "source": [
        "# Criando arrays Numpy"
      ],
      "metadata": {
        "id": "xaHpvx0zd8LL"
      }
    },
    {
      "cell_type": "code",
      "source": [
        "import numpy as np"
      ],
      "metadata": {
        "id": "oRsDTEFheC3L"
      },
      "execution_count": null,
      "outputs": []
    },
    {
      "cell_type": "markdown",
      "source": [
        "### A partir de listas\n",
        "\n",
        "https://numpy.org/doc/1.16/user/basics.creation.html"
      ],
      "metadata": {
        "id": "P8r794xVeDLe"
      }
    },
    {
      "cell_type": "code",
      "source": [
        "km = np.array([1000, 2300, 4987, 1500])"
      ],
      "metadata": {
        "id": "oycZnVF1eG2h"
      },
      "execution_count": null,
      "outputs": []
    },
    {
      "cell_type": "code",
      "source": [
        "km"
      ],
      "metadata": {
        "colab": {
          "base_uri": "https://localhost:8080/"
        },
        "id": "NyqyesvHeHak",
        "outputId": "db1f464d-77fb-4420-e43c-49302721e786"
      },
      "execution_count": null,
      "outputs": [
        {
          "output_type": "execute_result",
          "data": {
            "text/plain": [
              "array([1000, 2300, 4987, 1500])"
            ]
          },
          "metadata": {},
          "execution_count": 9
        }
      ]
    },
    {
      "cell_type": "code",
      "source": [
        "type(km)"
      ],
      "metadata": {
        "colab": {
          "base_uri": "https://localhost:8080/"
        },
        "id": "Z4UJVOZ-eHdT",
        "outputId": "7486a3c7-6387-4021-a9f5-eb428543d40c"
      },
      "execution_count": null,
      "outputs": [
        {
          "output_type": "execute_result",
          "data": {
            "text/plain": [
              "numpy.ndarray"
            ]
          },
          "metadata": {},
          "execution_count": 10
        }
      ]
    },
    {
      "cell_type": "markdown",
      "source": [
        "https://numpy.org/doc/1.16/user/basics.types.html"
      ],
      "metadata": {
        "id": "Y8xCK-xreHym"
      }
    },
    {
      "cell_type": "code",
      "source": [
        "km.dtype"
      ],
      "metadata": {
        "colab": {
          "base_uri": "https://localhost:8080/"
        },
        "id": "WbfR1hAveLRp",
        "outputId": "3862cb65-6c16-42c9-e605-5e59ff469cd9"
      },
      "execution_count": null,
      "outputs": [
        {
          "output_type": "execute_result",
          "data": {
            "text/plain": [
              "dtype('int64')"
            ]
          },
          "metadata": {},
          "execution_count": 11
        }
      ]
    },
    {
      "cell_type": "markdown",
      "source": [
        "### A partir de dados externos\n",
        "\n",
        "https://numpy.org/doc/1.16/reference/generated/numpy.loadtxt.html"
      ],
      "metadata": {
        "id": "EzBMnQzgeP_i"
      }
    },
    {
      "cell_type": "code",
      "source": [
        "km = np.loadtxt(fname = '/carros-km.txt', dtype = int)"
      ],
      "metadata": {
        "id": "dXoQ8D72eRRm"
      },
      "execution_count": null,
      "outputs": []
    },
    {
      "cell_type": "code",
      "source": [
        "km"
      ],
      "metadata": {
        "colab": {
          "base_uri": "https://localhost:8080/"
        },
        "id": "dO-1-6mUgE_X",
        "outputId": "17872722-1ca8-44c5-872a-e0eceab9bc1f"
      },
      "execution_count": null,
      "outputs": [
        {
          "output_type": "execute_result",
          "data": {
            "text/plain": [
              "array([ 44410,   5712,  37123,      0,  25757,  10728,      0,  77599,\n",
              "        99197,  37978,  12859,   8052,  89773,      0,  41457, 115607,\n",
              "        46449,      0,  37086,  15173, 101193,      0,  98079, 102959,\n",
              "            0,      0,   5795,      0,  58848,  94381,  30163,  53332,\n",
              "        17720,  33808,  90684,  43975,      0,      0,   5526,      0,\n",
              "        93415,  40762,      0,  86302,      0,   9755,  69945,   2395,\n",
              "            0,  80349,  85554,  50496,  67716,  93947,  35345,  81007,\n",
              "       119513,      0,      0,      0,      0,      0, 118895,  48509,\n",
              "       100912,  95649,      0,  90495,      0,  29132,  23802,  84992,\n",
              "        54395,  26731,  44329, 118236, 113808,    610,      0,      0,\n",
              "        12887,  79607,  90924,  42733,      0,      0, 117714, 113885,\n",
              "            0,  30511,  74867, 119760,   8356,  64247,  88661,   4539,\n",
              "       110116,  33215,  92001,      0,  81708,  70641,      0,  91277,\n",
              "        26544,  52596,  47503,  89056,  28834, 110564,  56638,  17357,\n",
              "        74015,  15196,      0,  10821,      0,      0,   9595,  99052,\n",
              "        52389, 119945,  96005,  31639,      0,  80187,      0,  58212,\n",
              "        61672,  32017,      0,  56944,      0,  86519,   4821, 101025,\n",
              "        30705,      0,  32555, 103389,      0,  55289,      0,      0,\n",
              "       115930,  66437,  96800,  14237,  19896, 113045, 114942,   3173,\n",
              "        83611,  25356,  88634,   2314,   2627,  52034,      0,      0,\n",
              "        79577, 108201,  76453,  57683,  96610, 109001,  26212,  45971,\n",
              "        49182,  49907,  38620,  60996,  73914, 107392,   9146,      0,\n",
              "        17924,      0, 116949,  20476,  52804,   8849,  91724,  32056,\n",
              "        74886,      0,      0,  52189,  83559,      0,  20328,      0,\n",
              "        75577,  33659, 104341,  25510,  18965,  87161,   6652,  55738,\n",
              "            0,      0,      0,  64320,      0,  68678,  71697,      0,\n",
              "        34783,  33772,  85127,  13606,  35647,  95128,  14046,  41194,\n",
              "            0,  96100, 103900,  43814,  24638,      0, 110966,  15987,\n",
              "        53369,  10077,  71544,    107,   8394,  41498, 116002, 100858,\n",
              "        67475,   8497,   4420,      0,  58537,      0,      0, 112016,\n",
              "        91840, 112787,      0,      0,   9293,      0,  55083,  48796,\n",
              "            0,  89685,  85384,  98108,  71280,  27505,  29981,  52637,\n",
              "         7685,  50188])"
            ]
          },
          "metadata": {},
          "execution_count": 14
        }
      ]
    },
    {
      "cell_type": "code",
      "source": [
        "km.dtype"
      ],
      "metadata": {
        "colab": {
          "base_uri": "https://localhost:8080/"
        },
        "id": "KYgC78UOgI_S",
        "outputId": "afbdbb3b-fb27-457f-868e-4b670862590a"
      },
      "execution_count": null,
      "outputs": [
        {
          "output_type": "execute_result",
          "data": {
            "text/plain": [
              "dtype('int64')"
            ]
          },
          "metadata": {},
          "execution_count": 15
        }
      ]
    },
    {
      "cell_type": "markdown",
      "source": [
        "### Arrays com duas dimensões"
      ],
      "metadata": {
        "id": "IJC_YKRLgU8O"
      }
    },
    {
      "cell_type": "markdown",
      "source": [
        "São como se fossem matrizes, como se fosse um dataset"
      ],
      "metadata": {
        "id": "duiXmTKigXuU"
      }
    },
    {
      "cell_type": "code",
      "source": [
        "dados = [ \n",
        "    ['Rodas de liga', 'Travas elétricas', 'Piloto automático', 'Bancos de couro', 'Ar condicionado', 'Sensor de estacionamento', 'Sensor crepuscular', 'Sensor de chuva'],\n",
        "    ['Central multimídia', 'Teto panorâmico', 'Freios ABS', '4 X 4', 'Painel digital', 'Piloto automático', 'Bancos de couro', 'Câmera de estacionamento'],\n",
        "    ['Piloto automático', 'Controle de estabilidade', 'Sensor crepuscular', 'Freios ABS', 'Câmbio automático', 'Bancos de couro', 'Central multimídia', 'Vidros elétricos']\n",
        "]\n",
        "dados"
      ],
      "metadata": {
        "colab": {
          "base_uri": "https://localhost:8080/"
        },
        "id": "z-56WMydgWW1",
        "outputId": "6a98e146-7847-41a2-cfee-476f2b26f634"
      },
      "execution_count": null,
      "outputs": [
        {
          "output_type": "execute_result",
          "data": {
            "text/plain": [
              "[['Rodas de liga',\n",
              "  'Travas elétricas',\n",
              "  'Piloto automático',\n",
              "  'Bancos de couro',\n",
              "  'Ar condicionado',\n",
              "  'Sensor de estacionamento',\n",
              "  'Sensor crepuscular',\n",
              "  'Sensor de chuva'],\n",
              " ['Central multimídia',\n",
              "  'Teto panorâmico',\n",
              "  'Freios ABS',\n",
              "  '4 X 4',\n",
              "  'Painel digital',\n",
              "  'Piloto automático',\n",
              "  'Bancos de couro',\n",
              "  'Câmera de estacionamento'],\n",
              " ['Piloto automático',\n",
              "  'Controle de estabilidade',\n",
              "  'Sensor crepuscular',\n",
              "  'Freios ABS',\n",
              "  'Câmbio automático',\n",
              "  'Bancos de couro',\n",
              "  'Central multimídia',\n",
              "  'Vidros elétricos']]"
            ]
          },
          "metadata": {},
          "execution_count": 16
        }
      ]
    },
    {
      "cell_type": "code",
      "source": [
        "Acessorios = np.array(dados)"
      ],
      "metadata": {
        "id": "e-vGXBYritU8"
      },
      "execution_count": null,
      "outputs": []
    },
    {
      "cell_type": "code",
      "source": [
        "Acessorios"
      ],
      "metadata": {
        "colab": {
          "base_uri": "https://localhost:8080/"
        },
        "id": "yc42rmtgi0hX",
        "outputId": "8efc3c5b-4a57-46c6-86a3-59950232ec2f"
      },
      "execution_count": null,
      "outputs": [
        {
          "output_type": "execute_result",
          "data": {
            "text/plain": [
              "array([['Rodas de liga', 'Travas elétricas', 'Piloto automático',\n",
              "        'Bancos de couro', 'Ar condicionado', 'Sensor de estacionamento',\n",
              "        'Sensor crepuscular', 'Sensor de chuva'],\n",
              "       ['Central multimídia', 'Teto panorâmico', 'Freios ABS', '4 X 4',\n",
              "        'Painel digital', 'Piloto automático', 'Bancos de couro',\n",
              "        'Câmera de estacionamento'],\n",
              "       ['Piloto automático', 'Controle de estabilidade',\n",
              "        'Sensor crepuscular', 'Freios ABS', 'Câmbio automático',\n",
              "        'Bancos de couro', 'Central multimídia', 'Vidros elétricos']],\n",
              "      dtype='<U24')"
            ]
          },
          "metadata": {},
          "execution_count": 59
        }
      ]
    },
    {
      "cell_type": "code",
      "source": [
        "km.shape"
      ],
      "metadata": {
        "colab": {
          "base_uri": "https://localhost:8080/"
        },
        "id": "-HF_jRpNi6V7",
        "outputId": "5535b188-b180-480a-84c9-3dadc842941d"
      },
      "execution_count": null,
      "outputs": [
        {
          "output_type": "execute_result",
          "data": {
            "text/plain": [
              "(258,)"
            ]
          },
          "metadata": {},
          "execution_count": 18
        }
      ]
    },
    {
      "cell_type": "code",
      "source": [
        "Acessorios.shape"
      ],
      "metadata": {
        "colab": {
          "base_uri": "https://localhost:8080/"
        },
        "id": "Qu93Uyk2jCKF",
        "outputId": "d32a4c15-8866-4b2e-d8ec-a0932e5c9f28"
      },
      "execution_count": null,
      "outputs": [
        {
          "output_type": "execute_result",
          "data": {
            "text/plain": [
              "(3, 8)"
            ]
          },
          "metadata": {},
          "execution_count": 19
        }
      ]
    },
    {
      "cell_type": "markdown",
      "source": [
        "### Comparando desempenho com listas"
      ],
      "metadata": {
        "id": "fOCOCCNbjSpm"
      }
    },
    {
      "cell_type": "code",
      "source": [
        "np_array = np.arange(1000000)"
      ],
      "metadata": {
        "id": "tleQNhydjUes"
      },
      "execution_count": null,
      "outputs": []
    },
    {
      "cell_type": "code",
      "source": [
        "py_list = list(range(1000000))"
      ],
      "metadata": {
        "id": "S9ijbc3sjgiV"
      },
      "execution_count": null,
      "outputs": []
    },
    {
      "cell_type": "code",
      "source": [
        "%time for _ in range (100): np_array *= 2"
      ],
      "metadata": {
        "colab": {
          "base_uri": "https://localhost:8080/"
        },
        "id": "h1sevY8yjnbZ",
        "outputId": "d168de14-d0f0-41ca-e4be-c05a098f8014"
      },
      "execution_count": null,
      "outputs": [
        {
          "output_type": "stream",
          "name": "stdout",
          "text": [
            "CPU times: user 61.1 ms, sys: 0 ns, total: 61.1 ms\n",
            "Wall time: 62.4 ms\n"
          ]
        }
      ]
    },
    {
      "cell_type": "code",
      "source": [
        "%time for _ in range (100): py_list = [x * 2 for x in py_list]"
      ],
      "metadata": {
        "colab": {
          "base_uri": "https://localhost:8080/"
        },
        "id": "XJHQG9VlkNfs",
        "outputId": "71d3ee68-d6b2-430b-9ad4-e64e6d6daca3"
      },
      "execution_count": null,
      "outputs": [
        {
          "output_type": "stream",
          "name": "stdout",
          "text": [
            "CPU times: user 7.27 s, sys: 1.39 s, total: 8.66 s\n",
            "Wall time: 8.72 s\n"
          ]
        }
      ]
    },
    {
      "cell_type": "markdown",
      "source": [
        "#  Operações aritméticas com arrays Numpy"
      ],
      "metadata": {
        "id": "NZ1zVl7Ylo0s"
      }
    },
    {
      "cell_type": "markdown",
      "source": [
        "### Operações entre arrays e constantes"
      ],
      "metadata": {
        "id": "NJxe-4jIluDo"
      }
    },
    {
      "cell_type": "code",
      "source": [
        "km = [44410., 5712., 37123., 0., 25757.]\n",
        "anos = [2003, 1991, 1990, 2019, 2006]"
      ],
      "metadata": {
        "id": "WQw0-0Rwls3Y"
      },
      "execution_count": null,
      "outputs": []
    },
    {
      "cell_type": "code",
      "source": [
        "# idade = 2019 - anos"
      ],
      "metadata": {
        "id": "Wu55Mi2gmfjY"
      },
      "execution_count": null,
      "outputs": []
    },
    {
      "cell_type": "code",
      "source": [
        "km = np.array([44410., 5712., 37123., 0., 25757.])\n",
        "anos = np.array([2003, 1991, 1990, 2019, 2006])"
      ],
      "metadata": {
        "id": "3zRJaOqjmfui"
      },
      "execution_count": null,
      "outputs": []
    },
    {
      "cell_type": "code",
      "source": [
        "idade = 2019 - anos"
      ],
      "metadata": {
        "id": "6Own5mqUnEI2"
      },
      "execution_count": null,
      "outputs": []
    },
    {
      "cell_type": "code",
      "source": [
        "idade"
      ],
      "metadata": {
        "colab": {
          "base_uri": "https://localhost:8080/"
        },
        "id": "R6JpMkODnETE",
        "outputId": "56980165-0f25-4f3b-f2d1-12fd456316a5"
      },
      "execution_count": null,
      "outputs": [
        {
          "output_type": "execute_result",
          "data": {
            "text/plain": [
              "array([16, 28, 29,  0, 13])"
            ]
          },
          "metadata": {},
          "execution_count": 33
        }
      ]
    },
    {
      "cell_type": "markdown",
      "source": [
        "### Operações entre arrays"
      ],
      "metadata": {
        "id": "d7og4X-xnL4F"
      }
    },
    {
      "cell_type": "code",
      "source": [
        "km_media = km / idade"
      ],
      "metadata": {
        "colab": {
          "base_uri": "https://localhost:8080/"
        },
        "id": "E_W3-uKDnIRt",
        "outputId": "eb1c56a4-87ab-40af-f4a3-0fb8cdae5067"
      },
      "execution_count": null,
      "outputs": [
        {
          "output_type": "stream",
          "name": "stderr",
          "text": [
            "<ipython-input-34-502b13b90eb3>:1: RuntimeWarning: invalid value encountered in true_divide\n",
            "  km_media = km / idade\n"
          ]
        }
      ]
    },
    {
      "cell_type": "code",
      "source": [
        "km_media   #Deu esse erro e esse nan porque tem um 0 ali"
      ],
      "metadata": {
        "colab": {
          "base_uri": "https://localhost:8080/"
        },
        "id": "4pjTDw-5nszk",
        "outputId": "0eeb1f0c-854d-459d-f6bc-b8b07fec3c0e"
      },
      "execution_count": null,
      "outputs": [
        {
          "output_type": "execute_result",
          "data": {
            "text/plain": [
              "array([2775.625     ,  204.        , 1280.10344828,           nan,\n",
              "       1981.30769231])"
            ]
          },
          "metadata": {},
          "execution_count": 79
        }
      ]
    },
    {
      "cell_type": "code",
      "source": [
        "44410 / (2019 - 2003)"
      ],
      "metadata": {
        "colab": {
          "base_uri": "https://localhost:8080/"
        },
        "id": "U-qRifz5n4LG",
        "outputId": "617975d1-eec2-4024-bd83-c5449b2e09b2"
      },
      "execution_count": null,
      "outputs": [
        {
          "output_type": "execute_result",
          "data": {
            "text/plain": [
              "2775.625"
            ]
          },
          "metadata": {},
          "execution_count": 80
        }
      ]
    },
    {
      "cell_type": "markdown",
      "source": [
        "### Operações com arrays de duas dimensões"
      ],
      "metadata": {
        "id": "EugZNzqEoPUp"
      }
    },
    {
      "cell_type": "code",
      "source": [
        "dados = np.array([km, anos])"
      ],
      "metadata": {
        "id": "Y98-vQ_6oUwe"
      },
      "execution_count": null,
      "outputs": []
    },
    {
      "cell_type": "code",
      "source": [
        "dados"
      ],
      "metadata": {
        "colab": {
          "base_uri": "https://localhost:8080/"
        },
        "id": "Kd0j4YGNocqu",
        "outputId": "7f1e6d43-9334-4676-c622-b5fdacb31976"
      },
      "execution_count": null,
      "outputs": [
        {
          "output_type": "execute_result",
          "data": {
            "text/plain": [
              "array([[44410.,  5712., 37123.,     0., 25757.],\n",
              "       [ 2003.,  1991.,  1990.,  2019.,  2006.]])"
            ]
          },
          "metadata": {},
          "execution_count": 82
        }
      ]
    },
    {
      "cell_type": "code",
      "source": [
        "dados.shape"
      ],
      "metadata": {
        "colab": {
          "base_uri": "https://localhost:8080/"
        },
        "id": "EqhhlWlZoeHL",
        "outputId": "dbb54dfb-4bd0-4837-a209-e1e56fc6bfe8"
      },
      "execution_count": null,
      "outputs": [
        {
          "output_type": "execute_result",
          "data": {
            "text/plain": [
              "(2, 5)"
            ]
          },
          "metadata": {},
          "execution_count": 83
        }
      ]
    },
    {
      "cell_type": "markdown",
      "source": [
        "![imaggggggggggg.PNG](data:image/png;base64,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)"
      ],
      "metadata": {
        "id": "MxzFg_jTolNs"
      }
    },
    {
      "cell_type": "code",
      "source": [
        "dados[0]"
      ],
      "metadata": {
        "colab": {
          "base_uri": "https://localhost:8080/"
        },
        "id": "BVXbSUdJowzW",
        "outputId": "924c0f9f-2ba1-463c-dc42-8052026f7891"
      },
      "execution_count": null,
      "outputs": [
        {
          "output_type": "execute_result",
          "data": {
            "text/plain": [
              "array([44410.,  5712., 37123.,     0., 25757.])"
            ]
          },
          "metadata": {},
          "execution_count": 84
        }
      ]
    },
    {
      "cell_type": "code",
      "source": [
        "dados[1]"
      ],
      "metadata": {
        "colab": {
          "base_uri": "https://localhost:8080/"
        },
        "id": "mPow2Wq4o_mi",
        "outputId": "051e50f1-9375-491a-9218-c8aa1221bbae"
      },
      "execution_count": null,
      "outputs": [
        {
          "output_type": "execute_result",
          "data": {
            "text/plain": [
              "array([2003., 1991., 1990., 2019., 2006.])"
            ]
          },
          "metadata": {},
          "execution_count": 85
        }
      ]
    },
    {
      "cell_type": "code",
      "source": [
        "km_media = dados[0] / (2019 - dados[1])"
      ],
      "metadata": {
        "colab": {
          "base_uri": "https://localhost:8080/"
        },
        "id": "VcoHeWo5pCD7",
        "outputId": "eac74fd2-78b5-43a3-aa54-33fe3c48ad16"
      },
      "execution_count": null,
      "outputs": [
        {
          "output_type": "stream",
          "name": "stderr",
          "text": [
            "<ipython-input-86-ba3d668d4f3e>:1: RuntimeWarning: invalid value encountered in true_divide\n",
            "  km_media = dados[0] / (2019 - dados[1])\n"
          ]
        }
      ]
    },
    {
      "cell_type": "code",
      "source": [
        "km_media"
      ],
      "metadata": {
        "colab": {
          "base_uri": "https://localhost:8080/"
        },
        "id": "Ha9c2dpvpSOo",
        "outputId": "0500d971-8a40-4d8d-c6b5-a92e737bd8ee"
      },
      "execution_count": null,
      "outputs": [
        {
          "output_type": "execute_result",
          "data": {
            "text/plain": [
              "array([2775.625     ,  204.        , 1280.10344828,           nan,\n",
              "       1981.30769231])"
            ]
          },
          "metadata": {},
          "execution_count": 87
        }
      ]
    },
    {
      "cell_type": "code",
      "source": [
        "dados"
      ],
      "metadata": {
        "colab": {
          "base_uri": "https://localhost:8080/"
        },
        "id": "hWqN-VMwpYQd",
        "outputId": "1a531500-bb79-41b5-d455-476ed06166c8"
      },
      "execution_count": null,
      "outputs": [
        {
          "output_type": "execute_result",
          "data": {
            "text/plain": [
              "array([[44410.,  5712., 37123.,     0., 25757.],\n",
              "       [ 2003.,  1991.,  1990.,  2019.,  2006.]])"
            ]
          },
          "metadata": {},
          "execution_count": 88
        }
      ]
    },
    {
      "cell_type": "markdown",
      "source": [
        "#  Seleções com arrays Numpy"
      ],
      "metadata": {
        "id": "fiaxUjRup7gw"
      }
    },
    {
      "cell_type": "markdown",
      "source": [
        "![1410-img01.png](https://caelum-online-public.s3.amazonaws.com/1410-pythondatascience/01/1410-img01.png)"
      ],
      "metadata": {
        "id": "y0xwuCAgqWny"
      }
    },
    {
      "cell_type": "code",
      "source": [
        "dados"
      ],
      "metadata": {
        "colab": {
          "base_uri": "https://localhost:8080/"
        },
        "id": "6jAYrzLLp3w7",
        "outputId": "50d45b4e-2be4-4f08-affd-0f4fcd4d8b5a"
      },
      "execution_count": null,
      "outputs": [
        {
          "output_type": "execute_result",
          "data": {
            "text/plain": [
              "array([[44410.,  5712., 37123.,     0., 25757.],\n",
              "       [ 2003.,  1991.,  1990.,  2019.,  2006.]])"
            ]
          },
          "metadata": {},
          "execution_count": 36
        }
      ]
    },
    {
      "cell_type": "markdown",
      "source": [
        "![1410-img02.png](https://caelum-online-public.s3.amazonaws.com/1410-pythondatascience/01/1410-img02.png)"
      ],
      "metadata": {
        "id": "Groh4evvqhIz"
      }
    },
    {
      "cell_type": "markdown",
      "source": [
        "### Indexação \n",
        "\n",
        "<font color=red>**Observação:**</font> A indexação tem origem no zero."
      ],
      "metadata": {
        "id": "SSK6e9_cqnED"
      }
    },
    {
      "cell_type": "code",
      "source": [
        "contador = np.arange(10)\n",
        "contador"
      ],
      "metadata": {
        "colab": {
          "base_uri": "https://localhost:8080/"
        },
        "id": "BAJluxAFqbxI",
        "outputId": "b101a165-7c5f-4b64-d899-584c41bc028d"
      },
      "execution_count": null,
      "outputs": [
        {
          "output_type": "execute_result",
          "data": {
            "text/plain": [
              "array([0, 1, 2, 3, 4, 5, 6, 7, 8, 9])"
            ]
          },
          "metadata": {},
          "execution_count": 91
        }
      ]
    },
    {
      "cell_type": "code",
      "source": [
        "contador[0]"
      ],
      "metadata": {
        "colab": {
          "base_uri": "https://localhost:8080/"
        },
        "id": "OrK9rQTAyPMT",
        "outputId": "64418e1f-1045-475e-c781-9e35e4eee777"
      },
      "execution_count": null,
      "outputs": [
        {
          "output_type": "execute_result",
          "data": {
            "text/plain": [
              "0"
            ]
          },
          "metadata": {},
          "execution_count": 92
        }
      ]
    },
    {
      "cell_type": "code",
      "source": [
        "item = 6\n",
        "index = item -1\n",
        "contador [index]"
      ],
      "metadata": {
        "colab": {
          "base_uri": "https://localhost:8080/"
        },
        "id": "bFUJomf1yVaS",
        "outputId": "54153ca2-1703-41b1-b138-bb809d3094d8"
      },
      "execution_count": null,
      "outputs": [
        {
          "output_type": "execute_result",
          "data": {
            "text/plain": [
              "5"
            ]
          },
          "metadata": {},
          "execution_count": 93
        }
      ]
    },
    {
      "cell_type": "code",
      "source": [
        "contador[-1]"
      ],
      "metadata": {
        "colab": {
          "base_uri": "https://localhost:8080/"
        },
        "id": "A-4F6I_myhPm",
        "outputId": "6bb3f4b1-e467-47b9-9842-c5029f316fcd"
      },
      "execution_count": null,
      "outputs": [
        {
          "output_type": "execute_result",
          "data": {
            "text/plain": [
              "9"
            ]
          },
          "metadata": {},
          "execution_count": 94
        }
      ]
    },
    {
      "cell_type": "code",
      "source": [
        "dados[0]"
      ],
      "metadata": {
        "colab": {
          "base_uri": "https://localhost:8080/"
        },
        "id": "ce1W0OHaykQX",
        "outputId": "ec8101db-21b9-4eec-facd-4373d8597c0f"
      },
      "execution_count": null,
      "outputs": [
        {
          "output_type": "execute_result",
          "data": {
            "text/plain": [
              "array([44410.,  5712., 37123.,     0., 25757.])"
            ]
          },
          "metadata": {},
          "execution_count": 95
        }
      ]
    },
    {
      "cell_type": "code",
      "source": [
        "dados[1]"
      ],
      "metadata": {
        "colab": {
          "base_uri": "https://localhost:8080/"
        },
        "id": "MJd_8s5xypTC",
        "outputId": "696cd3ae-1169-42fa-e971-178b091e690d"
      },
      "execution_count": null,
      "outputs": [
        {
          "output_type": "execute_result",
          "data": {
            "text/plain": [
              "array([2003., 1991., 1990., 2019., 2006.])"
            ]
          },
          "metadata": {},
          "execution_count": 96
        }
      ]
    },
    {
      "cell_type": "markdown",
      "source": [
        "## <font color=green>**Dica:**</font>\n",
        "### *ndarray[ linha ][ coluna ]* ou *ndarray[ linha, coluna ]*"
      ],
      "metadata": {
        "id": "Wy-9tGuuyz96"
      }
    },
    {
      "cell_type": "code",
      "source": [
        "dados[1][2]"
      ],
      "metadata": {
        "colab": {
          "base_uri": "https://localhost:8080/"
        },
        "id": "WXUQsCuWyq5h",
        "outputId": "f5d52ed7-6909-44b6-935d-6c84d768e15d"
      },
      "execution_count": null,
      "outputs": [
        {
          "output_type": "execute_result",
          "data": {
            "text/plain": [
              "1990.0"
            ]
          },
          "metadata": {},
          "execution_count": 37
        }
      ]
    },
    {
      "cell_type": "code",
      "source": [
        "dados [1, 2]"
      ],
      "metadata": {
        "colab": {
          "base_uri": "https://localhost:8080/"
        },
        "id": "tzXN0YpUy6Yv",
        "outputId": "a3d3fcb2-d9d7-4f54-fe53-1b1a15e1b617"
      },
      "execution_count": null,
      "outputs": [
        {
          "output_type": "execute_result",
          "data": {
            "text/plain": [
              "1990.0"
            ]
          },
          "metadata": {},
          "execution_count": 98
        }
      ]
    },
    {
      "cell_type": "markdown",
      "source": [
        " ### Fatiamentos\n",
        " \n",
        "A sintaxe para realizar fatiamento em um array Numpy é $i : j : k$ onde $i$ é o índice inicial, $j$ é o índice de parada, e $k$ é o indicador de passo ($k\\neq0$)\n",
        " \n",
        "<font color=red>**Observação:**</font> Nos fatiamentos (*slices*) o item com índice i é **incluído** e o item com índice j **não é incluído** no resultado."
      ],
      "metadata": {
        "id": "4IHxmtDdy6vQ"
      }
    },
    {
      "cell_type": "markdown",
      "source": [
        "![1410-img01.png](https://caelum-online-public.s3.amazonaws.com/1410-pythondatascience/01/1410-img01.png)"
      ],
      "metadata": {
        "id": "GB4SaXwGy_Xt"
      }
    },
    {
      "cell_type": "code",
      "source": [
        "contador = np.arange(10)\n",
        "contador"
      ],
      "metadata": {
        "colab": {
          "base_uri": "https://localhost:8080/"
        },
        "outputId": "88ab2ef9-d0bb-4991-d30d-c48867d180ef",
        "id": "PL3FSlVdzhdx"
      },
      "execution_count": null,
      "outputs": [
        {
          "output_type": "execute_result",
          "data": {
            "text/plain": [
              "array([0, 1, 2, 3, 4, 5, 6, 7, 8, 9])"
            ]
          },
          "metadata": {},
          "execution_count": 99
        }
      ]
    },
    {
      "cell_type": "code",
      "source": [
        "contador[1:4]"
      ],
      "metadata": {
        "colab": {
          "base_uri": "https://localhost:8080/"
        },
        "id": "Hw_abXRAzkCb",
        "outputId": "a02684a3-6d0d-4132-93a1-216d78a5b4dd"
      },
      "execution_count": null,
      "outputs": [
        {
          "output_type": "execute_result",
          "data": {
            "text/plain": [
              "array([1, 2, 3])"
            ]
          },
          "metadata": {},
          "execution_count": 100
        }
      ]
    },
    {
      "cell_type": "code",
      "source": [
        "contador[1:8:2]"
      ],
      "metadata": {
        "colab": {
          "base_uri": "https://localhost:8080/"
        },
        "id": "RbmdUZCXzoGb",
        "outputId": "1d2d2c55-c3da-46a6-8848-d84ff0e8ae36"
      },
      "execution_count": null,
      "outputs": [
        {
          "output_type": "execute_result",
          "data": {
            "text/plain": [
              "array([1, 3, 5, 7])"
            ]
          },
          "metadata": {},
          "execution_count": 101
        }
      ]
    },
    {
      "cell_type": "code",
      "source": [
        "contador[::2]"
      ],
      "metadata": {
        "colab": {
          "base_uri": "https://localhost:8080/"
        },
        "id": "fPIzBnOyz0n2",
        "outputId": "9c26c725-783d-4a58-ed59-1f325f2a8af0"
      },
      "execution_count": null,
      "outputs": [
        {
          "output_type": "execute_result",
          "data": {
            "text/plain": [
              "array([0, 2, 4, 6, 8])"
            ]
          },
          "metadata": {},
          "execution_count": 102
        }
      ]
    },
    {
      "cell_type": "code",
      "source": [
        "contador[1::2]"
      ],
      "metadata": {
        "colab": {
          "base_uri": "https://localhost:8080/"
        },
        "id": "KL-CxE9lz_22",
        "outputId": "8cca0973-42c2-4544-bba0-2ac75de501c9"
      },
      "execution_count": null,
      "outputs": [
        {
          "output_type": "execute_result",
          "data": {
            "text/plain": [
              "array([1, 3, 5, 7, 9])"
            ]
          },
          "metadata": {},
          "execution_count": 103
        }
      ]
    },
    {
      "cell_type": "code",
      "source": [
        "dados"
      ],
      "metadata": {
        "colab": {
          "base_uri": "https://localhost:8080/"
        },
        "id": "LupTr_8C0EgB",
        "outputId": "5f24b1c6-d926-48fd-dfde-016afb16f458"
      },
      "execution_count": null,
      "outputs": [
        {
          "output_type": "execute_result",
          "data": {
            "text/plain": [
              "array([[44410.,  5712., 37123.,     0., 25757.],\n",
              "       [ 2003.,  1991.,  1990.,  2019.,  2006.]])"
            ]
          },
          "metadata": {},
          "execution_count": 38
        }
      ]
    },
    {
      "cell_type": "code",
      "source": [
        "dados[:, 1:3]"
      ],
      "metadata": {
        "colab": {
          "base_uri": "https://localhost:8080/"
        },
        "id": "dnpIF5gd0Nbf",
        "outputId": "bfcf7fb2-ff78-4521-a3a6-f41d0e4545d8"
      },
      "execution_count": null,
      "outputs": [
        {
          "output_type": "execute_result",
          "data": {
            "text/plain": [
              "array([[ 5712., 37123.],\n",
              "       [ 1991.,  1990.]])"
            ]
          },
          "metadata": {},
          "execution_count": 39
        }
      ]
    },
    {
      "cell_type": "code",
      "source": [
        "dados[:, 1:3][0]"
      ],
      "metadata": {
        "colab": {
          "base_uri": "https://localhost:8080/"
        },
        "id": "Spx8B0nA0XM4",
        "outputId": "0cdfeec9-d774-4de9-991f-ebcafbdddbca"
      },
      "execution_count": null,
      "outputs": [
        {
          "output_type": "execute_result",
          "data": {
            "text/plain": [
              "array([ 5712., 37123.])"
            ]
          },
          "metadata": {},
          "execution_count": 43
        }
      ]
    },
    {
      "cell_type": "code",
      "source": [
        "dados[:][1]"
      ],
      "metadata": {
        "colab": {
          "base_uri": "https://localhost:8080/"
        },
        "id": "dBbK0afuaoHp",
        "outputId": "6d004998-c824-4078-dbf3-accf082185d3"
      },
      "execution_count": null,
      "outputs": [
        {
          "output_type": "execute_result",
          "data": {
            "text/plain": [
              "array([2003., 1991., 1990., 2019., 2006.])"
            ]
          },
          "metadata": {},
          "execution_count": 47
        }
      ]
    },
    {
      "cell_type": "code",
      "source": [
        "dados[:][1][0]"
      ],
      "metadata": {
        "colab": {
          "base_uri": "https://localhost:8080/"
        },
        "id": "5elzSzuGdCug",
        "outputId": "10ac6a46-5738-4351-9b9e-ab8301672980"
      },
      "execution_count": null,
      "outputs": [
        {
          "output_type": "execute_result",
          "data": {
            "text/plain": [
              "2003.0"
            ]
          },
          "metadata": {},
          "execution_count": 50
        }
      ]
    },
    {
      "cell_type": "code",
      "source": [
        "dados[:]"
      ],
      "metadata": {
        "colab": {
          "base_uri": "https://localhost:8080/"
        },
        "id": "EOMCjHH1df7H",
        "outputId": "721854a8-c161-4129-ee49-75a1a9fbf2d7"
      },
      "execution_count": null,
      "outputs": [
        {
          "output_type": "execute_result",
          "data": {
            "text/plain": [
              "array([[44410.,  5712., 37123.,     0., 25757.],\n",
              "       [ 2003.,  1991.,  1990.,  2019.,  2006.]])"
            ]
          },
          "metadata": {},
          "execution_count": 51
        }
      ]
    },
    {
      "cell_type": "code",
      "source": [
        "dados [1:2]"
      ],
      "metadata": {
        "colab": {
          "base_uri": "https://localhost:8080/"
        },
        "id": "EgzQucmBdiQB",
        "outputId": "c7dd96f7-e368-46ef-d232-da57a328f6d0"
      },
      "execution_count": null,
      "outputs": [
        {
          "output_type": "execute_result",
          "data": {
            "text/plain": [
              "array([[2003., 1991., 1990., 2019., 2006.]])"
            ]
          },
          "metadata": {},
          "execution_count": 54
        }
      ]
    },
    {
      "cell_type": "code",
      "source": [
        "dados [0][1]"
      ],
      "metadata": {
        "colab": {
          "base_uri": "https://localhost:8080/"
        },
        "id": "WNEtddQJeD3B",
        "outputId": "5382569b-3dd1-419b-96b6-7c6257615bc6"
      },
      "execution_count": null,
      "outputs": [
        {
          "output_type": "execute_result",
          "data": {
            "text/plain": [
              "5712.0"
            ]
          },
          "metadata": {},
          "execution_count": 55
        }
      ]
    },
    {
      "cell_type": "code",
      "source": [
        "dados [0][1:3]"
      ],
      "metadata": {
        "colab": {
          "base_uri": "https://localhost:8080/"
        },
        "id": "eR1vzE24eS-v",
        "outputId": "68763fba-1f79-4c08-cc03-dd7e6d38d4b3"
      },
      "execution_count": null,
      "outputs": [
        {
          "output_type": "execute_result",
          "data": {
            "text/plain": [
              "array([ 5712., 37123.])"
            ]
          },
          "metadata": {},
          "execution_count": 58
        }
      ]
    },
    {
      "cell_type": "code",
      "source": [
        "dados [:, 2]"
      ],
      "metadata": {
        "colab": {
          "base_uri": "https://localhost:8080/"
        },
        "id": "E76jgsgjerpM",
        "outputId": "1d90bc24-1962-47ab-8531-9e27b212a895"
      },
      "execution_count": null,
      "outputs": [
        {
          "output_type": "execute_result",
          "data": {
            "text/plain": [
              "array([37123.,  1990.])"
            ]
          },
          "metadata": {},
          "execution_count": 59
        }
      ]
    },
    {
      "cell_type": "code",
      "source": [
        "dados[:, 1:3][0] / (2019 - dados[:, 1:3][1])"
      ],
      "metadata": {
        "colab": {
          "base_uri": "https://localhost:8080/"
        },
        "id": "gW_I_4I81WET",
        "outputId": "b6285b37-2801-46ec-95d2-6b53b54a42f2"
      },
      "execution_count": null,
      "outputs": [
        {
          "output_type": "execute_result",
          "data": {
            "text/plain": [
              "array([ 204.        , 1280.10344828])"
            ]
          },
          "metadata": {},
          "execution_count": 48
        }
      ]
    },
    {
      "cell_type": "markdown",
      "source": [
        "### Indexação com array booleano\n",
        "\n",
        "<font color=red>**Observação:**</font> Seleciona um grupo de linhas e colunas segundo os rótulos ou um array booleano."
      ],
      "metadata": {
        "id": "ox6bGGEB2HFG"
      }
    },
    {
      "cell_type": "code",
      "source": [
        "contador = np.arange(10)\n",
        "contador"
      ],
      "metadata": {
        "colab": {
          "base_uri": "https://localhost:8080/"
        },
        "id": "igyUEcIy18KW",
        "outputId": "1b16e6dc-fa27-4c20-8ad2-8a436f353e59"
      },
      "execution_count": null,
      "outputs": [
        {
          "output_type": "execute_result",
          "data": {
            "text/plain": [
              "array([0, 1, 2, 3, 4, 5, 6, 7, 8, 9])"
            ]
          },
          "metadata": {},
          "execution_count": 108
        }
      ]
    },
    {
      "cell_type": "code",
      "source": [
        "contador > 5"
      ],
      "metadata": {
        "colab": {
          "base_uri": "https://localhost:8080/"
        },
        "id": "3QPd2A-v2WSl",
        "outputId": "f92bbdfc-eb3e-45e5-c1a7-42b5b007f4cd"
      },
      "execution_count": null,
      "outputs": [
        {
          "output_type": "execute_result",
          "data": {
            "text/plain": [
              "array([False, False, False, False, False, False,  True,  True,  True,\n",
              "        True])"
            ]
          },
          "metadata": {},
          "execution_count": 109
        }
      ]
    },
    {
      "cell_type": "code",
      "source": [
        "contador[contador > 5]"
      ],
      "metadata": {
        "colab": {
          "base_uri": "https://localhost:8080/"
        },
        "id": "ni8KJgWA2cwz",
        "outputId": "8f231349-b4b7-4eb4-84c8-e8dbaa754005"
      },
      "execution_count": null,
      "outputs": [
        {
          "output_type": "execute_result",
          "data": {
            "text/plain": [
              "array([6, 7, 8, 9])"
            ]
          },
          "metadata": {},
          "execution_count": 110
        }
      ]
    },
    {
      "cell_type": "code",
      "source": [
        "contador[[False, False, False, False, False, False,  True,  True,  True, True]]"
      ],
      "metadata": {
        "colab": {
          "base_uri": "https://localhost:8080/"
        },
        "id": "gKg60xIv2qQc",
        "outputId": "b14ade7a-3efc-42d8-8cd9-81f8fb541292"
      },
      "execution_count": null,
      "outputs": [
        {
          "output_type": "execute_result",
          "data": {
            "text/plain": [
              "array([6, 7, 8, 9])"
            ]
          },
          "metadata": {},
          "execution_count": 111
        }
      ]
    },
    {
      "cell_type": "code",
      "source": [
        "dados[1] > 2000"
      ],
      "metadata": {
        "colab": {
          "base_uri": "https://localhost:8080/"
        },
        "id": "59BqHgiD20RA",
        "outputId": "8895c1e6-89b3-4a1c-96ef-603a7f60888e"
      },
      "execution_count": null,
      "outputs": [
        {
          "output_type": "execute_result",
          "data": {
            "text/plain": [
              "array([ True, False, False,  True,  True])"
            ]
          },
          "metadata": {},
          "execution_count": 112
        }
      ]
    },
    {
      "cell_type": "code",
      "source": [
        "dados[:, dados[1] > 2000] "
      ],
      "metadata": {
        "colab": {
          "base_uri": "https://localhost:8080/"
        },
        "id": "OJSnlbm8238K",
        "outputId": "995b0fbe-5325-4776-9a06-23a2896f985c"
      },
      "execution_count": null,
      "outputs": [
        {
          "output_type": "execute_result",
          "data": {
            "text/plain": [
              "array([[44410.,     0., 25757.],\n",
              "       [ 2003.,  2019.,  2006.]])"
            ]
          },
          "metadata": {},
          "execution_count": 113
        }
      ]
    },
    {
      "cell_type": "markdown",
      "source": [
        "#  Atributos e métodos de arrays Numpy"
      ],
      "metadata": {
        "id": "yO7t2WPSfAlO"
      }
    },
    {
      "cell_type": "code",
      "source": [
        "import numpy as np"
      ],
      "metadata": {
        "id": "4EFF3YRjNYs1"
      },
      "execution_count": 4,
      "outputs": []
    },
    {
      "cell_type": "code",
      "source": [
        "dados = np.array([[44410.,  5712., 37123.,     0., 25757.], [ 2003.,  1991.,  1990.,  2019.,  2006.]])\n",
        "dados"
      ],
      "metadata": {
        "colab": {
          "base_uri": "https://localhost:8080/"
        },
        "id": "rOOGUSwafrap",
        "outputId": "124c9fa8-063f-4818-cc36-f1d8025950d3"
      },
      "execution_count": 5,
      "outputs": [
        {
          "output_type": "execute_result",
          "data": {
            "text/plain": [
              "array([[44410.,  5712., 37123.,     0., 25757.],\n",
              "       [ 2003.,  1991.,  1990.,  2019.,  2006.]])"
            ]
          },
          "metadata": {},
          "execution_count": 5
        }
      ]
    },
    {
      "cell_type": "markdown",
      "source": [
        "### Atributos\n",
        "\n",
        "https://numpy.org/doc/1.16/reference/arrays.ndarray.html#array-attributes"
      ],
      "metadata": {
        "id": "FO82zIi5fAVE"
      }
    },
    {
      "cell_type": "markdown",
      "source": [
        "## *ndarray.shape*\n",
        "\n",
        "Retorna uma tupla com as dimensões do array."
      ],
      "metadata": {
        "id": "ke4JxCYAfIIR"
      }
    },
    {
      "cell_type": "code",
      "source": [
        "dados.shape    #2 linhas e 5 colunas"
      ],
      "metadata": {
        "colab": {
          "base_uri": "https://localhost:8080/"
        },
        "id": "mhVXoaPdfIae",
        "outputId": "700d9ac1-fd43-47e0-c178-2420e1f6d3a3"
      },
      "execution_count": null,
      "outputs": [
        {
          "output_type": "execute_result",
          "data": {
            "text/plain": [
              "(2, 5)"
            ]
          },
          "metadata": {},
          "execution_count": 62
        }
      ]
    },
    {
      "cell_type": "code",
      "source": [],
      "metadata": {
        "id": "ZkxB2CJwfIdw"
      },
      "execution_count": null,
      "outputs": []
    },
    {
      "cell_type": "markdown",
      "source": [
        "## *ndarray.ndim*\n",
        "\n",
        "Retorna o número de dimensões do array."
      ],
      "metadata": {
        "id": "DoiI0QxOfIqJ"
      }
    },
    {
      "cell_type": "code",
      "source": [
        "dados.ndim"
      ],
      "metadata": {
        "colab": {
          "base_uri": "https://localhost:8080/"
        },
        "id": "KJ7wculIfI1c",
        "outputId": "66852176-363c-48ab-894e-4a94abd3c85c"
      },
      "execution_count": null,
      "outputs": [
        {
          "output_type": "execute_result",
          "data": {
            "text/plain": [
              "2"
            ]
          },
          "metadata": {},
          "execution_count": 63
        }
      ]
    },
    {
      "cell_type": "markdown",
      "source": [
        "## *ndarray.size*\n",
        "\n",
        "Retorna o número de elementos do array."
      ],
      "metadata": {
        "id": "C4L4p2jXfJDc"
      }
    },
    {
      "cell_type": "code",
      "source": [
        "dados.size    #Retorna o número de elementos"
      ],
      "metadata": {
        "colab": {
          "base_uri": "https://localhost:8080/"
        },
        "id": "bVG8TjL5fU9S",
        "outputId": "fc87830a-0f65-42db-c787-11116aef374c"
      },
      "execution_count": null,
      "outputs": [
        {
          "output_type": "execute_result",
          "data": {
            "text/plain": [
              "10"
            ]
          },
          "metadata": {},
          "execution_count": 64
        }
      ]
    },
    {
      "cell_type": "markdown",
      "source": [
        "## *ndarray.dtype*\n",
        "\n",
        "Retorna o tipo de dados dos elementos do array."
      ],
      "metadata": {
        "id": "wqbPol3pfVgn"
      }
    },
    {
      "cell_type": "code",
      "source": [
        "dados.dtype"
      ],
      "metadata": {
        "colab": {
          "base_uri": "https://localhost:8080/"
        },
        "id": "EDI2dkDDfZiC",
        "outputId": "1941ec41-a240-4c5b-e87d-9422a3c5a30b"
      },
      "execution_count": null,
      "outputs": [
        {
          "output_type": "execute_result",
          "data": {
            "text/plain": [
              "dtype('float64')"
            ]
          },
          "metadata": {},
          "execution_count": 67
        }
      ]
    },
    {
      "cell_type": "markdown",
      "source": [
        "## *ndarray.T*\n",
        "\n",
        "Retorna o array transposto, isto é, converte linhas em colunas e vice versa."
      ],
      "metadata": {
        "id": "GUBbrHedfaW3"
      }
    },
    {
      "cell_type": "code",
      "source": [
        "dados.T"
      ],
      "metadata": {
        "colab": {
          "base_uri": "https://localhost:8080/"
        },
        "id": "ODvsLJt0fdq2",
        "outputId": "3406eab9-41f6-40c7-b74d-ad9735d5a82f"
      },
      "execution_count": null,
      "outputs": [
        {
          "output_type": "execute_result",
          "data": {
            "text/plain": [
              "array([[44410.,  2003.],\n",
              "       [ 5712.,  1991.],\n",
              "       [37123.,  1990.],\n",
              "       [    0.,  2019.],\n",
              "       [25757.,  2006.]])"
            ]
          },
          "metadata": {},
          "execution_count": 68
        }
      ]
    },
    {
      "cell_type": "code",
      "source": [
        "dados.transpose()"
      ],
      "metadata": {
        "colab": {
          "base_uri": "https://localhost:8080/"
        },
        "id": "uFIXqxoqgPFw",
        "outputId": "d87e17e4-f166-44bc-e1c8-dde31bc0c519"
      },
      "execution_count": null,
      "outputs": [
        {
          "output_type": "execute_result",
          "data": {
            "text/plain": [
              "array([[44410.,  2003.],\n",
              "       [ 5712.,  1991.],\n",
              "       [37123.,  1990.],\n",
              "       [    0.,  2019.],\n",
              "       [25757.,  2006.]])"
            ]
          },
          "metadata": {},
          "execution_count": 70
        }
      ]
    },
    {
      "cell_type": "markdown",
      "source": [
        "### Métodos\n",
        "\n",
        "https://numpy.org/doc/1.16/reference/arrays.ndarray.html#array-methods"
      ],
      "metadata": {
        "id": "rahki0vNMvG0"
      }
    },
    {
      "cell_type": "markdown",
      "source": [
        "## *ndarray.tolist()*\n",
        "\n",
        "Retorna o array como uma lista Python."
      ],
      "metadata": {
        "id": "-B9_UJVIMu8q"
      }
    },
    {
      "cell_type": "code",
      "source": [
        "dados.tolist()"
      ],
      "metadata": {
        "id": "cp0-G7oEgUsK",
        "colab": {
          "base_uri": "https://localhost:8080/"
        },
        "outputId": "49ca994b-7bc1-493f-c2a2-976087940bfa"
      },
      "execution_count": 7,
      "outputs": [
        {
          "output_type": "execute_result",
          "data": {
            "text/plain": [
              "[[44410.0, 5712.0, 37123.0, 0.0, 25757.0],\n",
              " [2003.0, 1991.0, 1990.0, 2019.0, 2006.0]]"
            ]
          },
          "metadata": {},
          "execution_count": 7
        }
      ]
    },
    {
      "cell_type": "markdown",
      "source": [
        "## *ndarray.reshape(shape[, order])*\n",
        "\n",
        "Retorna um array que contém os mesmos dados com uma nova forma."
      ],
      "metadata": {
        "id": "_JR4gDNUPBue"
      }
    },
    {
      "cell_type": "code",
      "source": [
        "contador = np.arange(10)\n",
        "contador\n"
      ],
      "metadata": {
        "colab": {
          "base_uri": "https://localhost:8080/"
        },
        "id": "alrkK1OePD98",
        "outputId": "99ff678a-0d67-475c-e276-9ac244c171b0"
      },
      "execution_count": 10,
      "outputs": [
        {
          "output_type": "execute_result",
          "data": {
            "text/plain": [
              "array([0, 1, 2, 3, 4, 5, 6, 7, 8, 9])"
            ]
          },
          "metadata": {},
          "execution_count": 10
        }
      ]
    },
    {
      "cell_type": "code",
      "source": [
        "contador.reshape((5,2)) #Quero 5 linhas e 2 colunas"
      ],
      "metadata": {
        "colab": {
          "base_uri": "https://localhost:8080/"
        },
        "id": "ZFjoqm_TPErr",
        "outputId": "fec0c4c1-d594-4e40-870e-aceadc057e04"
      },
      "execution_count": 11,
      "outputs": [
        {
          "output_type": "execute_result",
          "data": {
            "text/plain": [
              "array([[0, 1],\n",
              "       [2, 3],\n",
              "       [4, 5],\n",
              "       [6, 7],\n",
              "       [8, 9]])"
            ]
          },
          "metadata": {},
          "execution_count": 11
        }
      ]
    },
    {
      "cell_type": "code",
      "source": [
        "contador.reshape((5,2), order = 'C')"
      ],
      "metadata": {
        "colab": {
          "base_uri": "https://localhost:8080/"
        },
        "id": "Q-03TCa3PEul",
        "outputId": "14d38556-7044-4adf-8e18-7b3d8fbf8efc"
      },
      "execution_count": 14,
      "outputs": [
        {
          "output_type": "execute_result",
          "data": {
            "text/plain": [
              "array([[0, 1],\n",
              "       [2, 3],\n",
              "       [4, 5],\n",
              "       [6, 7],\n",
              "       [8, 9]])"
            ]
          },
          "metadata": {},
          "execution_count": 14
        }
      ]
    },
    {
      "cell_type": "code",
      "source": [
        "km = [44410, 5712, 37123, 0, 25757]\n",
        "anos = [2003, 1991, 1990, 2019, 2006]"
      ],
      "metadata": {
        "id": "J68sQYliPEyB"
      },
      "execution_count": 15,
      "outputs": []
    },
    {
      "cell_type": "code",
      "source": [
        "info_carros = km + anos\n",
        "info_carros"
      ],
      "metadata": {
        "colab": {
          "base_uri": "https://localhost:8080/"
        },
        "id": "LMFl4qvdPE05",
        "outputId": "35e348da-9f1d-4d9e-c3f4-a640c813b54d"
      },
      "execution_count": 16,
      "outputs": [
        {
          "output_type": "execute_result",
          "data": {
            "text/plain": [
              "[44410, 5712, 37123, 0, 25757, 2003, 1991, 1990, 2019, 2006]"
            ]
          },
          "metadata": {},
          "execution_count": 16
        }
      ]
    },
    {
      "cell_type": "markdown",
      "source": [
        "Os dados estão bagunçados, e o reshape pode ajudar a organizar, pra isso precisamos criar uma array"
      ],
      "metadata": {
        "id": "Yr7OQxvTWalH"
      }
    },
    {
      "cell_type": "code",
      "source": [
        "np.array(info_carros).reshape((2,5))    #Quero que o reshape tenha 2 linhas e 5 colunas"
      ],
      "metadata": {
        "colab": {
          "base_uri": "https://localhost:8080/"
        },
        "id": "04nSRfKGPE4C",
        "outputId": "331bd318-6a80-4e49-ca06-b239159dbfa4"
      },
      "execution_count": 17,
      "outputs": [
        {
          "output_type": "execute_result",
          "data": {
            "text/plain": [
              "array([[44410,  5712, 37123,     0, 25757],\n",
              "       [ 2003,  1991,  1990,  2019,  2006]])"
            ]
          },
          "metadata": {},
          "execution_count": 17
        }
      ]
    },
    {
      "cell_type": "markdown",
      "source": [
        "Seria mais prático que a informação de cada carro esteja em uma linha - sua kilometragem e ano"
      ],
      "metadata": {
        "id": "idKAQqa3W7E7"
      }
    },
    {
      "cell_type": "code",
      "source": [
        "np.array(info_carros).reshape((5,2), order = 'F')   #Esse order F é um macete"
      ],
      "metadata": {
        "colab": {
          "base_uri": "https://localhost:8080/"
        },
        "id": "R5IXSuevWzZq",
        "outputId": "58115d27-b430-49cb-dd53-228f9c3db256"
      },
      "execution_count": 18,
      "outputs": [
        {
          "output_type": "execute_result",
          "data": {
            "text/plain": [
              "array([[44410,  2003],\n",
              "       [ 5712,  1991],\n",
              "       [37123,  1990],\n",
              "       [    0,  2019],\n",
              "       [25757,  2006]])"
            ]
          },
          "metadata": {},
          "execution_count": 18
        }
      ]
    },
    {
      "cell_type": "markdown",
      "source": [
        "## *ndarray.resize(new_shape[, refcheck])*\n",
        "\n",
        "[, refcheck]) AJUDA A CONSERTAR UM ERRO QUE OCORRE\n",
        "\n",
        "\n",
        "Altera a forma e o tamanho do array."
      ],
      "metadata": {
        "id": "PIebp7jcPFj1"
      }
    },
    {
      "cell_type": "code",
      "source": [
        "dados_new = dados.copy()\n",
        "dados_new"
      ],
      "metadata": {
        "colab": {
          "base_uri": "https://localhost:8080/"
        },
        "id": "xXKg_fz0PH8z",
        "outputId": "e1bd4a29-2e07-41f8-aa42-75a5da8bb7e3"
      },
      "execution_count": 19,
      "outputs": [
        {
          "output_type": "execute_result",
          "data": {
            "text/plain": [
              "array([[44410.,  5712., 37123.,     0., 25757.],\n",
              "       [ 2003.,  1991.,  1990.,  2019.,  2006.]])"
            ]
          },
          "metadata": {},
          "execution_count": 19
        }
      ]
    },
    {
      "cell_type": "markdown",
      "source": [
        "Quero calcular a kilometragem media e colocar dentro desse mesmo array"
      ],
      "metadata": {
        "id": "HXcn97NghIbo"
      }
    },
    {
      "cell_type": "code",
      "source": [
        "dados_new.resize((3,5)) #Erro proposital"
      ],
      "metadata": {
        "colab": {
          "base_uri": "https://localhost:8080/",
          "height": 200
        },
        "id": "_fDWt3exPIct",
        "outputId": "df25a675-dda0-4b1e-c7af-e7d53d4dab42"
      },
      "execution_count": 21,
      "outputs": [
        {
          "output_type": "error",
          "ename": "ValueError",
          "evalue": "ignored",
          "traceback": [
            "\u001b[0;31m---------------------------------------------------------------------------\u001b[0m",
            "\u001b[0;31mValueError\u001b[0m                                Traceback (most recent call last)",
            "\u001b[0;32m<ipython-input-21-a4a2af1bf016>\u001b[0m in \u001b[0;36m<module>\u001b[0;34m\u001b[0m\n\u001b[0;32m----> 1\u001b[0;31m \u001b[0mdados_new\u001b[0m\u001b[0;34m.\u001b[0m\u001b[0mresize\u001b[0m\u001b[0;34m(\u001b[0m\u001b[0;34m(\u001b[0m\u001b[0;36m3\u001b[0m\u001b[0;34m,\u001b[0m\u001b[0;36m5\u001b[0m\u001b[0;34m)\u001b[0m\u001b[0;34m)\u001b[0m \u001b[0;31m#Erro proposital\u001b[0m\u001b[0;34m\u001b[0m\u001b[0;34m\u001b[0m\u001b[0m\n\u001b[0m",
            "\u001b[0;31mValueError\u001b[0m: cannot resize an array that references or is referenced\nby another array in this way.\nUse the np.resize function or refcheck=False"
          ]
        }
      ]
    },
    {
      "cell_type": "code",
      "source": [
        "dados_new.resize((3,5), refcheck = False)"
      ],
      "metadata": {
        "id": "zQWCHUULPIfv"
      },
      "execution_count": 22,
      "outputs": []
    },
    {
      "cell_type": "code",
      "source": [
        "dados_new"
      ],
      "metadata": {
        "colab": {
          "base_uri": "https://localhost:8080/"
        },
        "id": "P1uQaZ30PIjD",
        "outputId": "426acb13-fa37-4a60-f95e-fcde699b33d0"
      },
      "execution_count": 23,
      "outputs": [
        {
          "output_type": "execute_result",
          "data": {
            "text/plain": [
              "array([[44410.,  5712., 37123.,     0., 25757.],\n",
              "       [ 2003.,  1991.,  1990.,  2019.,  2006.],\n",
              "       [    0.,     0.,     0.,     0.,     0.]])"
            ]
          },
          "metadata": {},
          "execution_count": 23
        }
      ]
    },
    {
      "cell_type": "code",
      "source": [
        "dados_new[2] = dados_new[0] / (2019 - dados_new[1])"
      ],
      "metadata": {
        "colab": {
          "base_uri": "https://localhost:8080/"
        },
        "id": "BD32a_WmPImT",
        "outputId": "c793c198-4c40-4be8-c6f3-021dd6aa0bd8"
      },
      "execution_count": 24,
      "outputs": [
        {
          "output_type": "stream",
          "name": "stderr",
          "text": [
            "<ipython-input-24-f9c7ebd2c682>:1: RuntimeWarning: invalid value encountered in true_divide\n",
            "  dados_new[2] = dados_new[0] / (2019 - dados_new[1])\n"
          ]
        }
      ]
    },
    {
      "cell_type": "code",
      "source": [
        "dados_new"
      ],
      "metadata": {
        "colab": {
          "base_uri": "https://localhost:8080/"
        },
        "id": "55fEPRGZPIpF",
        "outputId": "2241bd4f-8fe8-44c8-fa4a-3a354ef2f1dc"
      },
      "execution_count": 25,
      "outputs": [
        {
          "output_type": "execute_result",
          "data": {
            "text/plain": [
              "array([[44410.        ,  5712.        , 37123.        ,     0.        ,\n",
              "        25757.        ],\n",
              "       [ 2003.        ,  1991.        ,  1990.        ,  2019.        ,\n",
              "         2006.        ],\n",
              "       [ 2775.625     ,   204.        ,  1280.10344828,            nan,\n",
              "         1981.30769231]])"
            ]
          },
          "metadata": {},
          "execution_count": 25
        }
      ]
    },
    {
      "cell_type": "code",
      "source": [
        "#Teste\n",
        "dados_new = np.array"
      ],
      "metadata": {
        "id": "AQPwGF-FPIsV"
      },
      "execution_count": 33,
      "outputs": []
    },
    {
      "cell_type": "code",
      "source": [
        "dados_new"
      ],
      "metadata": {
        "colab": {
          "base_uri": "https://localhost:8080/"
        },
        "id": "4NZK0QowjGkz",
        "outputId": "7f9498db-293f-4558-93e9-4c8ee632c4c3"
      },
      "execution_count": 35,
      "outputs": [
        {
          "output_type": "execute_result",
          "data": {
            "text/plain": [
              "<function numpy.array>"
            ]
          },
          "metadata": {},
          "execution_count": 35
        }
      ]
    },
    {
      "cell_type": "code",
      "source": [
        "dados_new = np.array([1, 2, 3, 4, 5, 6])\n"
      ],
      "metadata": {
        "id": "hJuKIiTbjmzV"
      },
      "execution_count": 36,
      "outputs": []
    },
    {
      "cell_type": "code",
      "source": [
        "\n",
        "# Criar um array NumPy\n",
        "dados_new = np.array([1, 2, 3, 4, 5, 6])\n",
        "\n",
        "# Modificar a forma do array para (1,1) usando resize\n",
        "dados_new.resize((1,1))\n",
        "\n",
        "print(dados_new)\n"
      ],
      "metadata": {
        "colab": {
          "base_uri": "https://localhost:8080/"
        },
        "id": "20nqTZ--jm_g",
        "outputId": "803ce980-666a-4646-b37b-49300af91e6b"
      },
      "execution_count": 41,
      "outputs": [
        {
          "output_type": "stream",
          "name": "stdout",
          "text": [
            "[[1]]\n"
          ]
        }
      ]
    },
    {
      "cell_type": "code",
      "source": [
        "dados_new.resize((1,1))"
      ],
      "metadata": {
        "id": "xOKLKy8HlGiA"
      },
      "execution_count": 44,
      "outputs": []
    },
    {
      "cell_type": "markdown",
      "source": [
        "# Estatísticas com arrays Numpy\n",
        "\n",
        "https://numpy.org/doc/1.16/reference/arrays.ndarray.html#calculation\n",
        "\n",
        "e\n",
        "\n",
        "https://numpy.org/doc/1.16/reference/routines.statistics.html\n",
        "\n",
        "e\n",
        "\n",
        "https://numpy.org/doc/1.16/reference/routines.math.html"
      ],
      "metadata": {
        "id": "fecskvX-PJB7"
      }
    },
    {
      "cell_type": "code",
      "source": [
        "anos = np.loadtxt(fname = \"/content/carros-anos.txt\", dtype = int)\n",
        "km = np.loadtxt(fname = \"/content/carros-km.txt\")\n",
        "valor = np.loadtxt(fname = \"/content/carros-valor.txt\")"
      ],
      "metadata": {
        "id": "AX2i-OgylFfo"
      },
      "execution_count": 45,
      "outputs": []
    },
    {
      "cell_type": "code",
      "source": [
        "anos.shape"
      ],
      "metadata": {
        "colab": {
          "base_uri": "https://localhost:8080/"
        },
        "id": "7Bz_cU8iPMsU",
        "outputId": "e2a375a2-a12e-40a8-e49f-1a44b4839ec1"
      },
      "execution_count": 46,
      "outputs": [
        {
          "output_type": "execute_result",
          "data": {
            "text/plain": [
              "(258,)"
            ]
          },
          "metadata": {},
          "execution_count": 46
        }
      ]
    },
    {
      "cell_type": "markdown",
      "source": [
        "Queremos agora juntar os nossos arrays, e o Numpy nos oferece uma funcionalidade que permitirá fazermos isso de maneira bem simples: o método column_stack(), que transforma arrays unidimensionais em colunas de um array bidimensional."
      ],
      "metadata": {
        "id": "pDxMAILtnh71"
      }
    },
    {
      "cell_type": "markdown",
      "source": [
        "https://numpy.org/doc/1.16/reference/generated/numpy.column_stack.html"
      ],
      "metadata": {
        "id": "G-wjbm60PPWa"
      }
    },
    {
      "cell_type": "code",
      "source": [
        "dataset = np.column_stack((anos, km, valor))\n",
        "dataset"
      ],
      "metadata": {
        "colab": {
          "base_uri": "https://localhost:8080/"
        },
        "id": "1bZVH5eLPSm_",
        "outputId": "8c2996ff-79c4-4b59-ca07-290b199e90f1"
      },
      "execution_count": 47,
      "outputs": [
        {
          "output_type": "execute_result",
          "data": {
            "text/plain": [
              "array([[2.0030000e+03, 4.4410000e+04, 8.8078640e+04],\n",
              "       [1.9910000e+03, 5.7120000e+03, 1.0616194e+05],\n",
              "       [1.9900000e+03, 3.7123000e+04, 7.2832160e+04],\n",
              "       [2.0190000e+03, 0.0000000e+00, 1.2454907e+05],\n",
              "       [2.0060000e+03, 2.5757000e+04, 9.2612100e+04],\n",
              "       [2.0120000e+03, 1.0728000e+04, 9.7497730e+04],\n",
              "       [2.0190000e+03, 0.0000000e+00, 5.6445200e+04],\n",
              "       [2.0090000e+03, 7.7599000e+04, 1.1231044e+05],\n",
              "       [2.0100000e+03, 9.9197000e+04, 1.2071627e+05],\n",
              "       [2.0110000e+03, 3.7978000e+04, 7.6566490e+04],\n",
              "       [2.0020000e+03, 1.2859000e+04, 7.1647590e+04],\n",
              "       [2.0070000e+03, 8.0520000e+03, 7.3919530e+04],\n",
              "       [2.0010000e+03, 8.9773000e+04, 1.1273299e+05],\n",
              "       [2.0190000e+03, 0.0000000e+00, 5.3183380e+04],\n",
              "       [2.0090000e+03, 4.1457000e+04, 1.2748842e+05],\n",
              "       [2.0160000e+03, 1.1560700e+05, 5.9910400e+04],\n",
              "       [2.0120000e+03, 4.6449000e+04, 6.1118590e+04],\n",
              "       [2.0190000e+03, 0.0000000e+00, 8.8552390e+04],\n",
              "       [2.0160000e+03, 3.7086000e+04, 6.2696690e+04],\n",
              "       [2.0170000e+03, 1.5173000e+04, 1.0172630e+05],\n",
              "       [2.0020000e+03, 1.0119300e+05, 1.0614738e+05],\n",
              "       [2.0190000e+03, 0.0000000e+00, 9.4564400e+04],\n",
              "       [1.9940000e+03, 9.8079000e+04, 1.3352984e+05],\n",
              "       [1.9910000e+03, 1.0295900e+05, 1.2568465e+05],\n",
              "       [2.0190000e+03, 0.0000000e+00, 1.2159621e+05],\n",
              "       [2.0190000e+03, 0.0000000e+00, 7.1367100e+04],\n",
              "       [2.0160000e+03, 5.7950000e+03, 9.5347750e+04],\n",
              "       [2.0190000e+03, 0.0000000e+00, 1.0543284e+05],\n",
              "       [2.0020000e+03, 5.8848000e+04, 5.7045270e+04],\n",
              "       [1.9910000e+03, 9.4381000e+04, 1.2043270e+05],\n",
              "       [1.9970000e+03, 3.0163000e+04, 7.0707200e+04],\n",
              "       [1.9950000e+03, 5.3332000e+04, 6.9105180e+04],\n",
              "       [2.0180000e+03, 1.7720000e+04, 5.9358690e+04],\n",
              "       [1.9910000e+03, 3.3808000e+04, 6.5955400e+04],\n",
              "       [2.0140000e+03, 9.0684000e+04, 6.0017030e+04],\n",
              "       [1.9950000e+03, 4.3975000e+04, 1.1890952e+05],\n",
              "       [2.0190000e+03, 0.0000000e+00, 5.1606590e+04],\n",
              "       [2.0190000e+03, 0.0000000e+00, 1.2328187e+05],\n",
              "       [2.0090000e+03, 5.5260000e+03, 6.9770180e+04],\n",
              "       [2.0190000e+03, 0.0000000e+00, 1.0260954e+05],\n",
              "       [2.0130000e+03, 9.3415000e+04, 6.7997190e+04],\n",
              "       [2.0030000e+03, 4.0762000e+04, 1.3523529e+05],\n",
              "       [2.0190000e+03, 0.0000000e+00, 8.6641340e+04],\n",
              "       [2.0020000e+03, 8.6302000e+04, 1.3681839e+05],\n",
              "       [2.0190000e+03, 0.0000000e+00, 1.1762673e+05],\n",
              "       [2.0020000e+03, 9.7550000e+03, 5.6208700e+04],\n",
              "       [2.0040000e+03, 6.9945000e+04, 8.4222650e+04],\n",
              "       [2.0010000e+03, 2.3950000e+03, 9.0781650e+04],\n",
              "       [2.0190000e+03, 0.0000000e+00, 6.4701100e+04],\n",
              "       [2.0030000e+03, 8.0349000e+04, 1.2635049e+05],\n",
              "       [2.0090000e+03, 8.5554000e+04, 1.4815289e+05],\n",
              "       [2.0060000e+03, 5.0496000e+04, 1.3229883e+05],\n",
              "       [2.0000000e+03, 6.7716000e+04, 1.3762763e+05],\n",
              "       [2.0060000e+03, 9.3947000e+04, 8.0422710e+04],\n",
              "       [2.0100000e+03, 3.5345000e+04, 5.6373990e+04],\n",
              "       [1.9940000e+03, 8.1007000e+04, 7.0846030e+04],\n",
              "       [2.0070000e+03, 1.1951300e+05, 1.2869423e+05],\n",
              "       [2.0190000e+03, 0.0000000e+00, 1.3332919e+05],\n",
              "       [2.0190000e+03, 0.0000000e+00, 1.3196143e+05],\n",
              "       [2.0190000e+03, 0.0000000e+00, 1.1203327e+05],\n",
              "       [2.0190000e+03, 0.0000000e+00, 8.1399350e+04],\n",
              "       [2.0190000e+03, 0.0000000e+00, 9.7163100e+04],\n",
              "       [2.0170000e+03, 1.1889500e+05, 6.6007160e+04],\n",
              "       [2.0110000e+03, 4.8509000e+04, 1.2877622e+05],\n",
              "       [2.0010000e+03, 1.0091200e+05, 1.4262302e+05],\n",
              "       [1.9960000e+03, 9.5649000e+04, 1.3693013e+05],\n",
              "       [2.0190000e+03, 0.0000000e+00, 6.6526610e+04],\n",
              "       [1.9940000e+03, 9.0495000e+04, 1.1415487e+05],\n",
              "       [2.0190000e+03, 0.0000000e+00, 1.4239275e+05],\n",
              "       [2.0070000e+03, 2.9132000e+04, 1.4671691e+05],\n",
              "       [1.9940000e+03, 2.3802000e+04, 1.2248568e+05],\n",
              "       [2.0070000e+03, 8.4992000e+04, 9.7951030e+04],\n",
              "       [1.9970000e+03, 5.4395000e+04, 7.8283490e+04],\n",
              "       [2.0060000e+03, 2.6731000e+04, 8.3434040e+04],\n",
              "       [2.0130000e+03, 4.4329000e+04, 7.7836230e+04],\n",
              "       [1.9940000e+03, 1.1823600e+05, 6.0813920e+04],\n",
              "       [2.0080000e+03, 1.1380800e+05, 9.1353860e+04],\n",
              "       [2.0080000e+03, 6.1000000e+02, 1.1628121e+05],\n",
              "       [2.0190000e+03, 0.0000000e+00, 1.4519770e+05],\n",
              "       [2.0190000e+03, 0.0000000e+00, 5.0742100e+04],\n",
              "       [1.9990000e+03, 1.2887000e+04, 7.3033530e+04],\n",
              "       [2.0070000e+03, 7.9607000e+04, 5.4332870e+04],\n",
              "       [1.9930000e+03, 9.0924000e+04, 5.2207450e+04],\n",
              "       [1.9950000e+03, 4.2733000e+04, 6.3578500e+04],\n",
              "       [2.0190000e+03, 0.0000000e+00, 6.4507720e+04],\n",
              "       [2.0190000e+03, 0.0000000e+00, 1.1507559e+05],\n",
              "       [2.0160000e+03, 1.1771400e+05, 1.3303060e+05],\n",
              "       [2.0110000e+03, 1.1388500e+05, 1.4159186e+05],\n",
              "       [2.0190000e+03, 0.0000000e+00, 1.0038028e+05],\n",
              "       [2.0020000e+03, 3.0511000e+04, 9.6369040e+04],\n",
              "       [2.0130000e+03, 7.4867000e+04, 1.4260384e+05],\n",
              "       [2.0170000e+03, 1.1976000e+05, 1.1770967e+05],\n",
              "       [2.0160000e+03, 8.3560000e+03, 1.0224154e+05],\n",
              "       [2.0080000e+03, 6.4247000e+04, 9.6065380e+04],\n",
              "       [2.0180000e+03, 8.8661000e+04, 5.3894610e+04],\n",
              "       [2.0030000e+03, 4.5390000e+03, 1.2391178e+05],\n",
              "       [2.0030000e+03, 1.1011600e+05, 1.0199635e+05],\n",
              "       [2.0040000e+03, 3.3215000e+04, 8.3431660e+04],\n",
              "       [2.0100000e+03, 9.2001000e+04, 1.2297563e+05],\n",
              "       [2.0190000e+03, 0.0000000e+00, 9.3227730e+04],\n",
              "       [2.0060000e+03, 8.1708000e+04, 5.8762650e+04],\n",
              "       [2.0010000e+03, 7.0641000e+04, 1.3954967e+05],\n",
              "       [2.0190000e+03, 0.0000000e+00, 1.2201642e+05],\n",
              "       [2.0150000e+03, 9.1277000e+04, 7.2731980e+04],\n",
              "       [2.0180000e+03, 2.6544000e+04, 8.8416540e+04],\n",
              "       [2.0170000e+03, 5.2596000e+04, 7.3873420e+04],\n",
              "       [1.9920000e+03, 4.7503000e+04, 7.0709340e+04],\n",
              "       [2.0010000e+03, 8.9056000e+04, 1.1530650e+05],\n",
              "       [1.9930000e+03, 2.8834000e+04, 5.5924630e+04],\n",
              "       [1.9950000e+03, 1.1056400e+05, 8.5052260e+04],\n",
              "       [2.0030000e+03, 5.6638000e+04, 5.6646340e+04],\n",
              "       [2.0140000e+03, 1.7357000e+04, 1.3894688e+05],\n",
              "       [2.0080000e+03, 7.4015000e+04, 1.0825672e+05],\n",
              "       [2.0130000e+03, 1.5196000e+04, 5.8979300e+04],\n",
              "       [2.0190000e+03, 0.0000000e+00, 1.1472768e+05],\n",
              "       [2.0170000e+03, 1.0821000e+04, 1.3966148e+05],\n",
              "       [2.0190000e+03, 0.0000000e+00, 8.0382240e+04],\n",
              "       [2.0190000e+03, 0.0000000e+00, 1.4915717e+05],\n",
              "       [2.0060000e+03, 9.5950000e+03, 8.7830410e+04],\n",
              "       [2.0150000e+03, 9.9052000e+04, 1.4356822e+05],\n",
              "       [2.0070000e+03, 5.2389000e+04, 1.3817185e+05],\n",
              "       [2.0050000e+03, 1.1994500e+05, 1.1578495e+05],\n",
              "       [2.0170000e+03, 9.6005000e+04, 1.4650899e+05],\n",
              "       [1.9980000e+03, 3.1639000e+04, 1.3767023e+05],\n",
              "       [2.0190000e+03, 0.0000000e+00, 1.3859727e+05],\n",
              "       [1.9990000e+03, 8.0187000e+04, 1.4762781e+05],\n",
              "       [2.0190000e+03, 0.0000000e+00, 6.2999020e+04],\n",
              "       [2.0090000e+03, 5.8212000e+04, 9.1242440e+04],\n",
              "       [2.0030000e+03, 6.1672000e+04, 1.4948992e+05],\n",
              "       [1.9940000e+03, 3.2017000e+04, 6.3529950e+04],\n",
              "       [2.0190000e+03, 0.0000000e+00, 5.8525410e+04],\n",
              "       [1.9940000e+03, 5.6944000e+04, 9.0345050e+04],\n",
              "       [2.0190000e+03, 0.0000000e+00, 1.4777087e+05],\n",
              "       [2.0150000e+03, 8.6519000e+04, 1.0661771e+05],\n",
              "       [1.9960000e+03, 4.8210000e+03, 1.0492988e+05],\n",
              "       [1.9970000e+03, 1.0102500e+05, 1.0071245e+05],\n",
              "       [1.9930000e+03, 3.0705000e+04, 1.4198293e+05],\n",
              "       [2.0190000e+03, 0.0000000e+00, 1.0403879e+05],\n",
              "       [1.9920000e+03, 3.2555000e+04, 8.8501540e+04],\n",
              "       [1.9950000e+03, 1.0338900e+05, 7.9782020e+04],\n",
              "       [2.0190000e+03, 0.0000000e+00, 8.6224100e+04],\n",
              "       [1.9900000e+03, 5.5289000e+04, 1.0359618e+05],\n",
              "       [2.0190000e+03, 0.0000000e+00, 1.4899647e+05],\n",
              "       [2.0190000e+03, 0.0000000e+00, 6.0948010e+04],\n",
              "       [1.9910000e+03, 1.1593000e+05, 6.9535440e+04],\n",
              "       [1.9900000e+03, 6.6437000e+04, 1.1113033e+05],\n",
              "       [2.0120000e+03, 9.6800000e+04, 6.5847690e+04],\n",
              "       [2.0070000e+03, 1.4237000e+04, 7.8096060e+04],\n",
              "       [2.0130000e+03, 1.9896000e+04, 6.9219890e+04],\n",
              "       [2.0000000e+03, 1.1304500e+05, 1.4411891e+05],\n",
              "       [2.0020000e+03, 1.1494200e+05, 7.7397050e+04],\n",
              "       [1.9960000e+03, 3.1730000e+03, 6.8974250e+04],\n",
              "       [1.9960000e+03, 8.3611000e+04, 1.2523130e+05],\n",
              "       [2.0150000e+03, 2.5356000e+04, 8.5501120e+04],\n",
              "       [1.9930000e+03, 8.8634000e+04, 1.3711621e+05],\n",
              "       [2.0130000e+03, 2.3140000e+03, 1.3882381e+05],\n",
              "       [2.0130000e+03, 2.6270000e+03, 1.1796195e+05],\n",
              "       [2.0090000e+03, 5.2034000e+04, 1.3266232e+05],\n",
              "       [2.0190000e+03, 0.0000000e+00, 1.4640579e+05],\n",
              "       [2.0190000e+03, 0.0000000e+00, 8.1999210e+04],\n",
              "       [2.0020000e+03, 7.9577000e+04, 1.4093460e+05],\n",
              "       [1.9970000e+03, 1.0820100e+05, 8.2366810e+04],\n",
              "       [1.9980000e+03, 7.6453000e+04, 7.0424110e+04],\n",
              "       [2.0040000e+03, 5.7683000e+04, 5.3620310e+04],\n",
              "       [1.9960000e+03, 9.6610000e+04, 7.3389180e+04],\n",
              "       [2.0150000e+03, 1.0900100e+05, 1.1161812e+05],\n",
              "       [2.0160000e+03, 2.6212000e+04, 1.1218737e+05],\n",
              "       [2.0050000e+03, 4.5971000e+04, 1.2081257e+05],\n",
              "       [1.9990000e+03, 4.9182000e+04, 1.1603104e+05],\n",
              "       [1.9950000e+03, 4.9907000e+04, 1.2539811e+05],\n",
              "       [1.9930000e+03, 3.8620000e+04, 7.6101470e+04],\n",
              "       [2.0040000e+03, 6.0996000e+04, 7.5263240e+04],\n",
              "       [2.0130000e+03, 7.3914000e+04, 1.4738776e+05],\n",
              "       [1.9980000e+03, 1.0739200e+05, 8.5311400e+04],\n",
              "       [2.0180000e+03, 9.1460000e+03, 5.4388110e+04],\n",
              "       [2.0190000e+03, 0.0000000e+00, 1.2415665e+05],\n",
              "       [2.0180000e+03, 1.7924000e+04, 1.4620334e+05],\n",
              "       [2.0190000e+03, 0.0000000e+00, 5.6453940e+04],\n",
              "       [1.9900000e+03, 1.1694900e+05, 6.8873790e+04],\n",
              "       [2.0090000e+03, 2.0476000e+04, 9.1667610e+04],\n",
              "       [1.9900000e+03, 5.2804000e+04, 9.3776520e+04],\n",
              "       [2.0060000e+03, 8.8490000e+03, 6.6433820e+04],\n",
              "       [2.0020000e+03, 9.1724000e+04, 1.0905927e+05],\n",
              "       [1.9910000e+03, 3.2056000e+04, 1.2206997e+05],\n",
              "       [1.9920000e+03, 7.4886000e+04, 1.1309032e+05],\n",
              "       [2.0190000e+03, 0.0000000e+00, 8.9401100e+04],\n",
              "       [2.0190000e+03, 0.0000000e+00, 5.6842790e+04],\n",
              "       [2.0050000e+03, 5.2189000e+04, 1.4667671e+05],\n",
              "       [2.0100000e+03, 8.3559000e+04, 8.9511960e+04],\n",
              "       [2.0190000e+03, 0.0000000e+00, 9.7290180e+04],\n",
              "       [2.0160000e+03, 2.0328000e+04, 1.2067356e+05],\n",
              "       [2.0190000e+03, 0.0000000e+00, 1.1443494e+05],\n",
              "       [2.0100000e+03, 7.5577000e+04, 1.3954669e+05],\n",
              "       [1.9940000e+03, 3.3659000e+04, 9.5078160e+04],\n",
              "       [2.0010000e+03, 1.0434100e+05, 6.8091770e+04],\n",
              "       [2.0140000e+03, 2.5510000e+04, 6.1496970e+04],\n",
              "       [1.9960000e+03, 1.8965000e+04, 1.3966930e+05],\n",
              "       [1.9930000e+03, 8.7161000e+04, 8.0661390e+04],\n",
              "       [1.9930000e+03, 6.6520000e+03, 6.1783650e+04],\n",
              "       [2.0010000e+03, 5.5738000e+04, 5.2805910e+04],\n",
              "       [2.0190000e+03, 0.0000000e+00, 1.2702475e+05],\n",
              "       [2.0190000e+03, 0.0000000e+00, 1.3554300e+05],\n",
              "       [2.0190000e+03, 0.0000000e+00, 1.2170873e+05],\n",
              "       [2.0070000e+03, 6.4320000e+04, 1.0734268e+05],\n",
              "       [2.0190000e+03, 0.0000000e+00, 5.7888100e+04],\n",
              "       [2.0160000e+03, 6.8678000e+04, 1.1816148e+05],\n",
              "       [2.0140000e+03, 7.1697000e+04, 1.4249906e+05],\n",
              "       [2.0190000e+03, 0.0000000e+00, 1.2839611e+05],\n",
              "       [2.0150000e+03, 3.4783000e+04, 1.1235061e+05],\n",
              "       [2.0150000e+03, 3.3772000e+04, 1.2466138e+05],\n",
              "       [1.9960000e+03, 8.5127000e+04, 5.4263160e+04],\n",
              "       [2.0020000e+03, 1.3606000e+04, 6.2041320e+04],\n",
              "       [2.0050000e+03, 3.5647000e+04, 1.2929611e+05],\n",
              "       [1.9950000e+03, 9.5128000e+04, 6.0998330e+04],\n",
              "       [1.9990000e+03, 1.4046000e+04, 5.8008500e+04],\n",
              "       [2.0050000e+03, 4.1194000e+04, 8.2304190e+04],\n",
              "       [2.0190000e+03, 0.0000000e+00, 1.1453174e+05],\n",
              "       [1.9970000e+03, 9.6100000e+04, 1.2856561e+05],\n",
              "       [1.9900000e+03, 1.0390000e+05, 1.2648826e+05],\n",
              "       [2.0010000e+03, 4.3814000e+04, 1.1907455e+05],\n",
              "       [2.0130000e+03, 2.4638000e+04, 1.3023804e+05],\n",
              "       [2.0190000e+03, 0.0000000e+00, 1.1576017e+05],\n",
              "       [2.0170000e+03, 1.1096600e+05, 1.2124800e+05],\n",
              "       [2.0110000e+03, 1.5987000e+04, 9.8156350e+04],\n",
              "       [2.0050000e+03, 5.3369000e+04, 1.1214680e+05],\n",
              "       [2.0070000e+03, 1.0077000e+04, 1.0272963e+05],\n",
              "       [1.9930000e+03, 7.1544000e+04, 1.4108335e+05],\n",
              "       [1.9910000e+03, 1.0700000e+02, 1.0296876e+05],\n",
              "       [1.9910000e+03, 8.3940000e+03, 7.6310010e+04],\n",
              "       [1.9970000e+03, 4.1498000e+04, 1.2048174e+05],\n",
              "       [2.0000000e+03, 1.1600200e+05, 5.4559180e+04],\n",
              "       [2.0070000e+03, 1.0085800e+05, 9.2957640e+04],\n",
              "       [2.0060000e+03, 6.7475000e+04, 1.2781006e+05],\n",
              "       [2.0150000e+03, 8.4970000e+03, 7.3311750e+04],\n",
              "       [2.0080000e+03, 4.4200000e+03, 6.5138030e+04],\n",
              "       [2.0190000e+03, 0.0000000e+00, 9.0141470e+04],\n",
              "       [1.9960000e+03, 5.8537000e+04, 7.1160360e+04],\n",
              "       [2.0190000e+03, 0.0000000e+00, 6.7539790e+04],\n",
              "       [2.0190000e+03, 0.0000000e+00, 6.7664860e+04],\n",
              "       [2.0140000e+03, 1.1201600e+05, 6.8652160e+04],\n",
              "       [2.0040000e+03, 9.1840000e+04, 1.1472874e+05],\n",
              "       [2.0080000e+03, 1.1278700e+05, 1.4164508e+05],\n",
              "       [2.0190000e+03, 0.0000000e+00, 1.2624784e+05],\n",
              "       [2.0190000e+03, 0.0000000e+00, 1.2885221e+05],\n",
              "       [2.0120000e+03, 9.2930000e+03, 1.3238476e+05],\n",
              "       [2.0190000e+03, 0.0000000e+00, 1.2941533e+05],\n",
              "       [1.9960000e+03, 5.5083000e+04, 8.9536820e+04],\n",
              "       [2.0110000e+03, 4.8796000e+04, 8.7975300e+04],\n",
              "       [2.0190000e+03, 0.0000000e+00, 7.7675790e+04],\n",
              "       [2.0100000e+03, 8.9685000e+04, 5.8881670e+04],\n",
              "       [2.0070000e+03, 8.5384000e+04, 5.5081990e+04],\n",
              "       [1.9940000e+03, 9.8108000e+04, 1.1882644e+05],\n",
              "       [2.0070000e+03, 7.1280000e+04, 1.3762762e+05],\n",
              "       [2.0140000e+03, 2.7505000e+04, 5.1759580e+04],\n",
              "       [1.9910000e+03, 2.9981000e+04, 5.1667060e+04],\n",
              "       [2.0020000e+03, 5.2637000e+04, 6.8934030e+04],\n",
              "       [1.9960000e+03, 7.6850000e+03, 1.2211090e+05],\n",
              "       [1.9920000e+03, 5.0188000e+04, 9.0381470e+04]])"
            ]
          },
          "metadata": {},
          "execution_count": 47
        }
      ]
    },
    {
      "cell_type": "code",
      "source": [
        "dataset.shape"
      ],
      "metadata": {
        "colab": {
          "base_uri": "https://localhost:8080/"
        },
        "id": "P82-KansPTCg",
        "outputId": "27f5a68b-44ee-4303-e0aa-08bb2d92d5e2"
      },
      "execution_count": 48,
      "outputs": [
        {
          "output_type": "execute_result",
          "data": {
            "text/plain": [
              "(258, 3)"
            ]
          },
          "metadata": {},
          "execution_count": 48
        }
      ]
    },
    {
      "cell_type": "markdown",
      "source": [
        "## *np.mean()*\n",
        "\n",
        "Retorna a média dos elementos do array ao longo do eixo especificado."
      ],
      "metadata": {
        "id": "y34GwalGPTlE"
      }
    },
    {
      "cell_type": "code",
      "source": [
        "np.mean(dataset, axis = 0)"
      ],
      "metadata": {
        "colab": {
          "base_uri": "https://localhost:8080/"
        },
        "id": "7w95XDWdPWNU",
        "outputId": "8ada2360-7612-406e-a088-d9cfdd9652f1"
      },
      "execution_count": 50,
      "outputs": [
        {
          "output_type": "execute_result",
          "data": {
            "text/plain": [
              "array([ 2007.51162791, 44499.41472868, 98960.51310078])"
            ]
          },
          "metadata": {},
          "execution_count": 50
        }
      ]
    },
    {
      "cell_type": "code",
      "source": [
        "np.mean(dataset, axis = 1)"
      ],
      "metadata": {
        "colab": {
          "base_uri": "https://localhost:8080/"
        },
        "id": "r1nd6a_JPWuu",
        "outputId": "5a3eeb52-3dce-42b5-8903-3e72e820debf"
      },
      "execution_count": 51,
      "outputs": [
        {
          "output_type": "execute_result",
          "data": {
            "text/plain": [
              "array([44830.54666667, 37954.98      , 37315.05333333, 42189.35666667,\n",
              "       40125.03333333, 36745.91      , 19488.06666667, 63972.81333333,\n",
              "       73974.42333333, 38851.83      , 28836.19666667, 27992.84333333,\n",
              "       68168.99666667, 18400.79333333, 56984.80666667, 59177.8       ,\n",
              "       36526.53      , 30190.46333333, 33932.89666667, 39638.76666667,\n",
              "       69780.79333333, 32194.46666667, 77867.61333333, 76878.21666667,\n",
              "       41205.07      , 24462.03333333, 34386.25      , 35817.28      ,\n",
              "       39298.42333333, 72268.23333333, 34289.06666667, 41477.39333333,\n",
              "       26365.56333333, 33918.13333333, 50905.01      , 54959.84      ,\n",
              "       17875.19666667, 41766.95666667, 25768.39333333, 34876.18      ,\n",
              "       54475.06333333, 59333.43      , 29553.44666667, 75040.79666667,\n",
              "       39881.91      , 22655.23333333, 52057.21666667, 31725.88333333,\n",
              "       22240.03333333, 69567.49666667, 78571.96333333, 61600.27666667,\n",
              "       69114.54333333, 58791.90333333, 31242.99666667, 51282.34333333,\n",
              "       83404.74333333, 45116.06333333, 44660.14333333, 38017.42333333,\n",
              "       27806.11666667, 33060.7       , 62306.38666667, 59765.40666667,\n",
              "       81845.34      , 78191.71      , 22848.53666667, 68881.29      ,\n",
              "       48137.25      , 59285.30333333, 49427.22666667, 61650.01      ,\n",
              "       44891.83      , 37390.34666667, 41392.74333333, 60347.97333333,\n",
              "       69056.62      , 39633.07      , 49072.23333333, 17587.03333333,\n",
              "       29306.51      , 45315.62333333, 48374.81666667, 36102.16666667,\n",
              "       22175.57333333, 39031.53      , 84253.53333333, 85829.28666667,\n",
              "       34133.09333333, 42960.68      , 73161.28      , 79828.89      ,\n",
              "       37537.84666667, 54106.79333333, 48191.20333333, 43484.59333333,\n",
              "       71371.78333333, 39550.22      , 72328.87666667, 31748.91      ,\n",
              "       47492.21666667, 70730.55666667, 41345.14      , 55341.32666667,\n",
              "       38992.84666667, 42828.80666667, 40068.11333333, 68787.83333333,\n",
              "       28917.21      , 65870.42      , 38429.11333333, 52772.62666667,\n",
              "       61426.57333333, 25396.1       , 38915.56      , 50833.16      ,\n",
              "       27467.08      , 50392.05666667, 33143.80333333, 81545.07333333,\n",
              "       64189.28333333, 79244.98333333, 81510.33      , 57102.41      ,\n",
              "       46872.09      , 76604.60333333, 21672.67333333, 50487.81333333,\n",
              "       71054.97333333, 32513.65      , 20181.47      , 49761.01666667,\n",
              "       49929.95666667, 65050.57      , 37248.96      , 67911.48333333,\n",
              "       58226.97666667, 35352.59666667, 41016.18      , 61722.00666667,\n",
              "       29414.36666667, 53625.06      , 50338.49      , 20989.00333333,\n",
              "       62485.48      , 59852.44333333, 54886.56333333, 31446.68666667,\n",
              "       30376.29666667, 86387.97      , 64780.35      , 24714.41666667,\n",
              "       70279.43333333, 37624.04      , 75914.40333333, 47716.93666667,\n",
              "       40867.31666667, 62235.10666667, 49474.93      , 28006.07      ,\n",
              "       74171.2       , 64188.27      , 49625.03666667, 37769.10333333,\n",
              "       57331.72666667, 74211.37333333, 46805.12333333, 56262.85666667,\n",
              "       55737.34666667, 59100.03666667, 38904.82333333, 46087.74666667,\n",
              "       74438.25333333, 64900.46666667, 21850.70333333, 42058.55      ,\n",
              "       55381.78      , 19490.98      , 62604.26333333, 38050.87      ,\n",
              "       49523.50666667, 25762.94      , 67595.09      , 52038.99      ,\n",
              "       63322.77333333, 30473.36666667, 19620.59666667, 66956.90333333,\n",
              "       58360.32      , 33103.06      , 47672.52      , 38817.98      ,\n",
              "       72377.89666667, 43577.05333333, 58144.59      , 29673.65666667,\n",
              "       53543.43333333, 56605.13      , 23476.21666667, 36848.30333333,\n",
              "       43014.58333333, 45854.        , 41242.57666667, 57889.89333333,\n",
              "       19969.03333333, 62951.82666667, 72070.02      , 43471.70333333,\n",
              "       49716.20333333, 53482.79333333, 47128.72      , 25883.10666667,\n",
              "       55649.37      , 52707.11      , 24684.5       , 41834.39666667,\n",
              "       38850.24666667, 75554.20333333, 77459.42      , 54963.18333333,\n",
              "       52296.34666667, 39259.72333333, 78077.        , 38718.11666667,\n",
              "       55840.26666667, 38271.21      , 71540.11666667, 35022.25333333,\n",
              "       28898.33666667, 54658.91333333, 57520.39333333, 65274.21333333,\n",
              "       65763.68666667, 27941.25      , 23855.34333333, 30720.15666667,\n",
              "       43897.78666667, 23186.26333333, 23227.95333333, 60894.05333333,\n",
              "       69524.24666667, 85480.02666667, 42755.61333333, 43623.73666667,\n",
              "       47896.58666667, 43811.44333333, 48871.94      , 46260.76666667,\n",
              "       26564.93      , 50192.22333333, 47490.99666667, 72976.14666667,\n",
              "       70304.87333333, 27092.86      , 27879.68666667, 41191.01      ,\n",
              "       43930.63333333, 47520.49      ])"
            ]
          },
          "metadata": {},
          "execution_count": 51
        }
      ]
    },
    {
      "cell_type": "code",
      "source": [
        "np.mean(dataset[:, 1])"
      ],
      "metadata": {
        "colab": {
          "base_uri": "https://localhost:8080/"
        },
        "id": "x9eqdLeDPWyk",
        "outputId": "96117737-7c24-40b8-b585-2e3fb8d4cdae"
      },
      "execution_count": 52,
      "outputs": [
        {
          "output_type": "execute_result",
          "data": {
            "text/plain": [
              "44499.41472868217"
            ]
          },
          "metadata": {},
          "execution_count": 52
        }
      ]
    },
    {
      "cell_type": "code",
      "source": [
        "np.mean(dataset[:, 2])"
      ],
      "metadata": {
        "colab": {
          "base_uri": "https://localhost:8080/"
        },
        "id": "j0DDtQYrPW22",
        "outputId": "070f9d9e-e900-497d-81e7-b18992ede746"
      },
      "execution_count": 53,
      "outputs": [
        {
          "output_type": "execute_result",
          "data": {
            "text/plain": [
              "98960.51310077519"
            ]
          },
          "metadata": {},
          "execution_count": 53
        }
      ]
    },
    {
      "cell_type": "markdown",
      "source": [
        "## *np.std()*\n",
        "\n",
        "Retorna o desvio padrão dos elementos do array ao longo do eixo especificado."
      ],
      "metadata": {
        "id": "pb03rxFePXPz"
      }
    },
    {
      "cell_type": "code",
      "source": [
        "np.std(dataset[:, 2])"
      ],
      "metadata": {
        "colab": {
          "base_uri": "https://localhost:8080/"
        },
        "id": "Zjb_VVulPZm0",
        "outputId": "d80d0180-e409-4408-eb51-a2f2d43408ab"
      },
      "execution_count": 55,
      "outputs": [
        {
          "output_type": "execute_result",
          "data": {
            "text/plain": [
              "29754.101150388564"
            ]
          },
          "metadata": {},
          "execution_count": 55
        }
      ]
    },
    {
      "cell_type": "markdown",
      "source": [
        "## *ndarray.sum()*\n",
        "\n",
        "Retorna a soma dos elementos do array ao longo do eixo especificado."
      ],
      "metadata": {
        "id": "a_aFZ-2GPam7"
      }
    },
    {
      "cell_type": "code",
      "source": [
        "dataset.sum(axis = 0)"
      ],
      "metadata": {
        "colab": {
          "base_uri": "https://localhost:8080/"
        },
        "id": "ccqWDmDhPc7z",
        "outputId": "9d0a0a2b-e317-4da1-8a56-b8ba47901394"
      },
      "execution_count": 56,
      "outputs": [
        {
          "output_type": "execute_result",
          "data": {
            "text/plain": [
              "array([  517938.        , 11480849.        , 25531812.37999999])"
            ]
          },
          "metadata": {},
          "execution_count": 56
        }
      ]
    },
    {
      "cell_type": "code",
      "source": [
        "dataset[:, 1].sum()"
      ],
      "metadata": {
        "colab": {
          "base_uri": "https://localhost:8080/"
        },
        "id": "JrOSQQY7Pde2",
        "outputId": "19162ad9-b38b-4f18-af09-64966ca396a4"
      },
      "execution_count": 58,
      "outputs": [
        {
          "output_type": "execute_result",
          "data": {
            "text/plain": [
              "11480849.0"
            ]
          },
          "metadata": {},
          "execution_count": 58
        }
      ]
    },
    {
      "cell_type": "markdown",
      "source": [
        "## *np.sum()*\n",
        "\n",
        "Retorna a soma dos elementos do array ao longo do eixo especificado."
      ],
      "metadata": {
        "id": "VVnyJj3SPd6e"
      }
    },
    {
      "cell_type": "code",
      "source": [
        "np.sum(dataset, axis = 0)"
      ],
      "metadata": {
        "colab": {
          "base_uri": "https://localhost:8080/"
        },
        "id": "qcydjB49Phv2",
        "outputId": "5541ece1-cd7e-41c6-83e7-2a3b8e5c927b"
      },
      "execution_count": 59,
      "outputs": [
        {
          "output_type": "execute_result",
          "data": {
            "text/plain": [
              "array([  517938.        , 11480849.        , 25531812.37999999])"
            ]
          },
          "metadata": {},
          "execution_count": 59
        }
      ]
    },
    {
      "cell_type": "code",
      "source": [
        "np.sum(dataset[:, 2])"
      ],
      "metadata": {
        "colab": {
          "base_uri": "https://localhost:8080/"
        },
        "id": "Eg5aAI1hPiSQ",
        "outputId": "42e6107f-351d-4c46-9dcc-422d840b7059"
      },
      "execution_count": 61,
      "outputs": [
        {
          "output_type": "execute_result",
          "data": {
            "text/plain": [
              "25531812.38"
            ]
          },
          "metadata": {},
          "execution_count": 61
        }
      ]
    }
  ]
}